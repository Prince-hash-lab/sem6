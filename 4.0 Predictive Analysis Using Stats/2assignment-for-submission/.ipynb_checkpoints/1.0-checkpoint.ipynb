{
 "cells": [
  {
   "cell_type": "code",
   "execution_count": 3,
   "id": "ac9382f2",
   "metadata": {},
   "outputs": [
    {
     "data": {
      "text/html": [
       "<table>\n",
       "<thead><tr><th scope=col>Peptide.Sequence</th><th scope=col>Target</th></tr></thead>\n",
       "<tbody>\n",
       "\t<tr><td>TLYGPQLSQKIVQIN         </td><td>0                       </td></tr>\n",
       "\t<tr><td>PSWGLVVTMFAWGYLLDHVGERMV</td><td>1                       </td></tr>\n",
       "\t<tr><td>TMIKTAVAVV              </td><td>1                       </td></tr>\n",
       "\t<tr><td>AGISSLIIDPNPMFV         </td><td>1                       </td></tr>\n",
       "\t<tr><td>DPMIVGVLFIEIHMM         </td><td>0                       </td></tr>\n",
       "\t<tr><td>ELNNALQNLARTISE         </td><td>1                       </td></tr>\n",
       "</tbody>\n",
       "</table>\n"
      ],
      "text/latex": [
       "\\begin{tabular}{r|ll}\n",
       " Peptide.Sequence & Target\\\\\n",
       "\\hline\n",
       "\t TLYGPQLSQKIVQIN          & 0                       \\\\\n",
       "\t PSWGLVVTMFAWGYLLDHVGERMV & 1                       \\\\\n",
       "\t TMIKTAVAVV               & 1                       \\\\\n",
       "\t AGISSLIIDPNPMFV          & 1                       \\\\\n",
       "\t DPMIVGVLFIEIHMM          & 0                       \\\\\n",
       "\t ELNNALQNLARTISE          & 1                       \\\\\n",
       "\\end{tabular}\n"
      ],
      "text/markdown": [
       "\n",
       "| Peptide.Sequence | Target |\n",
       "|---|---|\n",
       "| TLYGPQLSQKIVQIN          | 0                        |\n",
       "| PSWGLVVTMFAWGYLLDHVGERMV | 1                        |\n",
       "| TMIKTAVAVV               | 1                        |\n",
       "| AGISSLIIDPNPMFV          | 1                        |\n",
       "| DPMIVGVLFIEIHMM          | 0                        |\n",
       "| ELNNALQNLARTISE          | 1                        |\n",
       "\n"
      ],
      "text/plain": [
       "  Peptide.Sequence         Target\n",
       "1 TLYGPQLSQKIVQIN          0     \n",
       "2 PSWGLVVTMFAWGYLLDHVGERMV 1     \n",
       "3 TMIKTAVAVV               1     \n",
       "4 AGISSLIIDPNPMFV          1     \n",
       "5 DPMIVGVLFIEIHMM          0     \n",
       "6 ELNNALQNLARTISE          1     "
      ]
     },
     "metadata": {},
     "output_type": "display_data"
    }
   ],
   "source": [
    "df=read.csv(\"input.csv\")\n",
    "head(df)"
   ]
  },
  {
   "cell_type": "code",
   "execution_count": 6,
   "id": "17dff2b3",
   "metadata": {},
   "outputs": [
    {
     "ename": "ERROR",
     "evalue": "Error in fprint(df): could not find function \"fprint\"\n",
     "output_type": "error",
     "traceback": [
      "Error in fprint(df): could not find function \"fprint\"\nTraceback:\n"
     ]
    }
   ],
   "source": []
  },
  {
   "cell_type": "code",
   "execution_count": null,
   "id": "47ea07f2",
   "metadata": {},
   "outputs": [],
   "source": []
  }
 ],
 "metadata": {
  "kernelspec": {
   "display_name": "R",
   "language": "R",
   "name": "ir"
  },
  "language_info": {
   "codemirror_mode": "r",
   "file_extension": ".r",
   "mimetype": "text/x-r-source",
   "name": "R",
   "pygments_lexer": "r",
   "version": "3.6.1"
  }
 },
 "nbformat": 4,
 "nbformat_minor": 5
}
