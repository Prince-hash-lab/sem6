{
 "cells": [
  {
   "cell_type": "markdown",
   "id": "853e1d2b",
   "metadata": {},
   "source": [
    "# chapter 11\n"
   ]
  },
  {
   "cell_type": "code",
   "execution_count": 1,
   "id": "f9e7cd26",
   "metadata": {},
   "outputs": [],
   "source": [
    "# build the matrix\n",
    "theMatrix <- matrix(1:9, nrow=3)"
   ]
  },
  {
   "cell_type": "code",
   "execution_count": 2,
   "id": "be9b44b4",
   "metadata": {},
   "outputs": [
    {
     "data": {
      "text/html": [
       "<table>\n",
       "<tbody>\n",
       "\t<tr><td>1</td><td>4</td><td>7</td></tr>\n",
       "\t<tr><td>2</td><td>5</td><td>8</td></tr>\n",
       "\t<tr><td>3</td><td>6</td><td>9</td></tr>\n",
       "</tbody>\n",
       "</table>\n"
      ],
      "text/latex": [
       "\\begin{tabular}{lll}\n",
       "\t 1 & 4 & 7\\\\\n",
       "\t 2 & 5 & 8\\\\\n",
       "\t 3 & 6 & 9\\\\\n",
       "\\end{tabular}\n"
      ],
      "text/markdown": [
       "\n",
       "| 1 | 4 | 7 |\n",
       "| 2 | 5 | 8 |\n",
       "| 3 | 6 | 9 |\n",
       "\n"
      ],
      "text/plain": [
       "     [,1] [,2] [,3]\n",
       "[1,] 1    4    7   \n",
       "[2,] 2    5    8   \n",
       "[3,] 3    6    9   "
      ]
     },
     "metadata": {},
     "output_type": "display_data"
    }
   ],
   "source": [
    "theMatrix"
   ]
  },
  {
   "cell_type": "code",
   "execution_count": 3,
   "id": "a171cd41",
   "metadata": {},
   "outputs": [
    {
     "data": {
      "text/html": [
       "<ol class=list-inline>\n",
       "\t<li>12</li>\n",
       "\t<li>15</li>\n",
       "\t<li>18</li>\n",
       "</ol>\n"
      ],
      "text/latex": [
       "\\begin{enumerate*}\n",
       "\\item 12\n",
       "\\item 15\n",
       "\\item 18\n",
       "\\end{enumerate*}\n"
      ],
      "text/markdown": [
       "1. 12\n",
       "2. 15\n",
       "3. 18\n",
       "\n",
       "\n"
      ],
      "text/plain": [
       "[1] 12 15 18"
      ]
     },
     "metadata": {},
     "output_type": "display_data"
    }
   ],
   "source": [
    "# sum the rows\n",
    "apply(theMatrix, 1, sum)"
   ]
  },
  {
   "cell_type": "code",
   "execution_count": 4,
   "id": "f93dd94d",
   "metadata": {},
   "outputs": [
    {
     "data": {
      "text/html": [
       "<ol class=list-inline>\n",
       "\t<li>6</li>\n",
       "\t<li>15</li>\n",
       "\t<li>24</li>\n",
       "</ol>\n"
      ],
      "text/latex": [
       "\\begin{enumerate*}\n",
       "\\item 6\n",
       "\\item 15\n",
       "\\item 24\n",
       "\\end{enumerate*}\n"
      ],
      "text/markdown": [
       "1. 6\n",
       "2. 15\n",
       "3. 24\n",
       "\n",
       "\n"
      ],
      "text/plain": [
       "[1]  6 15 24"
      ]
     },
     "metadata": {},
     "output_type": "display_data"
    }
   ],
   "source": [
    "apply(theMatrix, 2, sum)"
   ]
  },
  {
   "cell_type": "code",
   "execution_count": 5,
   "id": "3be0ed92",
   "metadata": {},
   "outputs": [
    {
     "data": {
      "text/html": [
       "<ol class=list-inline>\n",
       "\t<li>12</li>\n",
       "\t<li>15</li>\n",
       "\t<li>18</li>\n",
       "</ol>\n"
      ],
      "text/latex": [
       "\\begin{enumerate*}\n",
       "\\item 12\n",
       "\\item 15\n",
       "\\item 18\n",
       "\\end{enumerate*}\n"
      ],
      "text/markdown": [
       "1. 12\n",
       "2. 15\n",
       "3. 18\n",
       "\n",
       "\n"
      ],
      "text/plain": [
       "[1] 12 15 18"
      ]
     },
     "metadata": {},
     "output_type": "display_data"
    }
   ],
   "source": [
    "rowSums(theMatrix)"
   ]
  },
  {
   "cell_type": "code",
   "execution_count": 6,
   "id": "50119afb",
   "metadata": {},
   "outputs": [
    {
     "data": {
      "text/html": [
       "<ol class=list-inline>\n",
       "\t<li>6</li>\n",
       "\t<li>15</li>\n",
       "\t<li>24</li>\n",
       "</ol>\n"
      ],
      "text/latex": [
       "\\begin{enumerate*}\n",
       "\\item 6\n",
       "\\item 15\n",
       "\\item 24\n",
       "\\end{enumerate*}\n"
      ],
      "text/markdown": [
       "1. 6\n",
       "2. 15\n",
       "3. 24\n",
       "\n",
       "\n"
      ],
      "text/plain": [
       "[1]  6 15 24"
      ]
     },
     "metadata": {},
     "output_type": "display_data"
    }
   ],
   "source": [
    "colSums(theMatrix)"
   ]
  },
  {
   "cell_type": "code",
   "execution_count": 7,
   "id": "952de86e",
   "metadata": {},
   "outputs": [
    {
     "data": {
      "text/html": [
       "<ol class=list-inline>\n",
       "\t<li>12</li>\n",
       "\t<li>&lt;NA&gt;</li>\n",
       "\t<li>18</li>\n",
       "</ol>\n"
      ],
      "text/latex": [
       "\\begin{enumerate*}\n",
       "\\item 12\n",
       "\\item <NA>\n",
       "\\item 18\n",
       "\\end{enumerate*}\n"
      ],
      "text/markdown": [
       "1. 12\n",
       "2. &lt;NA&gt;\n",
       "3. 18\n",
       "\n",
       "\n"
      ],
      "text/plain": [
       "[1] 12 NA 18"
      ]
     },
     "metadata": {},
     "output_type": "display_data"
    }
   ],
   "source": [
    "theMatrix[2, 1] <- NA\n",
    "apply(theMatrix, 1, sum)"
   ]
  },
  {
   "cell_type": "code",
   "execution_count": 8,
   "id": "ed1e1765",
   "metadata": {},
   "outputs": [
    {
     "data": {
      "text/html": [
       "<ol class=list-inline>\n",
       "\t<li>12</li>\n",
       "\t<li>13</li>\n",
       "\t<li>18</li>\n",
       "</ol>\n"
      ],
      "text/latex": [
       "\\begin{enumerate*}\n",
       "\\item 12\n",
       "\\item 13\n",
       "\\item 18\n",
       "\\end{enumerate*}\n"
      ],
      "text/markdown": [
       "1. 12\n",
       "2. 13\n",
       "3. 18\n",
       "\n",
       "\n"
      ],
      "text/plain": [
       "[1] 12 13 18"
      ]
     },
     "metadata": {},
     "output_type": "display_data"
    }
   ],
   "source": [
    "apply(theMatrix, 1, sum, na.rm=TRUE)"
   ]
  },
  {
   "cell_type": "code",
   "execution_count": 9,
   "id": "2e3856cd",
   "metadata": {},
   "outputs": [
    {
     "data": {
      "text/html": [
       "<ol class=list-inline>\n",
       "\t<li>12</li>\n",
       "\t<li>&lt;NA&gt;</li>\n",
       "\t<li>18</li>\n",
       "</ol>\n"
      ],
      "text/latex": [
       "\\begin{enumerate*}\n",
       "\\item 12\n",
       "\\item <NA>\n",
       "\\item 18\n",
       "\\end{enumerate*}\n"
      ],
      "text/markdown": [
       "1. 12\n",
       "2. &lt;NA&gt;\n",
       "3. 18\n",
       "\n",
       "\n"
      ],
      "text/plain": [
       "[1] 12 NA 18"
      ]
     },
     "metadata": {},
     "output_type": "display_data"
    }
   ],
   "source": [
    "rowSums(theMatrix)"
   ]
  },
  {
   "cell_type": "code",
   "execution_count": 10,
   "id": "3c182af8",
   "metadata": {},
   "outputs": [
    {
     "data": {
      "text/html": [
       "<ol class=list-inline>\n",
       "\t<li>12</li>\n",
       "\t<li>13</li>\n",
       "\t<li>18</li>\n",
       "</ol>\n"
      ],
      "text/latex": [
       "\\begin{enumerate*}\n",
       "\\item 12\n",
       "\\item 13\n",
       "\\item 18\n",
       "\\end{enumerate*}\n"
      ],
      "text/markdown": [
       "1. 12\n",
       "2. 13\n",
       "3. 18\n",
       "\n",
       "\n"
      ],
      "text/plain": [
       "[1] 12 13 18"
      ]
     },
     "metadata": {},
     "output_type": "display_data"
    }
   ],
   "source": [
    "rowSums(theMatrix, na.rm=TRUE)"
   ]
  },
  {
   "cell_type": "code",
   "execution_count": 11,
   "id": "5c162144",
   "metadata": {},
   "outputs": [
    {
     "data": {
      "text/html": [
       "<dl>\n",
       "\t<dt>$A</dt>\n",
       "\t\t<dd>45</dd>\n",
       "\t<dt>$B</dt>\n",
       "\t\t<dd>15</dd>\n",
       "\t<dt>$C</dt>\n",
       "\t\t<dd>10</dd>\n",
       "\t<dt>$D</dt>\n",
       "\t\t<dd>2</dd>\n",
       "</dl>\n"
      ],
      "text/latex": [
       "\\begin{description}\n",
       "\\item[\\$A] 45\n",
       "\\item[\\$B] 15\n",
       "\\item[\\$C] 10\n",
       "\\item[\\$D] 2\n",
       "\\end{description}\n"
      ],
      "text/markdown": [
       "$A\n",
       ":   45\n",
       "$B\n",
       ":   15\n",
       "$C\n",
       ":   10\n",
       "$D\n",
       ":   2\n",
       "\n",
       "\n"
      ],
      "text/plain": [
       "$A\n",
       "[1] 45\n",
       "\n",
       "$B\n",
       "[1] 15\n",
       "\n",
       "$C\n",
       "[1] 10\n",
       "\n",
       "$D\n",
       "[1] 2\n"
      ]
     },
     "metadata": {},
     "output_type": "display_data"
    }
   ],
   "source": [
    "theList <- list(A=matrix(1:9, 3), B=1:5, C=matrix(1:4, 2), D=2)\n",
    "lapply(theList, sum)"
   ]
  },
  {
   "cell_type": "code",
   "execution_count": 12,
   "id": "198d8bca",
   "metadata": {},
   "outputs": [
    {
     "data": {
      "text/html": [
       "<dl class=dl-horizontal>\n",
       "\t<dt>A</dt>\n",
       "\t\t<dd>45</dd>\n",
       "\t<dt>B</dt>\n",
       "\t\t<dd>15</dd>\n",
       "\t<dt>C</dt>\n",
       "\t\t<dd>10</dd>\n",
       "\t<dt>D</dt>\n",
       "\t\t<dd>2</dd>\n",
       "</dl>\n"
      ],
      "text/latex": [
       "\\begin{description*}\n",
       "\\item[A] 45\n",
       "\\item[B] 15\n",
       "\\item[C] 10\n",
       "\\item[D] 2\n",
       "\\end{description*}\n"
      ],
      "text/markdown": [
       "A\n",
       ":   45B\n",
       ":   15C\n",
       ":   10D\n",
       ":   2\n",
       "\n"
      ],
      "text/plain": [
       " A  B  C  D \n",
       "45 15 10  2 "
      ]
     },
     "metadata": {},
     "output_type": "display_data"
    }
   ],
   "source": [
    "sapply(theList, sum)"
   ]
  },
  {
   "cell_type": "code",
   "execution_count": 13,
   "id": "1046c18f",
   "metadata": {},
   "outputs": [
    {
     "data": {
      "text/html": [
       "<ol>\n",
       "\t<li>5</li>\n",
       "\t<li>3</li>\n",
       "\t<li>4</li>\n",
       "</ol>\n"
      ],
      "text/latex": [
       "\\begin{enumerate}\n",
       "\\item 5\n",
       "\\item 3\n",
       "\\item 4\n",
       "\\end{enumerate}\n"
      ],
      "text/markdown": [
       "1. 5\n",
       "2. 3\n",
       "3. 4\n",
       "\n",
       "\n"
      ],
      "text/plain": [
       "[[1]]\n",
       "[1] 5\n",
       "\n",
       "[[2]]\n",
       "[1] 3\n",
       "\n",
       "[[3]]\n",
       "[1] 4\n"
      ]
     },
     "metadata": {},
     "output_type": "display_data"
    }
   ],
   "source": [
    "theNames <- c(\"Jared\", \"Deb\", \"Paul\")\n",
    "lapply(theNames, nchar)"
   ]
  },
  {
   "cell_type": "code",
   "execution_count": 14,
   "id": "d3d79aad",
   "metadata": {},
   "outputs": [
    {
     "data": {
      "text/html": [
       "<dl class=dl-horizontal>\n",
       "\t<dt>A</dt>\n",
       "\t\t<dd>TRUE</dd>\n",
       "\t<dt>B</dt>\n",
       "\t\t<dd>FALSE</dd>\n",
       "\t<dt>C</dt>\n",
       "\t\t<dd>FALSE</dd>\n",
       "</dl>\n"
      ],
      "text/latex": [
       "\\begin{description*}\n",
       "\\item[A] TRUE\n",
       "\\item[B] FALSE\n",
       "\\item[C] FALSE\n",
       "\\end{description*}\n"
      ],
      "text/markdown": [
       "A\n",
       ":   TRUEB\n",
       ":   FALSEC\n",
       ":   FALSE\n",
       "\n"
      ],
      "text/plain": [
       "    A     B     C \n",
       " TRUE FALSE FALSE "
      ]
     },
     "metadata": {},
     "output_type": "display_data"
    }
   ],
   "source": [
    "## build two lists\n",
    "firstList <- list(A=matrix(1:16, 4), B=matrix(1:16, 2), C=1:5)\n",
    "secondList <- list(A=matrix(1:16, 4), B=matrix(1:16, 8), C=15:1)\n",
    "# test element-by-element if they are identical\n",
    "mapply(identical, firstList, secondList)"
   ]
  },
  {
   "cell_type": "code",
   "execution_count": 15,
   "id": "3ca041b4",
   "metadata": {},
   "outputs": [
    {
     "data": {
      "text/html": [
       "<dl class=dl-horizontal>\n",
       "\t<dt>A</dt>\n",
       "\t\t<dd>8</dd>\n",
       "\t<dt>B</dt>\n",
       "\t\t<dd>10</dd>\n",
       "\t<dt>C</dt>\n",
       "\t\t<dd>20</dd>\n",
       "</dl>\n"
      ],
      "text/latex": [
       "\\begin{description*}\n",
       "\\item[A] 8\n",
       "\\item[B] 10\n",
       "\\item[C] 20\n",
       "\\end{description*}\n"
      ],
      "text/markdown": [
       "A\n",
       ":   8B\n",
       ":   10C\n",
       ":   20\n",
       "\n"
      ],
      "text/plain": [
       " A  B  C \n",
       " 8 10 20 "
      ]
     },
     "metadata": {},
     "output_type": "display_data"
    }
   ],
   "source": [
    "## build a simple function\n",
    "## it adds the number of rows (or length) of each corresponding element\n",
    "simpleFunc <- function(x, y)\n",
    "{\n",
    "NROW(x) + NROW(y)\n",
    "}\n",
    "# apply the function to the two lists\n",
    "mapply(simpleFunc, firstList, secondList)"
   ]
  },
  {
   "cell_type": "code",
   "execution_count": 16,
   "id": "0e5c0a70",
   "metadata": {},
   "outputs": [
    {
     "data": {
      "text/html": [
       "<table>\n",
       "<thead><tr><th scope=col>carat</th><th scope=col>cut</th><th scope=col>color</th><th scope=col>clarity</th><th scope=col>depth</th><th scope=col>table</th><th scope=col>price</th><th scope=col>x</th><th scope=col>y</th><th scope=col>z</th></tr></thead>\n",
       "<tbody>\n",
       "\t<tr><td>0.23     </td><td>Ideal    </td><td>E        </td><td>SI2      </td><td>61.5     </td><td>55       </td><td>326      </td><td>3.95     </td><td>3.98     </td><td>2.43     </td></tr>\n",
       "\t<tr><td>0.21     </td><td>Premium  </td><td>E        </td><td>SI1      </td><td>59.8     </td><td>61       </td><td>326      </td><td>3.89     </td><td>3.84     </td><td>2.31     </td></tr>\n",
       "\t<tr><td>0.23     </td><td>Good     </td><td>E        </td><td>VS1      </td><td>56.9     </td><td>65       </td><td>327      </td><td>4.05     </td><td>4.07     </td><td>2.31     </td></tr>\n",
       "\t<tr><td>0.29     </td><td>Premium  </td><td>I        </td><td>VS2      </td><td>62.4     </td><td>58       </td><td>334      </td><td>4.20     </td><td>4.23     </td><td>2.63     </td></tr>\n",
       "\t<tr><td>0.31     </td><td>Good     </td><td>J        </td><td>SI2      </td><td>63.3     </td><td>58       </td><td>335      </td><td>4.34     </td><td>4.35     </td><td>2.75     </td></tr>\n",
       "\t<tr><td>0.24     </td><td>Very Good</td><td>J        </td><td>VVS2     </td><td>62.8     </td><td>57       </td><td>336      </td><td>3.94     </td><td>3.96     </td><td>2.48     </td></tr>\n",
       "</tbody>\n",
       "</table>\n"
      ],
      "text/latex": [
       "\\begin{tabular}{r|llllllllll}\n",
       " carat & cut & color & clarity & depth & table & price & x & y & z\\\\\n",
       "\\hline\n",
       "\t 0.23      & Ideal     & E         & SI2       & 61.5      & 55        & 326       & 3.95      & 3.98      & 2.43     \\\\\n",
       "\t 0.21      & Premium   & E         & SI1       & 59.8      & 61        & 326       & 3.89      & 3.84      & 2.31     \\\\\n",
       "\t 0.23      & Good      & E         & VS1       & 56.9      & 65        & 327       & 4.05      & 4.07      & 2.31     \\\\\n",
       "\t 0.29      & Premium   & I         & VS2       & 62.4      & 58        & 334       & 4.20      & 4.23      & 2.63     \\\\\n",
       "\t 0.31      & Good      & J         & SI2       & 63.3      & 58        & 335       & 4.34      & 4.35      & 2.75     \\\\\n",
       "\t 0.24      & Very Good & J         & VVS2      & 62.8      & 57        & 336       & 3.94      & 3.96      & 2.48     \\\\\n",
       "\\end{tabular}\n"
      ],
      "text/markdown": [
       "\n",
       "| carat | cut | color | clarity | depth | table | price | x | y | z |\n",
       "|---|---|---|---|---|---|---|---|---|---|\n",
       "| 0.23      | Ideal     | E         | SI2       | 61.5      | 55        | 326       | 3.95      | 3.98      | 2.43      |\n",
       "| 0.21      | Premium   | E         | SI1       | 59.8      | 61        | 326       | 3.89      | 3.84      | 2.31      |\n",
       "| 0.23      | Good      | E         | VS1       | 56.9      | 65        | 327       | 4.05      | 4.07      | 2.31      |\n",
       "| 0.29      | Premium   | I         | VS2       | 62.4      | 58        | 334       | 4.20      | 4.23      | 2.63      |\n",
       "| 0.31      | Good      | J         | SI2       | 63.3      | 58        | 335       | 4.34      | 4.35      | 2.75      |\n",
       "| 0.24      | Very Good | J         | VVS2      | 62.8      | 57        | 336       | 3.94      | 3.96      | 2.48      |\n",
       "\n"
      ],
      "text/plain": [
       "  carat cut       color clarity depth table price x    y    z   \n",
       "1 0.23  Ideal     E     SI2     61.5  55    326   3.95 3.98 2.43\n",
       "2 0.21  Premium   E     SI1     59.8  61    326   3.89 3.84 2.31\n",
       "3 0.23  Good      E     VS1     56.9  65    327   4.05 4.07 2.31\n",
       "4 0.29  Premium   I     VS2     62.4  58    334   4.20 4.23 2.63\n",
       "5 0.31  Good      J     SI2     63.3  58    335   4.34 4.35 2.75\n",
       "6 0.24  Very Good J     VVS2    62.8  57    336   3.94 3.96 2.48"
      ]
     },
     "metadata": {},
     "output_type": "display_data"
    }
   ],
   "source": [
    "data(diamonds, package='ggplot2')\n",
    "head(diamonds)"
   ]
  },
  {
   "cell_type": "code",
   "execution_count": 17,
   "id": "afeb38f3",
   "metadata": {},
   "outputs": [
    {
     "data": {
      "text/html": [
       "<table>\n",
       "<thead><tr><th scope=col>cut</th><th scope=col>price</th></tr></thead>\n",
       "<tbody>\n",
       "\t<tr><td>Fair     </td><td>4358.758 </td></tr>\n",
       "\t<tr><td>Good     </td><td>3928.864 </td></tr>\n",
       "\t<tr><td>Very Good</td><td>3981.760 </td></tr>\n",
       "\t<tr><td>Premium  </td><td>4584.258 </td></tr>\n",
       "\t<tr><td>Ideal    </td><td>3457.542 </td></tr>\n",
       "</tbody>\n",
       "</table>\n"
      ],
      "text/latex": [
       "\\begin{tabular}{r|ll}\n",
       " cut & price\\\\\n",
       "\\hline\n",
       "\t Fair      & 4358.758 \\\\\n",
       "\t Good      & 3928.864 \\\\\n",
       "\t Very Good & 3981.760 \\\\\n",
       "\t Premium   & 4584.258 \\\\\n",
       "\t Ideal     & 3457.542 \\\\\n",
       "\\end{tabular}\n"
      ],
      "text/markdown": [
       "\n",
       "| cut | price |\n",
       "|---|---|\n",
       "| Fair      | 4358.758  |\n",
       "| Good      | 3928.864  |\n",
       "| Very Good | 3981.760  |\n",
       "| Premium   | 4584.258  |\n",
       "| Ideal     | 3457.542  |\n",
       "\n"
      ],
      "text/plain": [
       "  cut       price   \n",
       "1 Fair      4358.758\n",
       "2 Good      3928.864\n",
       "3 Very Good 3981.760\n",
       "4 Premium   4584.258\n",
       "5 Ideal     3457.542"
      ]
     },
     "metadata": {},
     "output_type": "display_data"
    }
   ],
   "source": [
    "aggregate(price ~ cut, diamonds, mean)"
   ]
  },
  {
   "cell_type": "code",
   "execution_count": 18,
   "id": "a120834a",
   "metadata": {},
   "outputs": [
    {
     "data": {
      "text/html": [
       "<table>\n",
       "<thead><tr><th scope=col>cut</th><th scope=col>color</th><th scope=col>price</th></tr></thead>\n",
       "<tbody>\n",
       "\t<tr><td>Fair     </td><td>D        </td><td>4291.061 </td></tr>\n",
       "\t<tr><td>Good     </td><td>D        </td><td>3405.382 </td></tr>\n",
       "\t<tr><td>Very Good</td><td>D        </td><td>3470.467 </td></tr>\n",
       "\t<tr><td>Premium  </td><td>D        </td><td>3631.293 </td></tr>\n",
       "\t<tr><td>Ideal    </td><td>D        </td><td>2629.095 </td></tr>\n",
       "\t<tr><td>Fair     </td><td>E        </td><td>3682.312 </td></tr>\n",
       "\t<tr><td>Good     </td><td>E        </td><td>3423.644 </td></tr>\n",
       "\t<tr><td>Very Good</td><td>E        </td><td>3214.652 </td></tr>\n",
       "\t<tr><td>Premium  </td><td>E        </td><td>3538.914 </td></tr>\n",
       "\t<tr><td>Ideal    </td><td>E        </td><td>2597.550 </td></tr>\n",
       "\t<tr><td>Fair     </td><td>F        </td><td>3827.003 </td></tr>\n",
       "\t<tr><td>Good     </td><td>F        </td><td>3495.750 </td></tr>\n",
       "\t<tr><td>Very Good</td><td>F        </td><td>3778.820 </td></tr>\n",
       "\t<tr><td>Premium  </td><td>F        </td><td>4324.890 </td></tr>\n",
       "\t<tr><td>Ideal    </td><td>F        </td><td>3374.939 </td></tr>\n",
       "\t<tr><td>Fair     </td><td>G        </td><td>4239.255 </td></tr>\n",
       "\t<tr><td>Good     </td><td>G        </td><td>4123.482 </td></tr>\n",
       "\t<tr><td>Very Good</td><td>G        </td><td>3872.754 </td></tr>\n",
       "\t<tr><td>Premium  </td><td>G        </td><td>4500.742 </td></tr>\n",
       "\t<tr><td>Ideal    </td><td>G        </td><td>3720.706 </td></tr>\n",
       "\t<tr><td>Fair     </td><td>H        </td><td>5135.683 </td></tr>\n",
       "\t<tr><td>Good     </td><td>H        </td><td>4276.255 </td></tr>\n",
       "\t<tr><td>Very Good</td><td>H        </td><td>4535.390 </td></tr>\n",
       "\t<tr><td>Premium  </td><td>H        </td><td>5216.707 </td></tr>\n",
       "\t<tr><td>Ideal    </td><td>H        </td><td>3889.335 </td></tr>\n",
       "\t<tr><td>Fair     </td><td>I        </td><td>4685.446 </td></tr>\n",
       "\t<tr><td>Good     </td><td>I        </td><td>5078.533 </td></tr>\n",
       "\t<tr><td>Very Good</td><td>I        </td><td>5255.880 </td></tr>\n",
       "\t<tr><td>Premium  </td><td>I        </td><td>5946.181 </td></tr>\n",
       "\t<tr><td>Ideal    </td><td>I        </td><td>4451.970 </td></tr>\n",
       "\t<tr><td>Fair     </td><td>J        </td><td>4975.655 </td></tr>\n",
       "\t<tr><td>Good     </td><td>J        </td><td>4574.173 </td></tr>\n",
       "\t<tr><td>Very Good</td><td>J        </td><td>5103.513 </td></tr>\n",
       "\t<tr><td>Premium  </td><td>J        </td><td>6294.592 </td></tr>\n",
       "\t<tr><td>Ideal    </td><td>J        </td><td>4918.186 </td></tr>\n",
       "</tbody>\n",
       "</table>\n"
      ],
      "text/latex": [
       "\\begin{tabular}{r|lll}\n",
       " cut & color & price\\\\\n",
       "\\hline\n",
       "\t Fair      & D         & 4291.061 \\\\\n",
       "\t Good      & D         & 3405.382 \\\\\n",
       "\t Very Good & D         & 3470.467 \\\\\n",
       "\t Premium   & D         & 3631.293 \\\\\n",
       "\t Ideal     & D         & 2629.095 \\\\\n",
       "\t Fair      & E         & 3682.312 \\\\\n",
       "\t Good      & E         & 3423.644 \\\\\n",
       "\t Very Good & E         & 3214.652 \\\\\n",
       "\t Premium   & E         & 3538.914 \\\\\n",
       "\t Ideal     & E         & 2597.550 \\\\\n",
       "\t Fair      & F         & 3827.003 \\\\\n",
       "\t Good      & F         & 3495.750 \\\\\n",
       "\t Very Good & F         & 3778.820 \\\\\n",
       "\t Premium   & F         & 4324.890 \\\\\n",
       "\t Ideal     & F         & 3374.939 \\\\\n",
       "\t Fair      & G         & 4239.255 \\\\\n",
       "\t Good      & G         & 4123.482 \\\\\n",
       "\t Very Good & G         & 3872.754 \\\\\n",
       "\t Premium   & G         & 4500.742 \\\\\n",
       "\t Ideal     & G         & 3720.706 \\\\\n",
       "\t Fair      & H         & 5135.683 \\\\\n",
       "\t Good      & H         & 4276.255 \\\\\n",
       "\t Very Good & H         & 4535.390 \\\\\n",
       "\t Premium   & H         & 5216.707 \\\\\n",
       "\t Ideal     & H         & 3889.335 \\\\\n",
       "\t Fair      & I         & 4685.446 \\\\\n",
       "\t Good      & I         & 5078.533 \\\\\n",
       "\t Very Good & I         & 5255.880 \\\\\n",
       "\t Premium   & I         & 5946.181 \\\\\n",
       "\t Ideal     & I         & 4451.970 \\\\\n",
       "\t Fair      & J         & 4975.655 \\\\\n",
       "\t Good      & J         & 4574.173 \\\\\n",
       "\t Very Good & J         & 5103.513 \\\\\n",
       "\t Premium   & J         & 6294.592 \\\\\n",
       "\t Ideal     & J         & 4918.186 \\\\\n",
       "\\end{tabular}\n"
      ],
      "text/markdown": [
       "\n",
       "| cut | color | price |\n",
       "|---|---|---|\n",
       "| Fair      | D         | 4291.061  |\n",
       "| Good      | D         | 3405.382  |\n",
       "| Very Good | D         | 3470.467  |\n",
       "| Premium   | D         | 3631.293  |\n",
       "| Ideal     | D         | 2629.095  |\n",
       "| Fair      | E         | 3682.312  |\n",
       "| Good      | E         | 3423.644  |\n",
       "| Very Good | E         | 3214.652  |\n",
       "| Premium   | E         | 3538.914  |\n",
       "| Ideal     | E         | 2597.550  |\n",
       "| Fair      | F         | 3827.003  |\n",
       "| Good      | F         | 3495.750  |\n",
       "| Very Good | F         | 3778.820  |\n",
       "| Premium   | F         | 4324.890  |\n",
       "| Ideal     | F         | 3374.939  |\n",
       "| Fair      | G         | 4239.255  |\n",
       "| Good      | G         | 4123.482  |\n",
       "| Very Good | G         | 3872.754  |\n",
       "| Premium   | G         | 4500.742  |\n",
       "| Ideal     | G         | 3720.706  |\n",
       "| Fair      | H         | 5135.683  |\n",
       "| Good      | H         | 4276.255  |\n",
       "| Very Good | H         | 4535.390  |\n",
       "| Premium   | H         | 5216.707  |\n",
       "| Ideal     | H         | 3889.335  |\n",
       "| Fair      | I         | 4685.446  |\n",
       "| Good      | I         | 5078.533  |\n",
       "| Very Good | I         | 5255.880  |\n",
       "| Premium   | I         | 5946.181  |\n",
       "| Ideal     | I         | 4451.970  |\n",
       "| Fair      | J         | 4975.655  |\n",
       "| Good      | J         | 4574.173  |\n",
       "| Very Good | J         | 5103.513  |\n",
       "| Premium   | J         | 6294.592  |\n",
       "| Ideal     | J         | 4918.186  |\n",
       "\n"
      ],
      "text/plain": [
       "   cut       color price   \n",
       "1  Fair      D     4291.061\n",
       "2  Good      D     3405.382\n",
       "3  Very Good D     3470.467\n",
       "4  Premium   D     3631.293\n",
       "5  Ideal     D     2629.095\n",
       "6  Fair      E     3682.312\n",
       "7  Good      E     3423.644\n",
       "8  Very Good E     3214.652\n",
       "9  Premium   E     3538.914\n",
       "10 Ideal     E     2597.550\n",
       "11 Fair      F     3827.003\n",
       "12 Good      F     3495.750\n",
       "13 Very Good F     3778.820\n",
       "14 Premium   F     4324.890\n",
       "15 Ideal     F     3374.939\n",
       "16 Fair      G     4239.255\n",
       "17 Good      G     4123.482\n",
       "18 Very Good G     3872.754\n",
       "19 Premium   G     4500.742\n",
       "20 Ideal     G     3720.706\n",
       "21 Fair      H     5135.683\n",
       "22 Good      H     4276.255\n",
       "23 Very Good H     4535.390\n",
       "24 Premium   H     5216.707\n",
       "25 Ideal     H     3889.335\n",
       "26 Fair      I     4685.446\n",
       "27 Good      I     5078.533\n",
       "28 Very Good I     5255.880\n",
       "29 Premium   I     5946.181\n",
       "30 Ideal     I     4451.970\n",
       "31 Fair      J     4975.655\n",
       "32 Good      J     4574.173\n",
       "33 Very Good J     5103.513\n",
       "34 Premium   J     6294.592\n",
       "35 Ideal     J     4918.186"
      ]
     },
     "metadata": {},
     "output_type": "display_data"
    }
   ],
   "source": [
    "aggregate(price ~ cut + color, diamonds, mean)"
   ]
  },
  {
   "cell_type": "code",
   "execution_count": 19,
   "id": "e6ae7c22",
   "metadata": {},
   "outputs": [
    {
     "data": {
      "text/html": [
       "<table>\n",
       "<thead><tr><th scope=col>cut</th><th scope=col>price</th><th scope=col>carat</th></tr></thead>\n",
       "<tbody>\n",
       "\t<tr><td>Fair     </td><td>4358.758 </td><td>1.0461366</td></tr>\n",
       "\t<tr><td>Good     </td><td>3928.864 </td><td>0.8491847</td></tr>\n",
       "\t<tr><td>Very Good</td><td>3981.760 </td><td>0.8063814</td></tr>\n",
       "\t<tr><td>Premium  </td><td>4584.258 </td><td>0.8919549</td></tr>\n",
       "\t<tr><td>Ideal    </td><td>3457.542 </td><td>0.7028370</td></tr>\n",
       "</tbody>\n",
       "</table>\n"
      ],
      "text/latex": [
       "\\begin{tabular}{r|lll}\n",
       " cut & price & carat\\\\\n",
       "\\hline\n",
       "\t Fair      & 4358.758  & 1.0461366\\\\\n",
       "\t Good      & 3928.864  & 0.8491847\\\\\n",
       "\t Very Good & 3981.760  & 0.8063814\\\\\n",
       "\t Premium   & 4584.258  & 0.8919549\\\\\n",
       "\t Ideal     & 3457.542  & 0.7028370\\\\\n",
       "\\end{tabular}\n"
      ],
      "text/markdown": [
       "\n",
       "| cut | price | carat |\n",
       "|---|---|---|\n",
       "| Fair      | 4358.758  | 1.0461366 |\n",
       "| Good      | 3928.864  | 0.8491847 |\n",
       "| Very Good | 3981.760  | 0.8063814 |\n",
       "| Premium   | 4584.258  | 0.8919549 |\n",
       "| Ideal     | 3457.542  | 0.7028370 |\n",
       "\n"
      ],
      "text/plain": [
       "  cut       price    carat    \n",
       "1 Fair      4358.758 1.0461366\n",
       "2 Good      3928.864 0.8491847\n",
       "3 Very Good 3981.760 0.8063814\n",
       "4 Premium   4584.258 0.8919549\n",
       "5 Ideal     3457.542 0.7028370"
      ]
     },
     "metadata": {},
     "output_type": "display_data"
    }
   ],
   "source": [
    "aggregate(cbind(price, carat) ~ cut, diamonds, mean)"
   ]
  },
  {
   "cell_type": "code",
   "execution_count": 20,
   "id": "039bdd0d",
   "metadata": {},
   "outputs": [
    {
     "data": {
      "text/html": [
       "<table>\n",
       "<thead><tr><th scope=col>cut</th><th scope=col>color</th><th scope=col>price</th><th scope=col>carat</th></tr></thead>\n",
       "<tbody>\n",
       "\t<tr><td>Fair     </td><td>D        </td><td>4291.061 </td><td>0.9201227</td></tr>\n",
       "\t<tr><td>Good     </td><td>D        </td><td>3405.382 </td><td>0.7445166</td></tr>\n",
       "\t<tr><td>Very Good</td><td>D        </td><td>3470.467 </td><td>0.6964243</td></tr>\n",
       "\t<tr><td>Premium  </td><td>D        </td><td>3631.293 </td><td>0.7215471</td></tr>\n",
       "\t<tr><td>Ideal    </td><td>D        </td><td>2629.095 </td><td>0.5657657</td></tr>\n",
       "\t<tr><td>Fair     </td><td>E        </td><td>3682.312 </td><td>0.8566071</td></tr>\n",
       "\t<tr><td>Good     </td><td>E        </td><td>3423.644 </td><td>0.7451340</td></tr>\n",
       "\t<tr><td>Very Good</td><td>E        </td><td>3214.652 </td><td>0.6763167</td></tr>\n",
       "\t<tr><td>Premium  </td><td>E        </td><td>3538.914 </td><td>0.7177450</td></tr>\n",
       "\t<tr><td>Ideal    </td><td>E        </td><td>2597.550 </td><td>0.5784012</td></tr>\n",
       "\t<tr><td>Fair     </td><td>F        </td><td>3827.003 </td><td>0.9047115</td></tr>\n",
       "\t<tr><td>Good     </td><td>F        </td><td>3495.750 </td><td>0.7759296</td></tr>\n",
       "\t<tr><td>Very Good</td><td>F        </td><td>3778.820 </td><td>0.7409612</td></tr>\n",
       "\t<tr><td>Premium  </td><td>F        </td><td>4324.890 </td><td>0.8270356</td></tr>\n",
       "\t<tr><td>Ideal    </td><td>F        </td><td>3374.939 </td><td>0.6558285</td></tr>\n",
       "\t<tr><td>Fair     </td><td>G        </td><td>4239.255 </td><td>1.0238217</td></tr>\n",
       "\t<tr><td>Good     </td><td>G        </td><td>4123.482 </td><td>0.8508955</td></tr>\n",
       "\t<tr><td>Very Good</td><td>G        </td><td>3872.754 </td><td>0.7667986</td></tr>\n",
       "\t<tr><td>Premium  </td><td>G        </td><td>4500.742 </td><td>0.8414877</td></tr>\n",
       "\t<tr><td>Ideal    </td><td>G        </td><td>3720.706 </td><td>0.7007146</td></tr>\n",
       "\t<tr><td>Fair     </td><td>H        </td><td>5135.683 </td><td>1.2191749</td></tr>\n",
       "\t<tr><td>Good     </td><td>H        </td><td>4276.255 </td><td>0.9147293</td></tr>\n",
       "\t<tr><td>Very Good</td><td>H        </td><td>4535.390 </td><td>0.9159485</td></tr>\n",
       "\t<tr><td>Premium  </td><td>H        </td><td>5216.707 </td><td>1.0164492</td></tr>\n",
       "\t<tr><td>Ideal    </td><td>H        </td><td>3889.335 </td><td>0.7995249</td></tr>\n",
       "\t<tr><td>Fair     </td><td>I        </td><td>4685.446 </td><td>1.1980571</td></tr>\n",
       "\t<tr><td>Good     </td><td>I        </td><td>5078.533 </td><td>1.0572222</td></tr>\n",
       "\t<tr><td>Very Good</td><td>I        </td><td>5255.880 </td><td>1.0469518</td></tr>\n",
       "\t<tr><td>Premium  </td><td>I        </td><td>5946.181 </td><td>1.1449370</td></tr>\n",
       "\t<tr><td>Ideal    </td><td>I        </td><td>4451.970 </td><td>0.9130291</td></tr>\n",
       "\t<tr><td>Fair     </td><td>J        </td><td>4975.655 </td><td>1.3411765</td></tr>\n",
       "\t<tr><td>Good     </td><td>J        </td><td>4574.173 </td><td>1.0995440</td></tr>\n",
       "\t<tr><td>Very Good</td><td>J        </td><td>5103.513 </td><td>1.1332153</td></tr>\n",
       "\t<tr><td>Premium  </td><td>J        </td><td>6294.592 </td><td>1.2930941</td></tr>\n",
       "\t<tr><td>Ideal    </td><td>J        </td><td>4918.186 </td><td>1.0635937</td></tr>\n",
       "</tbody>\n",
       "</table>\n"
      ],
      "text/latex": [
       "\\begin{tabular}{r|llll}\n",
       " cut & color & price & carat\\\\\n",
       "\\hline\n",
       "\t Fair      & D         & 4291.061  & 0.9201227\\\\\n",
       "\t Good      & D         & 3405.382  & 0.7445166\\\\\n",
       "\t Very Good & D         & 3470.467  & 0.6964243\\\\\n",
       "\t Premium   & D         & 3631.293  & 0.7215471\\\\\n",
       "\t Ideal     & D         & 2629.095  & 0.5657657\\\\\n",
       "\t Fair      & E         & 3682.312  & 0.8566071\\\\\n",
       "\t Good      & E         & 3423.644  & 0.7451340\\\\\n",
       "\t Very Good & E         & 3214.652  & 0.6763167\\\\\n",
       "\t Premium   & E         & 3538.914  & 0.7177450\\\\\n",
       "\t Ideal     & E         & 2597.550  & 0.5784012\\\\\n",
       "\t Fair      & F         & 3827.003  & 0.9047115\\\\\n",
       "\t Good      & F         & 3495.750  & 0.7759296\\\\\n",
       "\t Very Good & F         & 3778.820  & 0.7409612\\\\\n",
       "\t Premium   & F         & 4324.890  & 0.8270356\\\\\n",
       "\t Ideal     & F         & 3374.939  & 0.6558285\\\\\n",
       "\t Fair      & G         & 4239.255  & 1.0238217\\\\\n",
       "\t Good      & G         & 4123.482  & 0.8508955\\\\\n",
       "\t Very Good & G         & 3872.754  & 0.7667986\\\\\n",
       "\t Premium   & G         & 4500.742  & 0.8414877\\\\\n",
       "\t Ideal     & G         & 3720.706  & 0.7007146\\\\\n",
       "\t Fair      & H         & 5135.683  & 1.2191749\\\\\n",
       "\t Good      & H         & 4276.255  & 0.9147293\\\\\n",
       "\t Very Good & H         & 4535.390  & 0.9159485\\\\\n",
       "\t Premium   & H         & 5216.707  & 1.0164492\\\\\n",
       "\t Ideal     & H         & 3889.335  & 0.7995249\\\\\n",
       "\t Fair      & I         & 4685.446  & 1.1980571\\\\\n",
       "\t Good      & I         & 5078.533  & 1.0572222\\\\\n",
       "\t Very Good & I         & 5255.880  & 1.0469518\\\\\n",
       "\t Premium   & I         & 5946.181  & 1.1449370\\\\\n",
       "\t Ideal     & I         & 4451.970  & 0.9130291\\\\\n",
       "\t Fair      & J         & 4975.655  & 1.3411765\\\\\n",
       "\t Good      & J         & 4574.173  & 1.0995440\\\\\n",
       "\t Very Good & J         & 5103.513  & 1.1332153\\\\\n",
       "\t Premium   & J         & 6294.592  & 1.2930941\\\\\n",
       "\t Ideal     & J         & 4918.186  & 1.0635937\\\\\n",
       "\\end{tabular}\n"
      ],
      "text/markdown": [
       "\n",
       "| cut | color | price | carat |\n",
       "|---|---|---|---|\n",
       "| Fair      | D         | 4291.061  | 0.9201227 |\n",
       "| Good      | D         | 3405.382  | 0.7445166 |\n",
       "| Very Good | D         | 3470.467  | 0.6964243 |\n",
       "| Premium   | D         | 3631.293  | 0.7215471 |\n",
       "| Ideal     | D         | 2629.095  | 0.5657657 |\n",
       "| Fair      | E         | 3682.312  | 0.8566071 |\n",
       "| Good      | E         | 3423.644  | 0.7451340 |\n",
       "| Very Good | E         | 3214.652  | 0.6763167 |\n",
       "| Premium   | E         | 3538.914  | 0.7177450 |\n",
       "| Ideal     | E         | 2597.550  | 0.5784012 |\n",
       "| Fair      | F         | 3827.003  | 0.9047115 |\n",
       "| Good      | F         | 3495.750  | 0.7759296 |\n",
       "| Very Good | F         | 3778.820  | 0.7409612 |\n",
       "| Premium   | F         | 4324.890  | 0.8270356 |\n",
       "| Ideal     | F         | 3374.939  | 0.6558285 |\n",
       "| Fair      | G         | 4239.255  | 1.0238217 |\n",
       "| Good      | G         | 4123.482  | 0.8508955 |\n",
       "| Very Good | G         | 3872.754  | 0.7667986 |\n",
       "| Premium   | G         | 4500.742  | 0.8414877 |\n",
       "| Ideal     | G         | 3720.706  | 0.7007146 |\n",
       "| Fair      | H         | 5135.683  | 1.2191749 |\n",
       "| Good      | H         | 4276.255  | 0.9147293 |\n",
       "| Very Good | H         | 4535.390  | 0.9159485 |\n",
       "| Premium   | H         | 5216.707  | 1.0164492 |\n",
       "| Ideal     | H         | 3889.335  | 0.7995249 |\n",
       "| Fair      | I         | 4685.446  | 1.1980571 |\n",
       "| Good      | I         | 5078.533  | 1.0572222 |\n",
       "| Very Good | I         | 5255.880  | 1.0469518 |\n",
       "| Premium   | I         | 5946.181  | 1.1449370 |\n",
       "| Ideal     | I         | 4451.970  | 0.9130291 |\n",
       "| Fair      | J         | 4975.655  | 1.3411765 |\n",
       "| Good      | J         | 4574.173  | 1.0995440 |\n",
       "| Very Good | J         | 5103.513  | 1.1332153 |\n",
       "| Premium   | J         | 6294.592  | 1.2930941 |\n",
       "| Ideal     | J         | 4918.186  | 1.0635937 |\n",
       "\n"
      ],
      "text/plain": [
       "   cut       color price    carat    \n",
       "1  Fair      D     4291.061 0.9201227\n",
       "2  Good      D     3405.382 0.7445166\n",
       "3  Very Good D     3470.467 0.6964243\n",
       "4  Premium   D     3631.293 0.7215471\n",
       "5  Ideal     D     2629.095 0.5657657\n",
       "6  Fair      E     3682.312 0.8566071\n",
       "7  Good      E     3423.644 0.7451340\n",
       "8  Very Good E     3214.652 0.6763167\n",
       "9  Premium   E     3538.914 0.7177450\n",
       "10 Ideal     E     2597.550 0.5784012\n",
       "11 Fair      F     3827.003 0.9047115\n",
       "12 Good      F     3495.750 0.7759296\n",
       "13 Very Good F     3778.820 0.7409612\n",
       "14 Premium   F     4324.890 0.8270356\n",
       "15 Ideal     F     3374.939 0.6558285\n",
       "16 Fair      G     4239.255 1.0238217\n",
       "17 Good      G     4123.482 0.8508955\n",
       "18 Very Good G     3872.754 0.7667986\n",
       "19 Premium   G     4500.742 0.8414877\n",
       "20 Ideal     G     3720.706 0.7007146\n",
       "21 Fair      H     5135.683 1.2191749\n",
       "22 Good      H     4276.255 0.9147293\n",
       "23 Very Good H     4535.390 0.9159485\n",
       "24 Premium   H     5216.707 1.0164492\n",
       "25 Ideal     H     3889.335 0.7995249\n",
       "26 Fair      I     4685.446 1.1980571\n",
       "27 Good      I     5078.533 1.0572222\n",
       "28 Very Good I     5255.880 1.0469518\n",
       "29 Premium   I     5946.181 1.1449370\n",
       "30 Ideal     I     4451.970 0.9130291\n",
       "31 Fair      J     4975.655 1.3411765\n",
       "32 Good      J     4574.173 1.0995440\n",
       "33 Very Good J     5103.513 1.1332153\n",
       "34 Premium   J     6294.592 1.2930941\n",
       "35 Ideal     J     4918.186 1.0635937"
      ]
     },
     "metadata": {},
     "output_type": "display_data"
    }
   ],
   "source": [
    "aggregate(cbind(price, carat) ~ cut + color, diamonds, mean)\n"
   ]
  },
  {
   "cell_type": "code",
   "execution_count": 21,
   "id": "5bf1af99",
   "metadata": {},
   "outputs": [
    {
     "data": {
      "text/html": [
       "<table>\n",
       "<thead><tr><th></th><th scope=col>id</th><th scope=col>year</th><th scope=col>stint</th><th scope=col>team</th><th scope=col>lg</th><th scope=col>g</th><th scope=col>ab</th><th scope=col>r</th><th scope=col>h</th><th scope=col>X2b</th><th scope=col>...</th><th scope=col>rbi</th><th scope=col>sb</th><th scope=col>cs</th><th scope=col>bb</th><th scope=col>so</th><th scope=col>ibb</th><th scope=col>hbp</th><th scope=col>sh</th><th scope=col>sf</th><th scope=col>gidp</th></tr></thead>\n",
       "<tbody>\n",
       "\t<tr><th scope=row>4</th><td>ansonca01</td><td>1871     </td><td>1        </td><td>RC1      </td><td>         </td><td>25       </td><td>120      </td><td>29       </td><td>39       </td><td>11       </td><td>...      </td><td>16       </td><td>6        </td><td>2        </td><td>2        </td><td>1        </td><td>NA       </td><td>NA       </td><td>NA       </td><td>NA       </td><td>NA       </td></tr>\n",
       "\t<tr><th scope=row>44</th><td>forceda01</td><td>1871     </td><td>1        </td><td>WS3      </td><td>         </td><td>32       </td><td>162      </td><td>45       </td><td>45       </td><td> 9       </td><td>...      </td><td>29       </td><td>8        </td><td>0        </td><td>4        </td><td>0        </td><td>NA       </td><td>NA       </td><td>NA       </td><td>NA       </td><td>NA       </td></tr>\n",
       "\t<tr><th scope=row>68</th><td>mathebo01</td><td>1871     </td><td>1        </td><td>FW1      </td><td>         </td><td>19       </td><td> 89      </td><td>15       </td><td>24       </td><td> 3       </td><td>...      </td><td>10       </td><td>2        </td><td>1        </td><td>2        </td><td>0        </td><td>NA       </td><td>NA       </td><td>NA       </td><td>NA       </td><td>NA       </td></tr>\n",
       "\t<tr><th scope=row>99</th><td>startjo01</td><td>1871     </td><td>1        </td><td>NY2      </td><td>         </td><td>33       </td><td>161      </td><td>35       </td><td>58       </td><td> 5       </td><td>...      </td><td>34       </td><td>4        </td><td>2        </td><td>3        </td><td>0        </td><td>NA       </td><td>NA       </td><td>NA       </td><td>NA       </td><td>NA       </td></tr>\n",
       "\t<tr><th scope=row>102</th><td>suttoez01</td><td>1871     </td><td>1        </td><td>CL1      </td><td>         </td><td>29       </td><td>128      </td><td>35       </td><td>45       </td><td> 3       </td><td>...      </td><td>23       </td><td>3        </td><td>1        </td><td>1        </td><td>0        </td><td>NA       </td><td>NA       </td><td>NA       </td><td>NA       </td><td>NA       </td></tr>\n",
       "\t<tr><th scope=row>106</th><td>whitede01</td><td>1871     </td><td>1        </td><td>CL1      </td><td>         </td><td>29       </td><td>146      </td><td>40       </td><td>47       </td><td> 6       </td><td>...      </td><td>21       </td><td>2        </td><td>2        </td><td>4        </td><td>1        </td><td>NA       </td><td>NA       </td><td>NA       </td><td>NA       </td><td>NA       </td></tr>\n",
       "</tbody>\n",
       "</table>\n"
      ],
      "text/latex": [
       "\\begin{tabular}{r|llllllllllllllllllllll}\n",
       "  & id & year & stint & team & lg & g & ab & r & h & X2b & ... & rbi & sb & cs & bb & so & ibb & hbp & sh & sf & gidp\\\\\n",
       "\\hline\n",
       "\t4 & ansonca01 & 1871      & 1         & RC1       &           & 25        & 120       & 29        & 39        & 11        & ...       & 16        & 6         & 2         & 2         & 1         & NA        & NA        & NA        & NA        & NA       \\\\\n",
       "\t44 & forceda01 & 1871      & 1         & WS3       &           & 32        & 162       & 45        & 45        &  9        & ...       & 29        & 8         & 0         & 4         & 0         & NA        & NA        & NA        & NA        & NA       \\\\\n",
       "\t68 & mathebo01 & 1871      & 1         & FW1       &           & 19        &  89       & 15        & 24        &  3        & ...       & 10        & 2         & 1         & 2         & 0         & NA        & NA        & NA        & NA        & NA       \\\\\n",
       "\t99 & startjo01 & 1871      & 1         & NY2       &           & 33        & 161       & 35        & 58        &  5        & ...       & 34        & 4         & 2         & 3         & 0         & NA        & NA        & NA        & NA        & NA       \\\\\n",
       "\t102 & suttoez01 & 1871      & 1         & CL1       &           & 29        & 128       & 35        & 45        &  3        & ...       & 23        & 3         & 1         & 1         & 0         & NA        & NA        & NA        & NA        & NA       \\\\\n",
       "\t106 & whitede01 & 1871      & 1         & CL1       &           & 29        & 146       & 40        & 47        &  6        & ...       & 21        & 2         & 2         & 4         & 1         & NA        & NA        & NA        & NA        & NA       \\\\\n",
       "\\end{tabular}\n"
      ],
      "text/markdown": [
       "\n",
       "| <!--/--> | id | year | stint | team | lg | g | ab | r | h | X2b | ... | rbi | sb | cs | bb | so | ibb | hbp | sh | sf | gidp |\n",
       "|---|---|---|---|---|---|---|---|---|---|---|---|---|---|---|---|---|---|---|---|---|---|\n",
       "| 4 | ansonca01 | 1871      | 1         | RC1       |           | 25        | 120       | 29        | 39        | 11        | ...       | 16        | 6         | 2         | 2         | 1         | NA        | NA        | NA        | NA        | NA        |\n",
       "| 44 | forceda01 | 1871      | 1         | WS3       |           | 32        | 162       | 45        | 45        |  9        | ...       | 29        | 8         | 0         | 4         | 0         | NA        | NA        | NA        | NA        | NA        |\n",
       "| 68 | mathebo01 | 1871      | 1         | FW1       |           | 19        |  89       | 15        | 24        |  3        | ...       | 10        | 2         | 1         | 2         | 0         | NA        | NA        | NA        | NA        | NA        |\n",
       "| 99 | startjo01 | 1871      | 1         | NY2       |           | 33        | 161       | 35        | 58        |  5        | ...       | 34        | 4         | 2         | 3         | 0         | NA        | NA        | NA        | NA        | NA        |\n",
       "| 102 | suttoez01 | 1871      | 1         | CL1       |           | 29        | 128       | 35        | 45        |  3        | ...       | 23        | 3         | 1         | 1         | 0         | NA        | NA        | NA        | NA        | NA        |\n",
       "| 106 | whitede01 | 1871      | 1         | CL1       |           | 29        | 146       | 40        | 47        |  6        | ...       | 21        | 2         | 2         | 4         | 1         | NA        | NA        | NA        | NA        | NA        |\n",
       "\n"
      ],
      "text/plain": [
       "    id        year stint team lg g  ab  r  h  X2b ... rbi sb cs bb so ibb hbp\n",
       "4   ansonca01 1871 1     RC1     25 120 29 39 11  ... 16  6  2  2  1  NA  NA \n",
       "44  forceda01 1871 1     WS3     32 162 45 45  9  ... 29  8  0  4  0  NA  NA \n",
       "68  mathebo01 1871 1     FW1     19  89 15 24  3  ... 10  2  1  2  0  NA  NA \n",
       "99  startjo01 1871 1     NY2     33 161 35 58  5  ... 34  4  2  3  0  NA  NA \n",
       "102 suttoez01 1871 1     CL1     29 128 35 45  3  ... 23  3  1  1  0  NA  NA \n",
       "106 whitede01 1871 1     CL1     29 146 40 47  6  ... 21  2  2  4  1  NA  NA \n",
       "    sh sf gidp\n",
       "4   NA NA NA  \n",
       "44  NA NA NA  \n",
       "68  NA NA NA  \n",
       "99  NA NA NA  \n",
       "102 NA NA NA  \n",
       "106 NA NA NA  "
      ]
     },
     "metadata": {},
     "output_type": "display_data"
    }
   ],
   "source": [
    "library(plyr)\n",
    "head(baseball)"
   ]
  },
  {
   "cell_type": "code",
   "execution_count": 22,
   "id": "f1d0eff1",
   "metadata": {},
   "outputs": [
    {
     "data": {
      "text/html": [
       "FALSE"
      ],
      "text/latex": [
       "FALSE"
      ],
      "text/markdown": [
       "FALSE"
      ],
      "text/plain": [
       "[1] FALSE"
      ]
     },
     "metadata": {},
     "output_type": "display_data"
    }
   ],
   "source": [
    "# subsetting with [ is faster than using ifelse\n",
    "baseball$sf[baseball$year < 1954] <- 0\n",
    "# check that it worked\n",
    "any(is.na(baseball$sf))"
   ]
  },
  {
   "cell_type": "code",
   "execution_count": 23,
   "id": "65fd659a",
   "metadata": {},
   "outputs": [
    {
     "data": {
      "text/html": [
       "FALSE"
      ],
      "text/latex": [
       "FALSE"
      ],
      "text/markdown": [
       "FALSE"
      ],
      "text/plain": [
       "[1] FALSE"
      ]
     },
     "metadata": {},
     "output_type": "display_data"
    }
   ],
   "source": [
    "# set NA hbp's to 0\n",
    "baseball$hbp[is.na(baseball$hbp)] <- 0\n",
    "# check that it worked\n",
    "any(is.na(baseball$hbp))"
   ]
  },
  {
   "cell_type": "code",
   "execution_count": 24,
   "id": "27b5c03b",
   "metadata": {},
   "outputs": [],
   "source": [
    "# only keep players with at least 50 at bats in a season\n",
    "baseball <- baseball[baseball$ab >= 50, ]"
   ]
  },
  {
   "cell_type": "code",
   "execution_count": 25,
   "id": "2ddfc3f2",
   "metadata": {},
   "outputs": [
    {
     "data": {
      "text/html": [
       "<table>\n",
       "<thead><tr><th></th><th scope=col>id</th><th scope=col>year</th><th scope=col>stint</th><th scope=col>team</th><th scope=col>lg</th><th scope=col>g</th><th scope=col>ab</th><th scope=col>r</th><th scope=col>h</th><th scope=col>X2b</th><th scope=col>...</th><th scope=col>sb</th><th scope=col>cs</th><th scope=col>bb</th><th scope=col>so</th><th scope=col>ibb</th><th scope=col>hbp</th><th scope=col>sh</th><th scope=col>sf</th><th scope=col>gidp</th><th scope=col>OBP</th></tr></thead>\n",
       "<tbody>\n",
       "\t<tr><th scope=row>89499</th><td>claytro01</td><td>2007     </td><td>1        </td><td>TOR      </td><td>AL       </td><td> 69      </td><td>189      </td><td>23       </td><td> 48      </td><td>14       </td><td>...      </td><td>2        </td><td>1        </td><td> 14      </td><td> 50      </td><td> 0       </td><td>1        </td><td>3        </td><td>3        </td><td> 8       </td><td>0.3043478</td></tr>\n",
       "\t<tr><th scope=row>89502</th><td>cirilje01</td><td>2007     </td><td>1        </td><td>MIN      </td><td>AL       </td><td> 50      </td><td>153      </td><td>18       </td><td> 40      </td><td> 9       </td><td>...      </td><td>2        </td><td>0        </td><td> 15      </td><td> 13      </td><td> 0       </td><td>1        </td><td>3        </td><td>2        </td><td> 9       </td><td>0.3274854</td></tr>\n",
       "\t<tr><th scope=row>89521</th><td>bondsba01</td><td>2007     </td><td>1        </td><td>SFN      </td><td>NL       </td><td>126      </td><td>340      </td><td>75       </td><td> 94      </td><td>14       </td><td>...      </td><td>5        </td><td>0        </td><td>132      </td><td> 54      </td><td>43       </td><td>3        </td><td>0        </td><td>2        </td><td>13       </td><td>0.4800839</td></tr>\n",
       "\t<tr><th scope=row>89523</th><td>biggicr01</td><td>2007     </td><td>1        </td><td>HOU      </td><td>NL       </td><td>141      </td><td>517      </td><td>68       </td><td>130      </td><td>31       </td><td>...      </td><td>4        </td><td>3        </td><td> 23      </td><td>112      </td><td> 0       </td><td>3        </td><td>7        </td><td>5        </td><td> 5       </td><td>0.2846715</td></tr>\n",
       "\t<tr><th scope=row>89530</th><td>ausmubr01</td><td>2007     </td><td>1        </td><td>HOU      </td><td>NL       </td><td>117      </td><td>349      </td><td>38       </td><td> 82      </td><td>16       </td><td>...      </td><td>6        </td><td>1        </td><td> 37      </td><td> 74      </td><td> 3       </td><td>6        </td><td>4        </td><td>1        </td><td>11       </td><td>0.3180662</td></tr>\n",
       "\t<tr><th scope=row>89533</th><td>aloumo01 </td><td>2007     </td><td>1        </td><td>NYN      </td><td>NL       </td><td> 87      </td><td>328      </td><td>51       </td><td>112      </td><td>19       </td><td>...      </td><td>3        </td><td>0        </td><td> 27      </td><td> 30      </td><td> 5       </td><td>2        </td><td>0        </td><td>3        </td><td>13       </td><td>0.3916667</td></tr>\n",
       "</tbody>\n",
       "</table>\n"
      ],
      "text/latex": [
       "\\begin{tabular}{r|lllllllllllllllllllllll}\n",
       "  & id & year & stint & team & lg & g & ab & r & h & X2b & ... & sb & cs & bb & so & ibb & hbp & sh & sf & gidp & OBP\\\\\n",
       "\\hline\n",
       "\t89499 & claytro01 & 2007      & 1         & TOR       & AL        &  69       & 189       & 23        &  48       & 14        & ...       & 2         & 1         &  14       &  50       &  0        & 1         & 3         & 3         &  8        & 0.3043478\\\\\n",
       "\t89502 & cirilje01 & 2007      & 1         & MIN       & AL        &  50       & 153       & 18        &  40       &  9        & ...       & 2         & 0         &  15       &  13       &  0        & 1         & 3         & 2         &  9        & 0.3274854\\\\\n",
       "\t89521 & bondsba01 & 2007      & 1         & SFN       & NL        & 126       & 340       & 75        &  94       & 14        & ...       & 5         & 0         & 132       &  54       & 43        & 3         & 0         & 2         & 13        & 0.4800839\\\\\n",
       "\t89523 & biggicr01 & 2007      & 1         & HOU       & NL        & 141       & 517       & 68        & 130       & 31        & ...       & 4         & 3         &  23       & 112       &  0        & 3         & 7         & 5         &  5        & 0.2846715\\\\\n",
       "\t89530 & ausmubr01 & 2007      & 1         & HOU       & NL        & 117       & 349       & 38        &  82       & 16        & ...       & 6         & 1         &  37       &  74       &  3        & 6         & 4         & 1         & 11        & 0.3180662\\\\\n",
       "\t89533 & aloumo01  & 2007      & 1         & NYN       & NL        &  87       & 328       & 51        & 112       & 19        & ...       & 3         & 0         &  27       &  30       &  5        & 2         & 0         & 3         & 13        & 0.3916667\\\\\n",
       "\\end{tabular}\n"
      ],
      "text/markdown": [
       "\n",
       "| <!--/--> | id | year | stint | team | lg | g | ab | r | h | X2b | ... | sb | cs | bb | so | ibb | hbp | sh | sf | gidp | OBP |\n",
       "|---|---|---|---|---|---|---|---|---|---|---|---|---|---|---|---|---|---|---|---|---|---|\n",
       "| 89499 | claytro01 | 2007      | 1         | TOR       | AL        |  69       | 189       | 23        |  48       | 14        | ...       | 2         | 1         |  14       |  50       |  0        | 1         | 3         | 3         |  8        | 0.3043478 |\n",
       "| 89502 | cirilje01 | 2007      | 1         | MIN       | AL        |  50       | 153       | 18        |  40       |  9        | ...       | 2         | 0         |  15       |  13       |  0        | 1         | 3         | 2         |  9        | 0.3274854 |\n",
       "| 89521 | bondsba01 | 2007      | 1         | SFN       | NL        | 126       | 340       | 75        |  94       | 14        | ...       | 5         | 0         | 132       |  54       | 43        | 3         | 0         | 2         | 13        | 0.4800839 |\n",
       "| 89523 | biggicr01 | 2007      | 1         | HOU       | NL        | 141       | 517       | 68        | 130       | 31        | ...       | 4         | 3         |  23       | 112       |  0        | 3         | 7         | 5         |  5        | 0.2846715 |\n",
       "| 89530 | ausmubr01 | 2007      | 1         | HOU       | NL        | 117       | 349       | 38        |  82       | 16        | ...       | 6         | 1         |  37       |  74       |  3        | 6         | 4         | 1         | 11        | 0.3180662 |\n",
       "| 89533 | aloumo01  | 2007      | 1         | NYN       | NL        |  87       | 328       | 51        | 112       | 19        | ...       | 3         | 0         |  27       |  30       |  5        | 2         | 0         | 3         | 13        | 0.3916667 |\n",
       "\n"
      ],
      "text/plain": [
       "      id        year stint team lg g   ab  r  h   X2b ... sb cs bb  so  ibb hbp\n",
       "89499 claytro01 2007 1     TOR  AL  69 189 23  48 14  ... 2  1   14  50  0  1  \n",
       "89502 cirilje01 2007 1     MIN  AL  50 153 18  40  9  ... 2  0   15  13  0  1  \n",
       "89521 bondsba01 2007 1     SFN  NL 126 340 75  94 14  ... 5  0  132  54 43  3  \n",
       "89523 biggicr01 2007 1     HOU  NL 141 517 68 130 31  ... 4  3   23 112  0  3  \n",
       "89530 ausmubr01 2007 1     HOU  NL 117 349 38  82 16  ... 6  1   37  74  3  6  \n",
       "89533 aloumo01  2007 1     NYN  NL  87 328 51 112 19  ... 3  0   27  30  5  2  \n",
       "      sh sf gidp OBP      \n",
       "89499 3  3   8   0.3043478\n",
       "89502 3  2   9   0.3274854\n",
       "89521 0  2  13   0.4800839\n",
       "89523 7  5   5   0.2846715\n",
       "89530 4  1  11   0.3180662\n",
       "89533 0  3  13   0.3916667"
      ]
     },
     "metadata": {},
     "output_type": "display_data"
    }
   ],
   "source": [
    "# calculate OBP\n",
    "baseball$OBP <- with(baseball, (h + bb + hbp) / (ab + bb + hbp + sf))\n",
    "tail(baseball)"
   ]
  },
  {
   "cell_type": "code",
   "execution_count": 26,
   "id": "ba0e0a23",
   "metadata": {},
   "outputs": [
    {
     "data": {
      "text/html": [
       "<table>\n",
       "<thead><tr><th></th><th scope=col>id</th><th scope=col>OBP</th></tr></thead>\n",
       "<tbody>\n",
       "\t<tr><th scope=row>1089</th><td>willite01</td><td>0.4816861</td></tr>\n",
       "\t<tr><th scope=row>875</th><td>ruthba01 </td><td>0.4742209</td></tr>\n",
       "\t<tr><th scope=row>658</th><td>mcgrajo01</td><td>0.4657478</td></tr>\n",
       "\t<tr><th scope=row>356</th><td>gehrilo01</td><td>0.4477848</td></tr>\n",
       "\t<tr><th scope=row>85</th><td>bondsba01</td><td>0.4444622</td></tr>\n",
       "\t<tr><th scope=row>476</th><td>hornsro01</td><td>0.4339068</td></tr>\n",
       "\t<tr><th scope=row>184</th><td>cobbty01 </td><td>0.4329655</td></tr>\n",
       "\t<tr><th scope=row>327</th><td>foxxji01 </td><td>0.4290509</td></tr>\n",
       "\t<tr><th scope=row>953</th><td>speaktr01</td><td>0.4283386</td></tr>\n",
       "\t<tr><th scope=row>191</th><td>collied01</td><td>0.4251246</td></tr>\n",
       "</tbody>\n",
       "</table>\n"
      ],
      "text/latex": [
       "\\begin{tabular}{r|ll}\n",
       "  & id & OBP\\\\\n",
       "\\hline\n",
       "\t1089 & willite01 & 0.4816861\\\\\n",
       "\t875 & ruthba01  & 0.4742209\\\\\n",
       "\t658 & mcgrajo01 & 0.4657478\\\\\n",
       "\t356 & gehrilo01 & 0.4477848\\\\\n",
       "\t85 & bondsba01 & 0.4444622\\\\\n",
       "\t476 & hornsro01 & 0.4339068\\\\\n",
       "\t184 & cobbty01  & 0.4329655\\\\\n",
       "\t327 & foxxji01  & 0.4290509\\\\\n",
       "\t953 & speaktr01 & 0.4283386\\\\\n",
       "\t191 & collied01 & 0.4251246\\\\\n",
       "\\end{tabular}\n"
      ],
      "text/markdown": [
       "\n",
       "| <!--/--> | id | OBP |\n",
       "|---|---|---|\n",
       "| 1089 | willite01 | 0.4816861 |\n",
       "| 875 | ruthba01  | 0.4742209 |\n",
       "| 658 | mcgrajo01 | 0.4657478 |\n",
       "| 356 | gehrilo01 | 0.4477848 |\n",
       "| 85 | bondsba01 | 0.4444622 |\n",
       "| 476 | hornsro01 | 0.4339068 |\n",
       "| 184 | cobbty01  | 0.4329655 |\n",
       "| 327 | foxxji01  | 0.4290509 |\n",
       "| 953 | speaktr01 | 0.4283386 |\n",
       "| 191 | collied01 | 0.4251246 |\n",
       "\n"
      ],
      "text/plain": [
       "     id        OBP      \n",
       "1089 willite01 0.4816861\n",
       "875  ruthba01  0.4742209\n",
       "658  mcgrajo01 0.4657478\n",
       "356  gehrilo01 0.4477848\n",
       "85   bondsba01 0.4444622\n",
       "476  hornsro01 0.4339068\n",
       "184  cobbty01  0.4329655\n",
       "327  foxxji01  0.4290509\n",
       "953  speaktr01 0.4283386\n",
       "191  collied01 0.4251246"
      ]
     },
     "metadata": {},
     "output_type": "display_data"
    }
   ],
   "source": [
    "# this function assumes that the column names for the data are as below\n",
    "obp <- function(data)\n",
    "{\n",
    "c(OBP=with(data, sum(h + bb + hbp) / sum(ab + bb + hbp + sf)))\n",
    "}\n",
    "\n",
    " # use ddply to calculate career OBP for each player\n",
    " careerOBP <- ddply(baseball, .variables=\"id\", .fun=obp)\n",
    " # sort the results by OBP\n",
    " careerOBP <- careerOBP[order(careerOBP$OBP, decreasing=TRUE), ]\n",
    " # see the results\n",
    " head(careerOBP, 10)"
   ]
  },
  {
   "cell_type": "code",
   "execution_count": 27,
   "id": "ce83e545",
   "metadata": {},
   "outputs": [
    {
     "data": {
      "text/html": [
       "<dl>\n",
       "\t<dt>$A</dt>\n",
       "\t\t<dd>45</dd>\n",
       "\t<dt>$B</dt>\n",
       "\t\t<dd>15</dd>\n",
       "\t<dt>$C</dt>\n",
       "\t\t<dd>10</dd>\n",
       "\t<dt>$D</dt>\n",
       "\t\t<dd>2</dd>\n",
       "</dl>\n"
      ],
      "text/latex": [
       "\\begin{description}\n",
       "\\item[\\$A] 45\n",
       "\\item[\\$B] 15\n",
       "\\item[\\$C] 10\n",
       "\\item[\\$D] 2\n",
       "\\end{description}\n"
      ],
      "text/markdown": [
       "$A\n",
       ":   45\n",
       "$B\n",
       ":   15\n",
       "$C\n",
       ":   10\n",
       "$D\n",
       ":   2\n",
       "\n",
       "\n"
      ],
      "text/plain": [
       "$A\n",
       "[1] 45\n",
       "\n",
       "$B\n",
       "[1] 15\n",
       "\n",
       "$C\n",
       "[1] 10\n",
       "\n",
       "$D\n",
       "[1] 2\n"
      ]
     },
     "metadata": {},
     "output_type": "display_data"
    }
   ],
   "source": [
    "theList <- list(A=matrix(1:9, 3), B=1:5, C=matrix(1:4, 2), D=2)\n",
    "lapply(theList, sum)"
   ]
  },
  {
   "cell_type": "code",
   "execution_count": 28,
   "id": "e8c13b03",
   "metadata": {},
   "outputs": [
    {
     "data": {
      "text/html": [
       "<dl>\n",
       "\t<dt>$A</dt>\n",
       "\t\t<dd>45</dd>\n",
       "\t<dt>$B</dt>\n",
       "\t\t<dd>15</dd>\n",
       "\t<dt>$C</dt>\n",
       "\t\t<dd>10</dd>\n",
       "\t<dt>$D</dt>\n",
       "\t\t<dd>2</dd>\n",
       "</dl>\n"
      ],
      "text/latex": [
       "\\begin{description}\n",
       "\\item[\\$A] 45\n",
       "\\item[\\$B] 15\n",
       "\\item[\\$C] 10\n",
       "\\item[\\$D] 2\n",
       "\\end{description}\n"
      ],
      "text/markdown": [
       "$A\n",
       ":   45\n",
       "$B\n",
       ":   15\n",
       "$C\n",
       ":   10\n",
       "$D\n",
       ":   2\n",
       "\n",
       "\n"
      ],
      "text/plain": [
       "$A\n",
       "[1] 45\n",
       "\n",
       "$B\n",
       "[1] 15\n",
       "\n",
       "$C\n",
       "[1] 10\n",
       "\n",
       "$D\n",
       "[1] 2\n"
      ]
     },
     "metadata": {},
     "output_type": "display_data"
    }
   ],
   "source": [
    "llply(theList, sum)"
   ]
  },
  {
   "cell_type": "code",
   "execution_count": 29,
   "id": "5c68332e",
   "metadata": {},
   "outputs": [
    {
     "data": {
      "text/html": [
       "TRUE"
      ],
      "text/latex": [
       "TRUE"
      ],
      "text/markdown": [
       "TRUE"
      ],
      "text/plain": [
       "[1] TRUE"
      ]
     },
     "metadata": {},
     "output_type": "display_data"
    }
   ],
   "source": [
    "identical(lapply(theList, sum), llply(theList, sum))"
   ]
  },
  {
   "cell_type": "code",
   "execution_count": 30,
   "id": "c3b98931",
   "metadata": {},
   "outputs": [
    {
     "data": {
      "text/html": [
       "<dl class=dl-horizontal>\n",
       "\t<dt>A</dt>\n",
       "\t\t<dd>45</dd>\n",
       "\t<dt>B</dt>\n",
       "\t\t<dd>15</dd>\n",
       "\t<dt>C</dt>\n",
       "\t\t<dd>10</dd>\n",
       "\t<dt>D</dt>\n",
       "\t\t<dd>2</dd>\n",
       "</dl>\n"
      ],
      "text/latex": [
       "\\begin{description*}\n",
       "\\item[A] 45\n",
       "\\item[B] 15\n",
       "\\item[C] 10\n",
       "\\item[D] 2\n",
       "\\end{description*}\n"
      ],
      "text/markdown": [
       "A\n",
       ":   45B\n",
       ":   15C\n",
       ":   10D\n",
       ":   2\n",
       "\n"
      ],
      "text/plain": [
       " A  B  C  D \n",
       "45 15 10  2 "
      ]
     },
     "metadata": {},
     "output_type": "display_data"
    }
   ],
   "source": [
    "sapply(theList, sum)"
   ]
  },
  {
   "cell_type": "code",
   "execution_count": 32,
   "id": "e6be1c21",
   "metadata": {},
   "outputs": [
    {
     "data": {
      "text/html": [
       "<ol class=list-inline>\n",
       "\t<li>45</li>\n",
       "\t<li>15</li>\n",
       "\t<li>10</li>\n",
       "\t<li>2</li>\n",
       "</ol>\n"
      ],
      "text/latex": [
       "\\begin{enumerate*}\n",
       "\\item 45\n",
       "\\item 15\n",
       "\\item 10\n",
       "\\item 2\n",
       "\\end{enumerate*}\n"
      ],
      "text/markdown": [
       "1. 45\n",
       "2. 15\n",
       "3. 10\n",
       "4. 2\n",
       "\n",
       "\n"
      ],
      "text/plain": [
       "[1] 45 15 10  2"
      ]
     },
     "metadata": {},
     "output_type": "display_data"
    }
   ],
   "source": [
    "laply(theList, sum )"
   ]
  },
  {
   "cell_type": "code",
   "execution_count": 39,
   "id": "32d041db",
   "metadata": {
    "scrolled": false
   },
   "outputs": [
    {
     "data": {
      "text/html": [
       "<table>\n",
       "<thead><tr><th scope=col>cut</th><th scope=col>price</th></tr></thead>\n",
       "<tbody>\n",
       "\t<tr><td>Fair     </td><td>3282.0   </td></tr>\n",
       "\t<tr><td>Good     </td><td>3050.5   </td></tr>\n",
       "\t<tr><td>Very Good</td><td>2648.0   </td></tr>\n",
       "\t<tr><td>Premium  </td><td>3185.0   </td></tr>\n",
       "\t<tr><td>Ideal    </td><td>1810.0   </td></tr>\n",
       "</tbody>\n",
       "</table>\n"
      ],
      "text/latex": [
       "\\begin{tabular}{r|ll}\n",
       " cut & price\\\\\n",
       "\\hline\n",
       "\t Fair      & 3282.0   \\\\\n",
       "\t Good      & 3050.5   \\\\\n",
       "\t Very Good & 2648.0   \\\\\n",
       "\t Premium   & 3185.0   \\\\\n",
       "\t Ideal     & 1810.0   \\\\\n",
       "\\end{tabular}\n"
      ],
      "text/markdown": [
       "\n",
       "| cut | price |\n",
       "|---|---|\n",
       "| Fair      | 3282.0    |\n",
       "| Good      | 3050.5    |\n",
       "| Very Good | 2648.0    |\n",
       "| Premium   | 3185.0    |\n",
       "| Ideal     | 1810.0    |\n",
       "\n"
      ],
      "text/plain": [
       "  cut       price \n",
       "1 Fair      3282.0\n",
       "2 Good      3050.5\n",
       "3 Very Good 2648.0\n",
       "4 Premium   3185.0\n",
       "5 Ideal     1810.0"
      ]
     },
     "metadata": {},
     "output_type": "display_data"
    }
   ],
   "source": [
    "aggregate(price ~ cut, diamonds, each(median)) # USE ONLY ONE FUNCTON IN HERE ELSE WILL GIVE ERROR"
   ]
  },
  {
   "cell_type": "code",
   "execution_count": 40,
   "id": "67299c77",
   "metadata": {},
   "outputs": [
    {
     "data": {
      "text/plain": [
       "   user  system elapsed \n",
       "   0.20    0.00    0.25 "
      ]
     },
     "metadata": {},
     "output_type": "display_data"
    }
   ],
   "source": [
    "system.time(dlply(baseball, \"id\", nrow))"
   ]
  },
  {
   "cell_type": "code",
   "execution_count": 41,
   "id": "e9635fc8",
   "metadata": {},
   "outputs": [
    {
     "data": {
      "text/plain": [
       "   user  system elapsed \n",
       "   0.23    0.00    0.27 "
      ]
     },
     "metadata": {},
     "output_type": "display_data"
    }
   ],
   "source": [
    "iBaseball <- idata.frame(baseball)\n",
    "system.time(dlply(iBaseball, \"id\", nrow))"
   ]
  },
  {
   "cell_type": "code",
   "execution_count": 42,
   "id": "4ba2c75e",
   "metadata": {},
   "outputs": [
    {
     "data": {
      "text/html": [
       "<table>\n",
       "<thead><tr><th scope=col>A</th><th scope=col>B</th><th scope=col>C</th><th scope=col>D</th></tr></thead>\n",
       "<tbody>\n",
       "\t<tr><td> 1   </td><td>a    </td><td>K    </td><td>One  </td></tr>\n",
       "\t<tr><td> 2   </td><td>b    </td><td>L    </td><td>Two  </td></tr>\n",
       "\t<tr><td> 3   </td><td>c    </td><td>M    </td><td>Three</td></tr>\n",
       "\t<tr><td> 4   </td><td>d    </td><td>N    </td><td>One  </td></tr>\n",
       "\t<tr><td> 5   </td><td>e    </td><td>O    </td><td>Two  </td></tr>\n",
       "\t<tr><td> 6   </td><td>f    </td><td>P    </td><td>Three</td></tr>\n",
       "\t<tr><td> 7   </td><td>g    </td><td>Q    </td><td>One  </td></tr>\n",
       "\t<tr><td> 8   </td><td>h    </td><td>R    </td><td>Two  </td></tr>\n",
       "\t<tr><td> 9   </td><td>i    </td><td>S    </td><td>Three</td></tr>\n",
       "\t<tr><td>10   </td><td>j    </td><td>T    </td><td>One  </td></tr>\n",
       "</tbody>\n",
       "</table>\n"
      ],
      "text/latex": [
       "\\begin{tabular}{r|llll}\n",
       " A & B & C & D\\\\\n",
       "\\hline\n",
       "\t  1    & a     & K     & One  \\\\\n",
       "\t  2    & b     & L     & Two  \\\\\n",
       "\t  3    & c     & M     & Three\\\\\n",
       "\t  4    & d     & N     & One  \\\\\n",
       "\t  5    & e     & O     & Two  \\\\\n",
       "\t  6    & f     & P     & Three\\\\\n",
       "\t  7    & g     & Q     & One  \\\\\n",
       "\t  8    & h     & R     & Two  \\\\\n",
       "\t  9    & i     & S     & Three\\\\\n",
       "\t 10    & j     & T     & One  \\\\\n",
       "\\end{tabular}\n"
      ],
      "text/markdown": [
       "\n",
       "| A | B | C | D |\n",
       "|---|---|---|---|\n",
       "|  1    | a     | K     | One   |\n",
       "|  2    | b     | L     | Two   |\n",
       "|  3    | c     | M     | Three |\n",
       "|  4    | d     | N     | One   |\n",
       "|  5    | e     | O     | Two   |\n",
       "|  6    | f     | P     | Three |\n",
       "|  7    | g     | Q     | One   |\n",
       "|  8    | h     | R     | Two   |\n",
       "|  9    | i     | S     | Three |\n",
       "| 10    | j     | T     | One   |\n",
       "\n"
      ],
      "text/plain": [
       "   A  B C D    \n",
       "1   1 a K One  \n",
       "2   2 b L Two  \n",
       "3   3 c M Three\n",
       "4   4 d N One  \n",
       "5   5 e O Two  \n",
       "6   6 f P Three\n",
       "7   7 g Q One  \n",
       "8   8 h R Two  \n",
       "9   9 i S Three\n",
       "10 10 j T One  "
      ]
     },
     "metadata": {},
     "output_type": "display_data"
    }
   ],
   "source": [
    "library(data.table)\n",
    "# create a regular data.frame\n",
    "theDF <- data.frame(A=1:10,\n",
    "B=letters[1:10],\n",
    "C=LETTERS[11:20],\n",
    "D=rep(c(\"One\", \"Two\", \"Three\"), length.out=10))\n",
    "# create a data.table\n",
    "theDT <- data.table(A=1:10,\n",
    "B=letters[1:10],\n",
    "C=LETTERS[11:20],\n",
    "D=rep(c(\"One\", \"Two\", \"Three\"), length.out=10))\n",
    "# print them and compare\n",
    "theDF"
   ]
  },
  {
   "cell_type": "code",
   "execution_count": 43,
   "id": "cc3252b3",
   "metadata": {},
   "outputs": [
    {
     "data": {
      "text/html": [
       "'factor'"
      ],
      "text/latex": [
       "'factor'"
      ],
      "text/markdown": [
       "'factor'"
      ],
      "text/plain": [
       "[1] \"factor\""
      ]
     },
     "metadata": {},
     "output_type": "display_data"
    }
   ],
   "source": [
    "class(theDF$B)"
   ]
  },
  {
   "cell_type": "code",
   "execution_count": 44,
   "id": "0296a76d",
   "metadata": {},
   "outputs": [
    {
     "data": {
      "text/html": [
       "'character'"
      ],
      "text/latex": [
       "'character'"
      ],
      "text/markdown": [
       "'character'"
      ],
      "text/plain": [
       "[1] \"character\""
      ]
     },
     "metadata": {},
     "output_type": "display_data"
    }
   ],
   "source": [
    "class(theDT$B)"
   ]
  },
  {
   "cell_type": "code",
   "execution_count": 78,
   "id": "fec806bc",
   "metadata": {},
   "outputs": [
    {
     "data": {
      "text/html": [
       "<table>\n",
       "<thead><tr><th scope=col>carat</th><th scope=col>cut</th><th scope=col>color</th><th scope=col>clarity</th><th scope=col>depth</th><th scope=col>table</th><th scope=col>price</th><th scope=col>x</th><th scope=col>y</th><th scope=col>z</th></tr></thead>\n",
       "<tbody>\n",
       "\t<tr><td>0.23     </td><td>Ideal    </td><td>E        </td><td>SI2      </td><td>61.5     </td><td>55       </td><td>326      </td><td>3.95     </td><td>3.98     </td><td>2.43     </td></tr>\n",
       "\t<tr><td>0.21     </td><td>Premium  </td><td>E        </td><td>SI1      </td><td>59.8     </td><td>61       </td><td>326      </td><td>3.89     </td><td>3.84     </td><td>2.31     </td></tr>\n",
       "\t<tr><td>0.23     </td><td>Good     </td><td>E        </td><td>VS1      </td><td>56.9     </td><td>65       </td><td>327      </td><td>4.05     </td><td>4.07     </td><td>2.31     </td></tr>\n",
       "\t<tr><td>0.29     </td><td>Premium  </td><td>I        </td><td>VS2      </td><td>62.4     </td><td>58       </td><td>334      </td><td>4.20     </td><td>4.23     </td><td>2.63     </td></tr>\n",
       "\t<tr><td>0.31     </td><td>Good     </td><td>J        </td><td>SI2      </td><td>63.3     </td><td>58       </td><td>335      </td><td>4.34     </td><td>4.35     </td><td>2.75     </td></tr>\n",
       "\t<tr><td>0.24     </td><td>Very Good</td><td>J        </td><td>VVS2     </td><td>62.8     </td><td>57       </td><td>336      </td><td>3.94     </td><td>3.96     </td><td>2.48     </td></tr>\n",
       "</tbody>\n",
       "</table>\n"
      ],
      "text/latex": [
       "\\begin{tabular}{r|llllllllll}\n",
       " carat & cut & color & clarity & depth & table & price & x & y & z\\\\\n",
       "\\hline\n",
       "\t 0.23      & Ideal     & E         & SI2       & 61.5      & 55        & 326       & 3.95      & 3.98      & 2.43     \\\\\n",
       "\t 0.21      & Premium   & E         & SI1       & 59.8      & 61        & 326       & 3.89      & 3.84      & 2.31     \\\\\n",
       "\t 0.23      & Good      & E         & VS1       & 56.9      & 65        & 327       & 4.05      & 4.07      & 2.31     \\\\\n",
       "\t 0.29      & Premium   & I         & VS2       & 62.4      & 58        & 334       & 4.20      & 4.23      & 2.63     \\\\\n",
       "\t 0.31      & Good      & J         & SI2       & 63.3      & 58        & 335       & 4.34      & 4.35      & 2.75     \\\\\n",
       "\t 0.24      & Very Good & J         & VVS2      & 62.8      & 57        & 336       & 3.94      & 3.96      & 2.48     \\\\\n",
       "\\end{tabular}\n"
      ],
      "text/markdown": [
       "\n",
       "| carat | cut | color | clarity | depth | table | price | x | y | z |\n",
       "|---|---|---|---|---|---|---|---|---|---|\n",
       "| 0.23      | Ideal     | E         | SI2       | 61.5      | 55        | 326       | 3.95      | 3.98      | 2.43      |\n",
       "| 0.21      | Premium   | E         | SI1       | 59.8      | 61        | 326       | 3.89      | 3.84      | 2.31      |\n",
       "| 0.23      | Good      | E         | VS1       | 56.9      | 65        | 327       | 4.05      | 4.07      | 2.31      |\n",
       "| 0.29      | Premium   | I         | VS2       | 62.4      | 58        | 334       | 4.20      | 4.23      | 2.63      |\n",
       "| 0.31      | Good      | J         | SI2       | 63.3      | 58        | 335       | 4.34      | 4.35      | 2.75      |\n",
       "| 0.24      | Very Good | J         | VVS2      | 62.8      | 57        | 336       | 3.94      | 3.96      | 2.48      |\n",
       "\n"
      ],
      "text/plain": [
       "  carat cut       color clarity depth table price x    y    z   \n",
       "1 0.23  Ideal     E     SI2     61.5  55    326   3.95 3.98 2.43\n",
       "2 0.21  Premium   E     SI1     59.8  61    326   3.89 3.84 2.31\n",
       "3 0.23  Good      E     VS1     56.9  65    327   4.05 4.07 2.31\n",
       "4 0.29  Premium   I     VS2     62.4  58    334   4.20 4.23 2.63\n",
       "5 0.31  Good      J     SI2     63.3  58    335   4.34 4.35 2.75\n",
       "6 0.24  Very Good J     VVS2    62.8  57    336   3.94 3.96 2.48"
      ]
     },
     "metadata": {},
     "output_type": "display_data"
    }
   ],
   "source": [
    "diamondsDT<-data.table(diamonds)\n",
    "head(diamondsDT)"
   ]
  },
  {
   "cell_type": "code",
   "execution_count": 79,
   "id": "1daf6e85",
   "metadata": {},
   "outputs": [
    {
     "data": {
      "text/html": [
       "<table>\n",
       "<thead><tr><th scope=col>A</th><th scope=col>B</th><th scope=col>C</th><th scope=col>D</th></tr></thead>\n",
       "<tbody>\n",
       "\t<tr><td>1  </td><td>a  </td><td>K  </td><td>One</td></tr>\n",
       "\t<tr><td>4  </td><td>d  </td><td>N  </td><td>One</td></tr>\n",
       "</tbody>\n",
       "</table>\n"
      ],
      "text/latex": [
       "\\begin{tabular}{r|llll}\n",
       " A & B & C & D\\\\\n",
       "\\hline\n",
       "\t 1   & a   & K   & One\\\\\n",
       "\t 4   & d   & N   & One\\\\\n",
       "\\end{tabular}\n"
      ],
      "text/markdown": [
       "\n",
       "| A | B | C | D |\n",
       "|---|---|---|---|\n",
       "| 1   | a   | K   | One |\n",
       "| 4   | d   | N   | One |\n",
       "\n"
      ],
      "text/plain": [
       "  A B C D  \n",
       "1 1 a K One\n",
       "2 4 d N One"
      ]
     },
     "metadata": {},
     "output_type": "display_data"
    }
   ],
   "source": [
    "theDT[1:2, ]"
   ]
  },
  {
   "cell_type": "code",
   "execution_count": 80,
   "id": "4764e51f",
   "metadata": {},
   "outputs": [
    {
     "data": {
      "text/html": [
       "<table>\n",
       "<thead><tr><th scope=col>A</th><th scope=col>B</th><th scope=col>C</th><th scope=col>D</th></tr></thead>\n",
       "<tbody>\n",
       "\t<tr><td> 7   </td><td>g    </td><td>Q    </td><td>One  </td></tr>\n",
       "\t<tr><td>10   </td><td>j    </td><td>T    </td><td>One  </td></tr>\n",
       "\t<tr><td> 9   </td><td>i    </td><td>S    </td><td>Three</td></tr>\n",
       "\t<tr><td> 8   </td><td>h    </td><td>R    </td><td>Two  </td></tr>\n",
       "</tbody>\n",
       "</table>\n"
      ],
      "text/latex": [
       "\\begin{tabular}{r|llll}\n",
       " A & B & C & D\\\\\n",
       "\\hline\n",
       "\t  7    & g     & Q     & One  \\\\\n",
       "\t 10    & j     & T     & One  \\\\\n",
       "\t  9    & i     & S     & Three\\\\\n",
       "\t  8    & h     & R     & Two  \\\\\n",
       "\\end{tabular}\n"
      ],
      "text/markdown": [
       "\n",
       "| A | B | C | D |\n",
       "|---|---|---|---|\n",
       "|  7    | g     | Q     | One   |\n",
       "| 10    | j     | T     | One   |\n",
       "|  9    | i     | S     | Three |\n",
       "|  8    | h     | R     | Two   |\n",
       "\n"
      ],
      "text/plain": [
       "  A  B C D    \n",
       "1  7 g Q One  \n",
       "2 10 j T One  \n",
       "3  9 i S Three\n",
       "4  8 h R Two  "
      ]
     },
     "metadata": {},
     "output_type": "display_data"
    }
   ],
   "source": [
    "theDT[theDT$A>=7, ]"
   ]
  },
  {
   "cell_type": "code",
   "execution_count": 81,
   "id": "0aacba37",
   "metadata": {},
   "outputs": [
    {
     "data": {
      "text/html": [
       "<table>\n",
       "<thead><tr><th scope=col>A</th><th scope=col>B</th><th scope=col>C</th><th scope=col>D</th></tr></thead>\n",
       "<tbody>\n",
       "\t<tr><td> 7   </td><td>g    </td><td>Q    </td><td>One  </td></tr>\n",
       "\t<tr><td>10   </td><td>j    </td><td>T    </td><td>One  </td></tr>\n",
       "\t<tr><td> 9   </td><td>i    </td><td>S    </td><td>Three</td></tr>\n",
       "\t<tr><td> 8   </td><td>h    </td><td>R    </td><td>Two  </td></tr>\n",
       "</tbody>\n",
       "</table>\n"
      ],
      "text/latex": [
       "\\begin{tabular}{r|llll}\n",
       " A & B & C & D\\\\\n",
       "\\hline\n",
       "\t  7    & g     & Q     & One  \\\\\n",
       "\t 10    & j     & T     & One  \\\\\n",
       "\t  9    & i     & S     & Three\\\\\n",
       "\t  8    & h     & R     & Two  \\\\\n",
       "\\end{tabular}\n"
      ],
      "text/markdown": [
       "\n",
       "| A | B | C | D |\n",
       "|---|---|---|---|\n",
       "|  7    | g     | Q     | One   |\n",
       "| 10    | j     | T     | One   |\n",
       "|  9    | i     | S     | Three |\n",
       "|  8    | h     | R     | Two   |\n",
       "\n"
      ],
      "text/plain": [
       "  A  B C D    \n",
       "1  7 g Q One  \n",
       "2 10 j T One  \n",
       "3  9 i S Three\n",
       "4  8 h R Two  "
      ]
     },
     "metadata": {},
     "output_type": "display_data"
    }
   ],
   "source": [
    "theDT[A>=7,]"
   ]
  },
  {
   "cell_type": "code",
   "execution_count": 82,
   "id": "c60ff376",
   "metadata": {},
   "outputs": [
    {
     "data": {
      "text/html": [
       "<table>\n",
       "<thead><tr><th scope=col>A</th><th scope=col>C</th></tr></thead>\n",
       "<tbody>\n",
       "\t<tr><td> 1</td><td>K </td></tr>\n",
       "\t<tr><td> 4</td><td>N </td></tr>\n",
       "\t<tr><td> 7</td><td>Q </td></tr>\n",
       "\t<tr><td>10</td><td>T </td></tr>\n",
       "\t<tr><td> 3</td><td>M </td></tr>\n",
       "\t<tr><td> 6</td><td>P </td></tr>\n",
       "\t<tr><td> 9</td><td>S </td></tr>\n",
       "\t<tr><td> 2</td><td>L </td></tr>\n",
       "\t<tr><td> 5</td><td>O </td></tr>\n",
       "\t<tr><td> 8</td><td>R </td></tr>\n",
       "</tbody>\n",
       "</table>\n"
      ],
      "text/latex": [
       "\\begin{tabular}{r|ll}\n",
       " A & C\\\\\n",
       "\\hline\n",
       "\t  1 & K \\\\\n",
       "\t  4 & N \\\\\n",
       "\t  7 & Q \\\\\n",
       "\t 10 & T \\\\\n",
       "\t  3 & M \\\\\n",
       "\t  6 & P \\\\\n",
       "\t  9 & S \\\\\n",
       "\t  2 & L \\\\\n",
       "\t  5 & O \\\\\n",
       "\t  8 & R \\\\\n",
       "\\end{tabular}\n"
      ],
      "text/markdown": [
       "\n",
       "| A | C |\n",
       "|---|---|\n",
       "|  1 | K  |\n",
       "|  4 | N  |\n",
       "|  7 | Q  |\n",
       "| 10 | T  |\n",
       "|  3 | M  |\n",
       "|  6 | P  |\n",
       "|  9 | S  |\n",
       "|  2 | L  |\n",
       "|  5 | O  |\n",
       "|  8 | R  |\n",
       "\n"
      ],
      "text/plain": [
       "   A  C\n",
       "1   1 K\n",
       "2   4 N\n",
       "3   7 Q\n",
       "4  10 T\n",
       "5   3 M\n",
       "6   6 P\n",
       "7   9 S\n",
       "8   2 L\n",
       "9   5 O\n",
       "10  8 R"
      ]
     },
     "metadata": {},
     "output_type": "display_data"
    }
   ],
   "source": [
    "theDT[, list(A, C)]"
   ]
  },
  {
   "cell_type": "code",
   "execution_count": 83,
   "id": "05b6e68f",
   "metadata": {},
   "outputs": [
    {
     "data": {
      "text/html": [
       "<ol class=list-inline>\n",
       "\t<li>'a'</li>\n",
       "\t<li>'d'</li>\n",
       "\t<li>'g'</li>\n",
       "\t<li>'j'</li>\n",
       "\t<li>'c'</li>\n",
       "\t<li>'f'</li>\n",
       "\t<li>'i'</li>\n",
       "\t<li>'b'</li>\n",
       "\t<li>'e'</li>\n",
       "\t<li>'h'</li>\n",
       "</ol>\n"
      ],
      "text/latex": [
       "\\begin{enumerate*}\n",
       "\\item 'a'\n",
       "\\item 'd'\n",
       "\\item 'g'\n",
       "\\item 'j'\n",
       "\\item 'c'\n",
       "\\item 'f'\n",
       "\\item 'i'\n",
       "\\item 'b'\n",
       "\\item 'e'\n",
       "\\item 'h'\n",
       "\\end{enumerate*}\n"
      ],
      "text/markdown": [
       "1. 'a'\n",
       "2. 'd'\n",
       "3. 'g'\n",
       "4. 'j'\n",
       "5. 'c'\n",
       "6. 'f'\n",
       "7. 'i'\n",
       "8. 'b'\n",
       "9. 'e'\n",
       "10. 'h'\n",
       "\n",
       "\n"
      ],
      "text/plain": [
       " [1] \"a\" \"d\" \"g\" \"j\" \"c\" \"f\" \"i\" \"b\" \"e\" \"h\""
      ]
     },
     "metadata": {},
     "output_type": "display_data"
    }
   ],
   "source": [
    "# just one column\n",
    "theDT[, B]"
   ]
  },
  {
   "cell_type": "code",
   "execution_count": 84,
   "id": "04bcb71c",
   "metadata": {},
   "outputs": [
    {
     "data": {
      "text/html": [
       "<table>\n",
       "<thead><tr><th scope=col>B</th></tr></thead>\n",
       "<tbody>\n",
       "\t<tr><td>a</td></tr>\n",
       "\t<tr><td>d</td></tr>\n",
       "\t<tr><td>g</td></tr>\n",
       "\t<tr><td>j</td></tr>\n",
       "\t<tr><td>c</td></tr>\n",
       "\t<tr><td>f</td></tr>\n",
       "\t<tr><td>i</td></tr>\n",
       "\t<tr><td>b</td></tr>\n",
       "\t<tr><td>e</td></tr>\n",
       "\t<tr><td>h</td></tr>\n",
       "</tbody>\n",
       "</table>\n"
      ],
      "text/latex": [
       "\\begin{tabular}{r|l}\n",
       " B\\\\\n",
       "\\hline\n",
       "\t a\\\\\n",
       "\t d\\\\\n",
       "\t g\\\\\n",
       "\t j\\\\\n",
       "\t c\\\\\n",
       "\t f\\\\\n",
       "\t i\\\\\n",
       "\t b\\\\\n",
       "\t e\\\\\n",
       "\t h\\\\\n",
       "\\end{tabular}\n"
      ],
      "text/markdown": [
       "\n",
       "| B |\n",
       "|---|\n",
       "| a |\n",
       "| d |\n",
       "| g |\n",
       "| j |\n",
       "| c |\n",
       "| f |\n",
       "| i |\n",
       "| b |\n",
       "| e |\n",
       "| h |\n",
       "\n"
      ],
      "text/plain": [
       "   B\n",
       "1  a\n",
       "2  d\n",
       "3  g\n",
       "4  j\n",
       "5  c\n",
       "6  f\n",
       "7  i\n",
       "8  b\n",
       "9  e\n",
       "10 h"
      ]
     },
     "metadata": {},
     "output_type": "display_data"
    }
   ],
   "source": [
    "theDT[, list(B)]"
   ]
  },
  {
   "cell_type": "code",
   "execution_count": 85,
   "id": "2345c5bf",
   "metadata": {},
   "outputs": [
    {
     "data": {
      "text/html": [
       "<table>\n",
       "<thead><tr><th scope=col>B</th></tr></thead>\n",
       "<tbody>\n",
       "\t<tr><td>a</td></tr>\n",
       "\t<tr><td>d</td></tr>\n",
       "\t<tr><td>g</td></tr>\n",
       "\t<tr><td>j</td></tr>\n",
       "\t<tr><td>c</td></tr>\n",
       "\t<tr><td>f</td></tr>\n",
       "\t<tr><td>i</td></tr>\n",
       "\t<tr><td>b</td></tr>\n",
       "\t<tr><td>e</td></tr>\n",
       "\t<tr><td>h</td></tr>\n",
       "</tbody>\n",
       "</table>\n"
      ],
      "text/latex": [
       "\\begin{tabular}{r|l}\n",
       " B\\\\\n",
       "\\hline\n",
       "\t a\\\\\n",
       "\t d\\\\\n",
       "\t g\\\\\n",
       "\t j\\\\\n",
       "\t c\\\\\n",
       "\t f\\\\\n",
       "\t i\\\\\n",
       "\t b\\\\\n",
       "\t e\\\\\n",
       "\t h\\\\\n",
       "\\end{tabular}\n"
      ],
      "text/markdown": [
       "\n",
       "| B |\n",
       "|---|\n",
       "| a |\n",
       "| d |\n",
       "| g |\n",
       "| j |\n",
       "| c |\n",
       "| f |\n",
       "| i |\n",
       "| b |\n",
       "| e |\n",
       "| h |\n",
       "\n"
      ],
      "text/plain": [
       "   B\n",
       "1  a\n",
       "2  d\n",
       "3  g\n",
       "4  j\n",
       "5  c\n",
       "6  f\n",
       "7  i\n",
       "8  b\n",
       "9  e\n",
       "10 h"
      ]
     },
     "metadata": {},
     "output_type": "display_data"
    }
   ],
   "source": [
    "theDT[, \"B\", with=FALSE]"
   ]
  },
  {
   "cell_type": "code",
   "execution_count": 86,
   "id": "ac3e168c",
   "metadata": {},
   "outputs": [
    {
     "data": {
      "text/html": [
       "<table>\n",
       "<thead><tr><th scope=col>A</th><th scope=col>C</th></tr></thead>\n",
       "<tbody>\n",
       "\t<tr><td> 1</td><td>K </td></tr>\n",
       "\t<tr><td> 4</td><td>N </td></tr>\n",
       "\t<tr><td> 7</td><td>Q </td></tr>\n",
       "\t<tr><td>10</td><td>T </td></tr>\n",
       "\t<tr><td> 3</td><td>M </td></tr>\n",
       "\t<tr><td> 6</td><td>P </td></tr>\n",
       "\t<tr><td> 9</td><td>S </td></tr>\n",
       "\t<tr><td> 2</td><td>L </td></tr>\n",
       "\t<tr><td> 5</td><td>O </td></tr>\n",
       "\t<tr><td> 8</td><td>R </td></tr>\n",
       "</tbody>\n",
       "</table>\n"
      ],
      "text/latex": [
       "\\begin{tabular}{r|ll}\n",
       " A & C\\\\\n",
       "\\hline\n",
       "\t  1 & K \\\\\n",
       "\t  4 & N \\\\\n",
       "\t  7 & Q \\\\\n",
       "\t 10 & T \\\\\n",
       "\t  3 & M \\\\\n",
       "\t  6 & P \\\\\n",
       "\t  9 & S \\\\\n",
       "\t  2 & L \\\\\n",
       "\t  5 & O \\\\\n",
       "\t  8 & R \\\\\n",
       "\\end{tabular}\n"
      ],
      "text/markdown": [
       "\n",
       "| A | C |\n",
       "|---|---|\n",
       "|  1 | K  |\n",
       "|  4 | N  |\n",
       "|  7 | Q  |\n",
       "| 10 | T  |\n",
       "|  3 | M  |\n",
       "|  6 | P  |\n",
       "|  9 | S  |\n",
       "|  2 | L  |\n",
       "|  5 | O  |\n",
       "|  8 | R  |\n",
       "\n"
      ],
      "text/plain": [
       "   A  C\n",
       "1   1 K\n",
       "2   4 N\n",
       "3   7 Q\n",
       "4  10 T\n",
       "5   3 M\n",
       "6   6 P\n",
       "7   9 S\n",
       "8   2 L\n",
       "9   5 O\n",
       "10  8 R"
      ]
     },
     "metadata": {},
     "output_type": "display_data"
    }
   ],
   "source": [
    "theDT[, c(\"A\", \"C\"), with=FALSE]"
   ]
  },
  {
   "cell_type": "code",
   "execution_count": 87,
   "id": "1568f7b8",
   "metadata": {},
   "outputs": [
    {
     "data": {
      "text/html": [
       "<table>\n",
       "<thead><tr><th scope=col>A</th><th scope=col>C</th></tr></thead>\n",
       "<tbody>\n",
       "\t<tr><td> 1</td><td>K </td></tr>\n",
       "\t<tr><td> 4</td><td>N </td></tr>\n",
       "\t<tr><td> 7</td><td>Q </td></tr>\n",
       "\t<tr><td>10</td><td>T </td></tr>\n",
       "\t<tr><td> 3</td><td>M </td></tr>\n",
       "\t<tr><td> 6</td><td>P </td></tr>\n",
       "\t<tr><td> 9</td><td>S </td></tr>\n",
       "\t<tr><td> 2</td><td>L </td></tr>\n",
       "\t<tr><td> 5</td><td>O </td></tr>\n",
       "\t<tr><td> 8</td><td>R </td></tr>\n",
       "</tbody>\n",
       "</table>\n"
      ],
      "text/latex": [
       "\\begin{tabular}{r|ll}\n",
       " A & C\\\\\n",
       "\\hline\n",
       "\t  1 & K \\\\\n",
       "\t  4 & N \\\\\n",
       "\t  7 & Q \\\\\n",
       "\t 10 & T \\\\\n",
       "\t  3 & M \\\\\n",
       "\t  6 & P \\\\\n",
       "\t  9 & S \\\\\n",
       "\t  2 & L \\\\\n",
       "\t  5 & O \\\\\n",
       "\t  8 & R \\\\\n",
       "\\end{tabular}\n"
      ],
      "text/markdown": [
       "\n",
       "| A | C |\n",
       "|---|---|\n",
       "|  1 | K  |\n",
       "|  4 | N  |\n",
       "|  7 | Q  |\n",
       "| 10 | T  |\n",
       "|  3 | M  |\n",
       "|  6 | P  |\n",
       "|  9 | S  |\n",
       "|  2 | L  |\n",
       "|  5 | O  |\n",
       "|  8 | R  |\n",
       "\n"
      ],
      "text/plain": [
       "   A  C\n",
       "1   1 K\n",
       "2   4 N\n",
       "3   7 Q\n",
       "4  10 T\n",
       "5   3 M\n",
       "6   6 P\n",
       "7   9 S\n",
       "8   2 L\n",
       "9   5 O\n",
       "10  8 R"
      ]
     },
     "metadata": {},
     "output_type": "display_data"
    }
   ],
   "source": [
    "theCols <- c(\"A\", \"C\")\n",
    "theDT[, theCols, with=FALSE]"
   ]
  },
  {
   "cell_type": "code",
   "execution_count": 88,
   "id": "15d87283",
   "metadata": {},
   "outputs": [
    {
     "data": {
      "text/html": [
       "<table>\n",
       "<thead><tr><th scope=col>A</th><th scope=col>B</th><th scope=col>C</th><th scope=col>D</th></tr></thead>\n",
       "<tbody>\n",
       "\t<tr><td> 1   </td><td>a    </td><td>K    </td><td>One  </td></tr>\n",
       "\t<tr><td> 4   </td><td>d    </td><td>N    </td><td>One  </td></tr>\n",
       "\t<tr><td> 7   </td><td>g    </td><td>Q    </td><td>One  </td></tr>\n",
       "\t<tr><td>10   </td><td>j    </td><td>T    </td><td>One  </td></tr>\n",
       "\t<tr><td> 3   </td><td>c    </td><td>M    </td><td>Three</td></tr>\n",
       "\t<tr><td> 6   </td><td>f    </td><td>P    </td><td>Three</td></tr>\n",
       "\t<tr><td> 9   </td><td>i    </td><td>S    </td><td>Three</td></tr>\n",
       "\t<tr><td> 2   </td><td>b    </td><td>L    </td><td>Two  </td></tr>\n",
       "\t<tr><td> 5   </td><td>e    </td><td>O    </td><td>Two  </td></tr>\n",
       "\t<tr><td> 8   </td><td>h    </td><td>R    </td><td>Two  </td></tr>\n",
       "</tbody>\n",
       "</table>\n"
      ],
      "text/latex": [
       "\\begin{tabular}{r|llll}\n",
       " A & B & C & D\\\\\n",
       "\\hline\n",
       "\t  1    & a     & K     & One  \\\\\n",
       "\t  4    & d     & N     & One  \\\\\n",
       "\t  7    & g     & Q     & One  \\\\\n",
       "\t 10    & j     & T     & One  \\\\\n",
       "\t  3    & c     & M     & Three\\\\\n",
       "\t  6    & f     & P     & Three\\\\\n",
       "\t  9    & i     & S     & Three\\\\\n",
       "\t  2    & b     & L     & Two  \\\\\n",
       "\t  5    & e     & O     & Two  \\\\\n",
       "\t  8    & h     & R     & Two  \\\\\n",
       "\\end{tabular}\n"
      ],
      "text/markdown": [
       "\n",
       "| A | B | C | D |\n",
       "|---|---|---|---|\n",
       "|  1    | a     | K     | One   |\n",
       "|  4    | d     | N     | One   |\n",
       "|  7    | g     | Q     | One   |\n",
       "| 10    | j     | T     | One   |\n",
       "|  3    | c     | M     | Three |\n",
       "|  6    | f     | P     | Three |\n",
       "|  9    | i     | S     | Three |\n",
       "|  2    | b     | L     | Two   |\n",
       "|  5    | e     | O     | Two   |\n",
       "|  8    | h     | R     | Two   |\n",
       "\n"
      ],
      "text/plain": [
       "   A  B C D    \n",
       "1   1 a K One  \n",
       "2   4 d N One  \n",
       "3   7 g Q One  \n",
       "4  10 j T One  \n",
       "5   3 c M Three\n",
       "6   6 f P Three\n",
       "7   9 i S Three\n",
       "8   2 b L Two  \n",
       "9   5 e O Two  \n",
       "10  8 h R Two  "
      ]
     },
     "metadata": {},
     "output_type": "display_data"
    }
   ],
   "source": [
    "# set the key\n",
    "setkey(theDT, D)\n",
    "# show the data.table again\n",
    "theDT"
   ]
  },
  {
   "cell_type": "code",
   "execution_count": 89,
   "id": "35c740ce",
   "metadata": {},
   "outputs": [
    {
     "data": {
      "text/html": [
       "'D'"
      ],
      "text/latex": [
       "'D'"
      ],
      "text/markdown": [
       "'D'"
      ],
      "text/plain": [
       "[1] \"D\""
      ]
     },
     "metadata": {},
     "output_type": "display_data"
    }
   ],
   "source": [
    "key(theDT)"
   ]
  },
  {
   "cell_type": "code",
   "execution_count": 90,
   "id": "3880301e",
   "metadata": {},
   "outputs": [
    {
     "name": "stdout",
     "output_type": "stream",
     "text": [
      "         NAME   NROW NCOL MB                                    COLS       KEY\n",
      "1:  diamondDT 53,940   10  3 carat,cut,color,clarity,depth,table,... cut,color\n",
      "2: diamondsDT 53,940   10  3 carat,cut,color,clarity,depth,table,...          \n",
      "3:      theDT     10    4  0                                 A,B,C,D         D\n",
      "Total: 6MB\n"
     ]
    }
   ],
   "source": [
    "tables()"
   ]
  },
  {
   "cell_type": "code",
   "execution_count": 91,
   "id": "4c87ee06",
   "metadata": {},
   "outputs": [
    {
     "data": {
      "text/html": [
       "<table>\n",
       "<thead><tr><th scope=col>A</th><th scope=col>B</th><th scope=col>C</th><th scope=col>D</th></tr></thead>\n",
       "<tbody>\n",
       "\t<tr><td> 1 </td><td>a  </td><td>K  </td><td>One</td></tr>\n",
       "\t<tr><td> 4 </td><td>d  </td><td>N  </td><td>One</td></tr>\n",
       "\t<tr><td> 7 </td><td>g  </td><td>Q  </td><td>One</td></tr>\n",
       "\t<tr><td>10 </td><td>j  </td><td>T  </td><td>One</td></tr>\n",
       "</tbody>\n",
       "</table>\n"
      ],
      "text/latex": [
       "\\begin{tabular}{r|llll}\n",
       " A & B & C & D\\\\\n",
       "\\hline\n",
       "\t  1  & a   & K   & One\\\\\n",
       "\t  4  & d   & N   & One\\\\\n",
       "\t  7  & g   & Q   & One\\\\\n",
       "\t 10  & j   & T   & One\\\\\n",
       "\\end{tabular}\n"
      ],
      "text/markdown": [
       "\n",
       "| A | B | C | D |\n",
       "|---|---|---|---|\n",
       "|  1  | a   | K   | One |\n",
       "|  4  | d   | N   | One |\n",
       "|  7  | g   | Q   | One |\n",
       "| 10  | j   | T   | One |\n",
       "\n"
      ],
      "text/plain": [
       "  A  B C D  \n",
       "1  1 a K One\n",
       "2  4 d N One\n",
       "3  7 g Q One\n",
       "4 10 j T One"
      ]
     },
     "metadata": {},
     "output_type": "display_data"
    }
   ],
   "source": [
    "theDT[\"One\", ]"
   ]
  },
  {
   "cell_type": "code",
   "execution_count": 92,
   "id": "59078c2b",
   "metadata": {},
   "outputs": [
    {
     "data": {
      "text/html": [
       "<table>\n",
       "<thead><tr><th scope=col>A</th><th scope=col>B</th><th scope=col>C</th><th scope=col>D</th></tr></thead>\n",
       "<tbody>\n",
       "\t<tr><td> 1 </td><td>a  </td><td>K  </td><td>One</td></tr>\n",
       "\t<tr><td> 4 </td><td>d  </td><td>N  </td><td>One</td></tr>\n",
       "\t<tr><td> 7 </td><td>g  </td><td>Q  </td><td>One</td></tr>\n",
       "\t<tr><td>10 </td><td>j  </td><td>T  </td><td>One</td></tr>\n",
       "\t<tr><td> 2 </td><td>b  </td><td>L  </td><td>Two</td></tr>\n",
       "\t<tr><td> 5 </td><td>e  </td><td>O  </td><td>Two</td></tr>\n",
       "\t<tr><td> 8 </td><td>h  </td><td>R  </td><td>Two</td></tr>\n",
       "</tbody>\n",
       "</table>\n"
      ],
      "text/latex": [
       "\\begin{tabular}{r|llll}\n",
       " A & B & C & D\\\\\n",
       "\\hline\n",
       "\t  1  & a   & K   & One\\\\\n",
       "\t  4  & d   & N   & One\\\\\n",
       "\t  7  & g   & Q   & One\\\\\n",
       "\t 10  & j   & T   & One\\\\\n",
       "\t  2  & b   & L   & Two\\\\\n",
       "\t  5  & e   & O   & Two\\\\\n",
       "\t  8  & h   & R   & Two\\\\\n",
       "\\end{tabular}\n"
      ],
      "text/markdown": [
       "\n",
       "| A | B | C | D |\n",
       "|---|---|---|---|\n",
       "|  1  | a   | K   | One |\n",
       "|  4  | d   | N   | One |\n",
       "|  7  | g   | Q   | One |\n",
       "| 10  | j   | T   | One |\n",
       "|  2  | b   | L   | Two |\n",
       "|  5  | e   | O   | Two |\n",
       "|  8  | h   | R   | Two |\n",
       "\n"
      ],
      "text/plain": [
       "  A  B C D  \n",
       "1  1 a K One\n",
       "2  4 d N One\n",
       "3  7 g Q One\n",
       "4 10 j T One\n",
       "5  2 b L Two\n",
       "6  5 e O Two\n",
       "7  8 h R Two"
      ]
     },
     "metadata": {},
     "output_type": "display_data"
    }
   ],
   "source": [
    "theDT[c(\"One\", \"Two\"), ]"
   ]
  },
  {
   "cell_type": "code",
   "execution_count": 94,
   "id": "97d43a54",
   "metadata": {},
   "outputs": [],
   "source": [
    "# set the key\n",
    "setkey(diamondsDT, cut, color)"
   ]
  },
  {
   "cell_type": "code",
   "execution_count": 95,
   "id": "ad066a24",
   "metadata": {},
   "outputs": [
    {
     "data": {
      "text/html": [
       "<table>\n",
       "<thead><tr><th scope=col>carat</th><th scope=col>cut</th><th scope=col>color</th><th scope=col>clarity</th><th scope=col>depth</th><th scope=col>table</th><th scope=col>price</th><th scope=col>x</th><th scope=col>y</th><th scope=col>z</th></tr></thead>\n",
       "<tbody>\n",
       "\t<tr><td>0.75</td><td>Fair</td><td>D   </td><td>SI2 </td><td>64.6</td><td>57  </td><td>2848</td><td>5.74</td><td>5.72</td><td>3.70</td></tr>\n",
       "\t<tr><td>0.71</td><td>Fair</td><td>D   </td><td>VS2 </td><td>56.9</td><td>65  </td><td>2858</td><td>5.89</td><td>5.84</td><td>3.34</td></tr>\n",
       "\t<tr><td>0.90</td><td>Fair</td><td>D   </td><td>SI2 </td><td>66.9</td><td>57  </td><td>2885</td><td>6.02</td><td>5.90</td><td>3.99</td></tr>\n",
       "\t<tr><td>1.00</td><td>Fair</td><td>D   </td><td>SI2 </td><td>69.3</td><td>58  </td><td>2974</td><td>5.96</td><td>5.87</td><td>4.10</td></tr>\n",
       "\t<tr><td>1.01</td><td>Fair</td><td>D   </td><td>SI2 </td><td>64.6</td><td>56  </td><td>3003</td><td>6.31</td><td>6.24</td><td>4.05</td></tr>\n",
       "\t<tr><td>0.73</td><td>Fair</td><td>D   </td><td>VS1 </td><td>66.0</td><td>54  </td><td>3047</td><td>5.56</td><td>5.66</td><td>3.70</td></tr>\n",
       "</tbody>\n",
       "</table>\n"
      ],
      "text/latex": [
       "\\begin{tabular}{r|llllllllll}\n",
       " carat & cut & color & clarity & depth & table & price & x & y & z\\\\\n",
       "\\hline\n",
       "\t 0.75 & Fair & D    & SI2  & 64.6 & 57   & 2848 & 5.74 & 5.72 & 3.70\\\\\n",
       "\t 0.71 & Fair & D    & VS2  & 56.9 & 65   & 2858 & 5.89 & 5.84 & 3.34\\\\\n",
       "\t 0.90 & Fair & D    & SI2  & 66.9 & 57   & 2885 & 6.02 & 5.90 & 3.99\\\\\n",
       "\t 1.00 & Fair & D    & SI2  & 69.3 & 58   & 2974 & 5.96 & 5.87 & 4.10\\\\\n",
       "\t 1.01 & Fair & D    & SI2  & 64.6 & 56   & 3003 & 6.31 & 6.24 & 4.05\\\\\n",
       "\t 0.73 & Fair & D    & VS1  & 66.0 & 54   & 3047 & 5.56 & 5.66 & 3.70\\\\\n",
       "\\end{tabular}\n"
      ],
      "text/markdown": [
       "\n",
       "| carat | cut | color | clarity | depth | table | price | x | y | z |\n",
       "|---|---|---|---|---|---|---|---|---|---|\n",
       "| 0.75 | Fair | D    | SI2  | 64.6 | 57   | 2848 | 5.74 | 5.72 | 3.70 |\n",
       "| 0.71 | Fair | D    | VS2  | 56.9 | 65   | 2858 | 5.89 | 5.84 | 3.34 |\n",
       "| 0.90 | Fair | D    | SI2  | 66.9 | 57   | 2885 | 6.02 | 5.90 | 3.99 |\n",
       "| 1.00 | Fair | D    | SI2  | 69.3 | 58   | 2974 | 5.96 | 5.87 | 4.10 |\n",
       "| 1.01 | Fair | D    | SI2  | 64.6 | 56   | 3003 | 6.31 | 6.24 | 4.05 |\n",
       "| 0.73 | Fair | D    | VS1  | 66.0 | 54   | 3047 | 5.56 | 5.66 | 3.70 |\n",
       "\n"
      ],
      "text/plain": [
       "  carat cut  color clarity depth table price x    y    z   \n",
       "1 0.75  Fair D     SI2     64.6  57    2848  5.74 5.72 3.70\n",
       "2 0.71  Fair D     VS2     56.9  65    2858  5.89 5.84 3.34\n",
       "3 0.90  Fair D     SI2     66.9  57    2885  6.02 5.90 3.99\n",
       "4 1.00  Fair D     SI2     69.3  58    2974  5.96 5.87 4.10\n",
       "5 1.01  Fair D     SI2     64.6  56    3003  6.31 6.24 4.05\n",
       "6 0.73  Fair D     VS1     66.0  54    3047  5.56 5.66 3.70"
      ]
     },
     "metadata": {},
     "output_type": "display_data"
    }
   ],
   "source": [
    "head(diamondsDT)"
   ]
  },
  {
   "cell_type": "code",
   "execution_count": 96,
   "id": "c57e4f41",
   "metadata": {},
   "outputs": [
    {
     "data": {
      "text/html": [
       "<table>\n",
       "<thead><tr><th scope=col>carat</th><th scope=col>cut</th><th scope=col>color</th><th scope=col>clarity</th><th scope=col>depth</th><th scope=col>table</th><th scope=col>price</th><th scope=col>x</th><th scope=col>y</th><th scope=col>z</th></tr></thead>\n",
       "<tbody>\n",
       "\t<tr><td>0.23 </td><td>Ideal</td><td>E    </td><td>SI2  </td><td>61.5 </td><td>55   </td><td> 326 </td><td>3.95 </td><td>3.98 </td><td>2.43 </td></tr>\n",
       "\t<tr><td>0.26 </td><td>Ideal</td><td>E    </td><td>VVS2 </td><td>62.9 </td><td>58   </td><td> 554 </td><td>4.02 </td><td>4.06 </td><td>2.54 </td></tr>\n",
       "\t<tr><td>0.70 </td><td>Ideal</td><td>E    </td><td>SI1  </td><td>62.5 </td><td>57   </td><td>2757 </td><td>5.70 </td><td>5.72 </td><td>3.57 </td></tr>\n",
       "\t<tr><td>0.59 </td><td>Ideal</td><td>E    </td><td>VVS2 </td><td>62.0 </td><td>55   </td><td>2761 </td><td>5.38 </td><td>5.43 </td><td>3.35 </td></tr>\n",
       "\t<tr><td>0.74 </td><td>Ideal</td><td>E    </td><td>SI2  </td><td>62.2 </td><td>56   </td><td>2761 </td><td>5.80 </td><td>5.84 </td><td>3.62 </td></tr>\n",
       "\t<tr><td>0.70 </td><td>Ideal</td><td>E    </td><td>VS2  </td><td>60.7 </td><td>58   </td><td>2762 </td><td>5.73 </td><td>5.76 </td><td>3.49 </td></tr>\n",
       "</tbody>\n",
       "</table>\n"
      ],
      "text/latex": [
       "\\begin{tabular}{r|llllllllll}\n",
       " carat & cut & color & clarity & depth & table & price & x & y & z\\\\\n",
       "\\hline\n",
       "\t 0.23  & Ideal & E     & SI2   & 61.5  & 55    &  326  & 3.95  & 3.98  & 2.43 \\\\\n",
       "\t 0.26  & Ideal & E     & VVS2  & 62.9  & 58    &  554  & 4.02  & 4.06  & 2.54 \\\\\n",
       "\t 0.70  & Ideal & E     & SI1   & 62.5  & 57    & 2757  & 5.70  & 5.72  & 3.57 \\\\\n",
       "\t 0.59  & Ideal & E     & VVS2  & 62.0  & 55    & 2761  & 5.38  & 5.43  & 3.35 \\\\\n",
       "\t 0.74  & Ideal & E     & SI2   & 62.2  & 56    & 2761  & 5.80  & 5.84  & 3.62 \\\\\n",
       "\t 0.70  & Ideal & E     & VS2   & 60.7  & 58    & 2762  & 5.73  & 5.76  & 3.49 \\\\\n",
       "\\end{tabular}\n"
      ],
      "text/markdown": [
       "\n",
       "| carat | cut | color | clarity | depth | table | price | x | y | z |\n",
       "|---|---|---|---|---|---|---|---|---|---|\n",
       "| 0.23  | Ideal | E     | SI2   | 61.5  | 55    |  326  | 3.95  | 3.98  | 2.43  |\n",
       "| 0.26  | Ideal | E     | VVS2  | 62.9  | 58    |  554  | 4.02  | 4.06  | 2.54  |\n",
       "| 0.70  | Ideal | E     | SI1   | 62.5  | 57    | 2757  | 5.70  | 5.72  | 3.57  |\n",
       "| 0.59  | Ideal | E     | VVS2  | 62.0  | 55    | 2761  | 5.38  | 5.43  | 3.35  |\n",
       "| 0.74  | Ideal | E     | SI2   | 62.2  | 56    | 2761  | 5.80  | 5.84  | 3.62  |\n",
       "| 0.70  | Ideal | E     | VS2   | 60.7  | 58    | 2762  | 5.73  | 5.76  | 3.49  |\n",
       "\n"
      ],
      "text/plain": [
       "  carat cut   color clarity depth table price x    y    z   \n",
       "1 0.23  Ideal E     SI2     61.5  55     326  3.95 3.98 2.43\n",
       "2 0.26  Ideal E     VVS2    62.9  58     554  4.02 4.06 2.54\n",
       "3 0.70  Ideal E     SI1     62.5  57    2757  5.70 5.72 3.57\n",
       "4 0.59  Ideal E     VVS2    62.0  55    2761  5.38 5.43 3.35\n",
       "5 0.74  Ideal E     SI2     62.2  56    2761  5.80 5.84 3.62\n",
       "6 0.70  Ideal E     VS2     60.7  58    2762  5.73 5.76 3.49"
      ]
     },
     "metadata": {},
     "output_type": "display_data"
    }
   ],
   "source": [
    "# access some rows\n",
    "head(diamondsDT[J(\"Ideal\", \"E\"), ])"
   ]
  },
  {
   "cell_type": "code",
   "execution_count": 97,
   "id": "430a35bc",
   "metadata": {},
   "outputs": [
    {
     "data": {
      "text/html": [
       "<table>\n",
       "<thead><tr><th scope=col>carat</th><th scope=col>cut</th><th scope=col>color</th><th scope=col>clarity</th><th scope=col>depth</th><th scope=col>table</th><th scope=col>price</th><th scope=col>x</th><th scope=col>y</th><th scope=col>z</th></tr></thead>\n",
       "<tbody>\n",
       "\t<tr><td>0.23 </td><td>Ideal</td><td>E    </td><td>SI2  </td><td>61.5 </td><td>55   </td><td> 326 </td><td>3.95 </td><td>3.98 </td><td>2.43 </td></tr>\n",
       "\t<tr><td>0.26 </td><td>Ideal</td><td>E    </td><td>VVS2 </td><td>62.9 </td><td>58   </td><td> 554 </td><td>4.02 </td><td>4.06 </td><td>2.54 </td></tr>\n",
       "\t<tr><td>0.70 </td><td>Ideal</td><td>E    </td><td>SI1  </td><td>62.5 </td><td>57   </td><td>2757 </td><td>5.70 </td><td>5.72 </td><td>3.57 </td></tr>\n",
       "\t<tr><td>0.59 </td><td>Ideal</td><td>E    </td><td>VVS2 </td><td>62.0 </td><td>55   </td><td>2761 </td><td>5.38 </td><td>5.43 </td><td>3.35 </td></tr>\n",
       "\t<tr><td>0.74 </td><td>Ideal</td><td>E    </td><td>SI2  </td><td>62.2 </td><td>56   </td><td>2761 </td><td>5.80 </td><td>5.84 </td><td>3.62 </td></tr>\n",
       "\t<tr><td>0.70 </td><td>Ideal</td><td>E    </td><td>VS2  </td><td>60.7 </td><td>58   </td><td>2762 </td><td>5.73 </td><td>5.76 </td><td>3.49 </td></tr>\n",
       "</tbody>\n",
       "</table>\n"
      ],
      "text/latex": [
       "\\begin{tabular}{r|llllllllll}\n",
       " carat & cut & color & clarity & depth & table & price & x & y & z\\\\\n",
       "\\hline\n",
       "\t 0.23  & Ideal & E     & SI2   & 61.5  & 55    &  326  & 3.95  & 3.98  & 2.43 \\\\\n",
       "\t 0.26  & Ideal & E     & VVS2  & 62.9  & 58    &  554  & 4.02  & 4.06  & 2.54 \\\\\n",
       "\t 0.70  & Ideal & E     & SI1   & 62.5  & 57    & 2757  & 5.70  & 5.72  & 3.57 \\\\\n",
       "\t 0.59  & Ideal & E     & VVS2  & 62.0  & 55    & 2761  & 5.38  & 5.43  & 3.35 \\\\\n",
       "\t 0.74  & Ideal & E     & SI2   & 62.2  & 56    & 2761  & 5.80  & 5.84  & 3.62 \\\\\n",
       "\t 0.70  & Ideal & E     & VS2   & 60.7  & 58    & 2762  & 5.73  & 5.76  & 3.49 \\\\\n",
       "\\end{tabular}\n"
      ],
      "text/markdown": [
       "\n",
       "| carat | cut | color | clarity | depth | table | price | x | y | z |\n",
       "|---|---|---|---|---|---|---|---|---|---|\n",
       "| 0.23  | Ideal | E     | SI2   | 61.5  | 55    |  326  | 3.95  | 3.98  | 2.43  |\n",
       "| 0.26  | Ideal | E     | VVS2  | 62.9  | 58    |  554  | 4.02  | 4.06  | 2.54  |\n",
       "| 0.70  | Ideal | E     | SI1   | 62.5  | 57    | 2757  | 5.70  | 5.72  | 3.57  |\n",
       "| 0.59  | Ideal | E     | VVS2  | 62.0  | 55    | 2761  | 5.38  | 5.43  | 3.35  |\n",
       "| 0.74  | Ideal | E     | SI2   | 62.2  | 56    | 2761  | 5.80  | 5.84  | 3.62  |\n",
       "| 0.70  | Ideal | E     | VS2   | 60.7  | 58    | 2762  | 5.73  | 5.76  | 3.49  |\n",
       "\n"
      ],
      "text/plain": [
       "  carat cut   color clarity depth table price x    y    z   \n",
       "1 0.23  Ideal E     SI2     61.5  55     326  3.95 3.98 2.43\n",
       "2 0.26  Ideal E     VVS2    62.9  58     554  4.02 4.06 2.54\n",
       "3 0.70  Ideal E     SI1     62.5  57    2757  5.70 5.72 3.57\n",
       "4 0.59  Ideal E     VVS2    62.0  55    2761  5.38 5.43 3.35\n",
       "5 0.74  Ideal E     SI2     62.2  56    2761  5.80 5.84 3.62\n",
       "6 0.70  Ideal E     VS2     60.7  58    2762  5.73 5.76 3.49"
      ]
     },
     "metadata": {},
     "output_type": "display_data"
    }
   ],
   "source": [
    "head(diamondsDT[J(\"Ideal\", c(\"E\", \"D\"))])"
   ]
  },
  {
   "cell_type": "code",
   "execution_count": 98,
   "id": "7094bd79",
   "metadata": {},
   "outputs": [
    {
     "data": {
      "text/html": [
       "<table>\n",
       "<thead><tr><th scope=col>cut</th><th scope=col>price</th></tr></thead>\n",
       "<tbody>\n",
       "\t<tr><td>Fair     </td><td>4358.758 </td></tr>\n",
       "\t<tr><td>Good     </td><td>3928.864 </td></tr>\n",
       "\t<tr><td>Very Good</td><td>3981.760 </td></tr>\n",
       "\t<tr><td>Premium  </td><td>4584.258 </td></tr>\n",
       "\t<tr><td>Ideal    </td><td>3457.542 </td></tr>\n",
       "</tbody>\n",
       "</table>\n"
      ],
      "text/latex": [
       "\\begin{tabular}{r|ll}\n",
       " cut & price\\\\\n",
       "\\hline\n",
       "\t Fair      & 4358.758 \\\\\n",
       "\t Good      & 3928.864 \\\\\n",
       "\t Very Good & 3981.760 \\\\\n",
       "\t Premium   & 4584.258 \\\\\n",
       "\t Ideal     & 3457.542 \\\\\n",
       "\\end{tabular}\n"
      ],
      "text/markdown": [
       "\n",
       "| cut | price |\n",
       "|---|---|\n",
       "| Fair      | 4358.758  |\n",
       "| Good      | 3928.864  |\n",
       "| Very Good | 3981.760  |\n",
       "| Premium   | 4584.258  |\n",
       "| Ideal     | 3457.542  |\n",
       "\n"
      ],
      "text/plain": [
       "  cut       price   \n",
       "1 Fair      4358.758\n",
       "2 Good      3928.864\n",
       "3 Very Good 3981.760\n",
       "4 Premium   4584.258\n",
       "5 Ideal     3457.542"
      ]
     },
     "metadata": {},
     "output_type": "display_data"
    }
   ],
   "source": [
    "aggregate(price ~ cut, diamonds, mean)"
   ]
  },
  {
   "cell_type": "code",
   "execution_count": 99,
   "id": "8286c45a",
   "metadata": {},
   "outputs": [
    {
     "data": {
      "text/html": [
       "<table>\n",
       "<thead><tr><th scope=col>cut</th><th scope=col>V1</th></tr></thead>\n",
       "<tbody>\n",
       "\t<tr><td>Fair     </td><td>4358.758 </td></tr>\n",
       "\t<tr><td>Good     </td><td>3928.864 </td></tr>\n",
       "\t<tr><td>Very Good</td><td>3981.760 </td></tr>\n",
       "\t<tr><td>Premium  </td><td>4584.258 </td></tr>\n",
       "\t<tr><td>Ideal    </td><td>3457.542 </td></tr>\n",
       "</tbody>\n",
       "</table>\n"
      ],
      "text/latex": [
       "\\begin{tabular}{r|ll}\n",
       " cut & V1\\\\\n",
       "\\hline\n",
       "\t Fair      & 4358.758 \\\\\n",
       "\t Good      & 3928.864 \\\\\n",
       "\t Very Good & 3981.760 \\\\\n",
       "\t Premium   & 4584.258 \\\\\n",
       "\t Ideal     & 3457.542 \\\\\n",
       "\\end{tabular}\n"
      ],
      "text/markdown": [
       "\n",
       "| cut | V1 |\n",
       "|---|---|\n",
       "| Fair      | 4358.758  |\n",
       "| Good      | 3928.864  |\n",
       "| Very Good | 3981.760  |\n",
       "| Premium   | 4584.258  |\n",
       "| Ideal     | 3457.542  |\n",
       "\n"
      ],
      "text/plain": [
       "  cut       V1      \n",
       "1 Fair      4358.758\n",
       "2 Good      3928.864\n",
       "3 Very Good 3981.760\n",
       "4 Premium   4584.258\n",
       "5 Ideal     3457.542"
      ]
     },
     "metadata": {},
     "output_type": "display_data"
    }
   ],
   "source": [
    "diamondsDT[, mean(price), by=cut]"
   ]
  },
  {
   "cell_type": "code",
   "execution_count": 100,
   "id": "864e332c",
   "metadata": {},
   "outputs": [
    {
     "data": {
      "text/html": [
       "<table>\n",
       "<thead><tr><th scope=col>cut</th><th scope=col>price</th></tr></thead>\n",
       "<tbody>\n",
       "\t<tr><td>Fair     </td><td>4358.758 </td></tr>\n",
       "\t<tr><td>Good     </td><td>3928.864 </td></tr>\n",
       "\t<tr><td>Very Good</td><td>3981.760 </td></tr>\n",
       "\t<tr><td>Premium  </td><td>4584.258 </td></tr>\n",
       "\t<tr><td>Ideal    </td><td>3457.542 </td></tr>\n",
       "</tbody>\n",
       "</table>\n"
      ],
      "text/latex": [
       "\\begin{tabular}{r|ll}\n",
       " cut & price\\\\\n",
       "\\hline\n",
       "\t Fair      & 4358.758 \\\\\n",
       "\t Good      & 3928.864 \\\\\n",
       "\t Very Good & 3981.760 \\\\\n",
       "\t Premium   & 4584.258 \\\\\n",
       "\t Ideal     & 3457.542 \\\\\n",
       "\\end{tabular}\n"
      ],
      "text/markdown": [
       "\n",
       "| cut | price |\n",
       "|---|---|\n",
       "| Fair      | 4358.758  |\n",
       "| Good      | 3928.864  |\n",
       "| Very Good | 3981.760  |\n",
       "| Premium   | 4584.258  |\n",
       "| Ideal     | 3457.542  |\n",
       "\n"
      ],
      "text/plain": [
       "  cut       price   \n",
       "1 Fair      4358.758\n",
       "2 Good      3928.864\n",
       "3 Very Good 3981.760\n",
       "4 Premium   4584.258\n",
       "5 Ideal     3457.542"
      ]
     },
     "metadata": {},
     "output_type": "display_data"
    }
   ],
   "source": [
    "diamondsDT[, list(price=mean(price)), by=cut]"
   ]
  },
  {
   "cell_type": "code",
   "execution_count": 101,
   "id": "42cf2b16",
   "metadata": {},
   "outputs": [
    {
     "data": {
      "text/html": [
       "<table>\n",
       "<thead><tr><th scope=col>cut</th><th scope=col>color</th><th scope=col>V1</th></tr></thead>\n",
       "<tbody>\n",
       "\t<tr><td>Fair     </td><td>D        </td><td>4291.061 </td></tr>\n",
       "\t<tr><td>Fair     </td><td>E        </td><td>3682.312 </td></tr>\n",
       "\t<tr><td>Fair     </td><td>F        </td><td>3827.003 </td></tr>\n",
       "\t<tr><td>Fair     </td><td>G        </td><td>4239.255 </td></tr>\n",
       "\t<tr><td>Fair     </td><td>H        </td><td>5135.683 </td></tr>\n",
       "\t<tr><td>Fair     </td><td>I        </td><td>4685.446 </td></tr>\n",
       "\t<tr><td>Fair     </td><td>J        </td><td>4975.655 </td></tr>\n",
       "\t<tr><td>Good     </td><td>D        </td><td>3405.382 </td></tr>\n",
       "\t<tr><td>Good     </td><td>E        </td><td>3423.644 </td></tr>\n",
       "\t<tr><td>Good     </td><td>F        </td><td>3495.750 </td></tr>\n",
       "\t<tr><td>Good     </td><td>G        </td><td>4123.482 </td></tr>\n",
       "\t<tr><td>Good     </td><td>H        </td><td>4276.255 </td></tr>\n",
       "\t<tr><td>Good     </td><td>I        </td><td>5078.533 </td></tr>\n",
       "\t<tr><td>Good     </td><td>J        </td><td>4574.173 </td></tr>\n",
       "\t<tr><td>Very Good</td><td>D        </td><td>3470.467 </td></tr>\n",
       "\t<tr><td>Very Good</td><td>E        </td><td>3214.652 </td></tr>\n",
       "\t<tr><td>Very Good</td><td>F        </td><td>3778.820 </td></tr>\n",
       "\t<tr><td>Very Good</td><td>G        </td><td>3872.754 </td></tr>\n",
       "\t<tr><td>Very Good</td><td>H        </td><td>4535.390 </td></tr>\n",
       "\t<tr><td>Very Good</td><td>I        </td><td>5255.880 </td></tr>\n",
       "\t<tr><td>Very Good</td><td>J        </td><td>5103.513 </td></tr>\n",
       "\t<tr><td>Premium  </td><td>D        </td><td>3631.293 </td></tr>\n",
       "\t<tr><td>Premium  </td><td>E        </td><td>3538.914 </td></tr>\n",
       "\t<tr><td>Premium  </td><td>F        </td><td>4324.890 </td></tr>\n",
       "\t<tr><td>Premium  </td><td>G        </td><td>4500.742 </td></tr>\n",
       "\t<tr><td>Premium  </td><td>H        </td><td>5216.707 </td></tr>\n",
       "\t<tr><td>Premium  </td><td>I        </td><td>5946.181 </td></tr>\n",
       "\t<tr><td>Premium  </td><td>J        </td><td>6294.592 </td></tr>\n",
       "\t<tr><td>Ideal    </td><td>D        </td><td>2629.095 </td></tr>\n",
       "\t<tr><td>Ideal    </td><td>E        </td><td>2597.550 </td></tr>\n",
       "\t<tr><td>Ideal    </td><td>F        </td><td>3374.939 </td></tr>\n",
       "\t<tr><td>Ideal    </td><td>G        </td><td>3720.706 </td></tr>\n",
       "\t<tr><td>Ideal    </td><td>H        </td><td>3889.335 </td></tr>\n",
       "\t<tr><td>Ideal    </td><td>I        </td><td>4451.970 </td></tr>\n",
       "\t<tr><td>Ideal    </td><td>J        </td><td>4918.186 </td></tr>\n",
       "</tbody>\n",
       "</table>\n"
      ],
      "text/latex": [
       "\\begin{tabular}{r|lll}\n",
       " cut & color & V1\\\\\n",
       "\\hline\n",
       "\t Fair      & D         & 4291.061 \\\\\n",
       "\t Fair      & E         & 3682.312 \\\\\n",
       "\t Fair      & F         & 3827.003 \\\\\n",
       "\t Fair      & G         & 4239.255 \\\\\n",
       "\t Fair      & H         & 5135.683 \\\\\n",
       "\t Fair      & I         & 4685.446 \\\\\n",
       "\t Fair      & J         & 4975.655 \\\\\n",
       "\t Good      & D         & 3405.382 \\\\\n",
       "\t Good      & E         & 3423.644 \\\\\n",
       "\t Good      & F         & 3495.750 \\\\\n",
       "\t Good      & G         & 4123.482 \\\\\n",
       "\t Good      & H         & 4276.255 \\\\\n",
       "\t Good      & I         & 5078.533 \\\\\n",
       "\t Good      & J         & 4574.173 \\\\\n",
       "\t Very Good & D         & 3470.467 \\\\\n",
       "\t Very Good & E         & 3214.652 \\\\\n",
       "\t Very Good & F         & 3778.820 \\\\\n",
       "\t Very Good & G         & 3872.754 \\\\\n",
       "\t Very Good & H         & 4535.390 \\\\\n",
       "\t Very Good & I         & 5255.880 \\\\\n",
       "\t Very Good & J         & 5103.513 \\\\\n",
       "\t Premium   & D         & 3631.293 \\\\\n",
       "\t Premium   & E         & 3538.914 \\\\\n",
       "\t Premium   & F         & 4324.890 \\\\\n",
       "\t Premium   & G         & 4500.742 \\\\\n",
       "\t Premium   & H         & 5216.707 \\\\\n",
       "\t Premium   & I         & 5946.181 \\\\\n",
       "\t Premium   & J         & 6294.592 \\\\\n",
       "\t Ideal     & D         & 2629.095 \\\\\n",
       "\t Ideal     & E         & 2597.550 \\\\\n",
       "\t Ideal     & F         & 3374.939 \\\\\n",
       "\t Ideal     & G         & 3720.706 \\\\\n",
       "\t Ideal     & H         & 3889.335 \\\\\n",
       "\t Ideal     & I         & 4451.970 \\\\\n",
       "\t Ideal     & J         & 4918.186 \\\\\n",
       "\\end{tabular}\n"
      ],
      "text/markdown": [
       "\n",
       "| cut | color | V1 |\n",
       "|---|---|---|\n",
       "| Fair      | D         | 4291.061  |\n",
       "| Fair      | E         | 3682.312  |\n",
       "| Fair      | F         | 3827.003  |\n",
       "| Fair      | G         | 4239.255  |\n",
       "| Fair      | H         | 5135.683  |\n",
       "| Fair      | I         | 4685.446  |\n",
       "| Fair      | J         | 4975.655  |\n",
       "| Good      | D         | 3405.382  |\n",
       "| Good      | E         | 3423.644  |\n",
       "| Good      | F         | 3495.750  |\n",
       "| Good      | G         | 4123.482  |\n",
       "| Good      | H         | 4276.255  |\n",
       "| Good      | I         | 5078.533  |\n",
       "| Good      | J         | 4574.173  |\n",
       "| Very Good | D         | 3470.467  |\n",
       "| Very Good | E         | 3214.652  |\n",
       "| Very Good | F         | 3778.820  |\n",
       "| Very Good | G         | 3872.754  |\n",
       "| Very Good | H         | 4535.390  |\n",
       "| Very Good | I         | 5255.880  |\n",
       "| Very Good | J         | 5103.513  |\n",
       "| Premium   | D         | 3631.293  |\n",
       "| Premium   | E         | 3538.914  |\n",
       "| Premium   | F         | 4324.890  |\n",
       "| Premium   | G         | 4500.742  |\n",
       "| Premium   | H         | 5216.707  |\n",
       "| Premium   | I         | 5946.181  |\n",
       "| Premium   | J         | 6294.592  |\n",
       "| Ideal     | D         | 2629.095  |\n",
       "| Ideal     | E         | 2597.550  |\n",
       "| Ideal     | F         | 3374.939  |\n",
       "| Ideal     | G         | 3720.706  |\n",
       "| Ideal     | H         | 3889.335  |\n",
       "| Ideal     | I         | 4451.970  |\n",
       "| Ideal     | J         | 4918.186  |\n",
       "\n"
      ],
      "text/plain": [
       "   cut       color V1      \n",
       "1  Fair      D     4291.061\n",
       "2  Fair      E     3682.312\n",
       "3  Fair      F     3827.003\n",
       "4  Fair      G     4239.255\n",
       "5  Fair      H     5135.683\n",
       "6  Fair      I     4685.446\n",
       "7  Fair      J     4975.655\n",
       "8  Good      D     3405.382\n",
       "9  Good      E     3423.644\n",
       "10 Good      F     3495.750\n",
       "11 Good      G     4123.482\n",
       "12 Good      H     4276.255\n",
       "13 Good      I     5078.533\n",
       "14 Good      J     4574.173\n",
       "15 Very Good D     3470.467\n",
       "16 Very Good E     3214.652\n",
       "17 Very Good F     3778.820\n",
       "18 Very Good G     3872.754\n",
       "19 Very Good H     4535.390\n",
       "20 Very Good I     5255.880\n",
       "21 Very Good J     5103.513\n",
       "22 Premium   D     3631.293\n",
       "23 Premium   E     3538.914\n",
       "24 Premium   F     4324.890\n",
       "25 Premium   G     4500.742\n",
       "26 Premium   H     5216.707\n",
       "27 Premium   I     5946.181\n",
       "28 Premium   J     6294.592\n",
       "29 Ideal     D     2629.095\n",
       "30 Ideal     E     2597.550\n",
       "31 Ideal     F     3374.939\n",
       "32 Ideal     G     3720.706\n",
       "33 Ideal     H     3889.335\n",
       "34 Ideal     I     4451.970\n",
       "35 Ideal     J     4918.186"
      ]
     },
     "metadata": {},
     "output_type": "display_data"
    }
   ],
   "source": [
    "diamondsDT[, mean(price), by=list(cut, color)]"
   ]
  },
  {
   "cell_type": "code",
   "execution_count": 102,
   "id": "69de50f4",
   "metadata": {},
   "outputs": [
    {
     "data": {
      "text/html": [
       "<table>\n",
       "<thead><tr><th scope=col>cut</th><th scope=col>price</th><th scope=col>carat</th></tr></thead>\n",
       "<tbody>\n",
       "\t<tr><td>Fair     </td><td>4358.758 </td><td>1.0461366</td></tr>\n",
       "\t<tr><td>Good     </td><td>3928.864 </td><td>0.8491847</td></tr>\n",
       "\t<tr><td>Very Good</td><td>3981.760 </td><td>0.8063814</td></tr>\n",
       "\t<tr><td>Premium  </td><td>4584.258 </td><td>0.8919549</td></tr>\n",
       "\t<tr><td>Ideal    </td><td>3457.542 </td><td>0.7028370</td></tr>\n",
       "</tbody>\n",
       "</table>\n"
      ],
      "text/latex": [
       "\\begin{tabular}{r|lll}\n",
       " cut & price & carat\\\\\n",
       "\\hline\n",
       "\t Fair      & 4358.758  & 1.0461366\\\\\n",
       "\t Good      & 3928.864  & 0.8491847\\\\\n",
       "\t Very Good & 3981.760  & 0.8063814\\\\\n",
       "\t Premium   & 4584.258  & 0.8919549\\\\\n",
       "\t Ideal     & 3457.542  & 0.7028370\\\\\n",
       "\\end{tabular}\n"
      ],
      "text/markdown": [
       "\n",
       "| cut | price | carat |\n",
       "|---|---|---|\n",
       "| Fair      | 4358.758  | 1.0461366 |\n",
       "| Good      | 3928.864  | 0.8491847 |\n",
       "| Very Good | 3981.760  | 0.8063814 |\n",
       "| Premium   | 4584.258  | 0.8919549 |\n",
       "| Ideal     | 3457.542  | 0.7028370 |\n",
       "\n"
      ],
      "text/plain": [
       "  cut       price    carat    \n",
       "1 Fair      4358.758 1.0461366\n",
       "2 Good      3928.864 0.8491847\n",
       "3 Very Good 3981.760 0.8063814\n",
       "4 Premium   4584.258 0.8919549\n",
       "5 Ideal     3457.542 0.7028370"
      ]
     },
     "metadata": {},
     "output_type": "display_data"
    }
   ],
   "source": [
    "diamondsDT[, list(price=mean(price), carat=mean(carat)), by=cut]"
   ]
  },
  {
   "cell_type": "code",
   "execution_count": 104,
   "id": "0e5cb159",
   "metadata": {},
   "outputs": [
    {
     "data": {
      "text/html": [
       "<table>\n",
       "<thead><tr><th scope=col>cut</th><th scope=col>price</th><th scope=col>carat</th><th scope=col>caratSum</th></tr></thead>\n",
       "<tbody>\n",
       "\t<tr><td>Fair     </td><td>4358.758 </td><td>1.0461366</td><td> 1684.28 </td></tr>\n",
       "\t<tr><td>Good     </td><td>3928.864 </td><td>0.8491847</td><td> 4166.10 </td></tr>\n",
       "\t<tr><td>Very Good</td><td>3981.760 </td><td>0.8063814</td><td> 9742.70 </td></tr>\n",
       "\t<tr><td>Premium  </td><td>4584.258 </td><td>0.8919549</td><td>12300.95 </td></tr>\n",
       "\t<tr><td>Ideal    </td><td>3457.542 </td><td>0.7028370</td><td>15146.84 </td></tr>\n",
       "</tbody>\n",
       "</table>\n"
      ],
      "text/latex": [
       "\\begin{tabular}{r|llll}\n",
       " cut & price & carat & caratSum\\\\\n",
       "\\hline\n",
       "\t Fair      & 4358.758  & 1.0461366 &  1684.28 \\\\\n",
       "\t Good      & 3928.864  & 0.8491847 &  4166.10 \\\\\n",
       "\t Very Good & 3981.760  & 0.8063814 &  9742.70 \\\\\n",
       "\t Premium   & 4584.258  & 0.8919549 & 12300.95 \\\\\n",
       "\t Ideal     & 3457.542  & 0.7028370 & 15146.84 \\\\\n",
       "\\end{tabular}\n"
      ],
      "text/markdown": [
       "\n",
       "| cut | price | carat | caratSum |\n",
       "|---|---|---|---|\n",
       "| Fair      | 4358.758  | 1.0461366 |  1684.28  |\n",
       "| Good      | 3928.864  | 0.8491847 |  4166.10  |\n",
       "| Very Good | 3981.760  | 0.8063814 |  9742.70  |\n",
       "| Premium   | 4584.258  | 0.8919549 | 12300.95  |\n",
       "| Ideal     | 3457.542  | 0.7028370 | 15146.84  |\n",
       "\n"
      ],
      "text/plain": [
       "  cut       price    carat     caratSum\n",
       "1 Fair      4358.758 1.0461366  1684.28\n",
       "2 Good      3928.864 0.8491847  4166.10\n",
       "3 Very Good 3981.760 0.8063814  9742.70\n",
       "4 Premium   4584.258 0.8919549 12300.95\n",
       "5 Ideal     3457.542 0.7028370 15146.84"
      ]
     },
     "metadata": {},
     "output_type": "display_data"
    }
   ],
   "source": [
    "diamondsDT[, list(price=mean(price), carat=mean(carat),\n",
    "caratSum=sum(carat)), by=cut]"
   ]
  },
  {
   "cell_type": "code",
   "execution_count": 105,
   "id": "89eb51be",
   "metadata": {},
   "outputs": [
    {
     "data": {
      "text/html": [
       "<table>\n",
       "<thead><tr><th scope=col>cut</th><th scope=col>color</th><th scope=col>price</th><th scope=col>carat</th></tr></thead>\n",
       "<tbody>\n",
       "\t<tr><td>Fair     </td><td>D        </td><td>4291.061 </td><td>0.9201227</td></tr>\n",
       "\t<tr><td>Fair     </td><td>E        </td><td>3682.312 </td><td>0.8566071</td></tr>\n",
       "\t<tr><td>Fair     </td><td>F        </td><td>3827.003 </td><td>0.9047115</td></tr>\n",
       "\t<tr><td>Fair     </td><td>G        </td><td>4239.255 </td><td>1.0238217</td></tr>\n",
       "\t<tr><td>Fair     </td><td>H        </td><td>5135.683 </td><td>1.2191749</td></tr>\n",
       "\t<tr><td>Fair     </td><td>I        </td><td>4685.446 </td><td>1.1980571</td></tr>\n",
       "\t<tr><td>Fair     </td><td>J        </td><td>4975.655 </td><td>1.3411765</td></tr>\n",
       "\t<tr><td>Good     </td><td>D        </td><td>3405.382 </td><td>0.7445166</td></tr>\n",
       "\t<tr><td>Good     </td><td>E        </td><td>3423.644 </td><td>0.7451340</td></tr>\n",
       "\t<tr><td>Good     </td><td>F        </td><td>3495.750 </td><td>0.7759296</td></tr>\n",
       "\t<tr><td>Good     </td><td>G        </td><td>4123.482 </td><td>0.8508955</td></tr>\n",
       "\t<tr><td>Good     </td><td>H        </td><td>4276.255 </td><td>0.9147293</td></tr>\n",
       "\t<tr><td>Good     </td><td>I        </td><td>5078.533 </td><td>1.0572222</td></tr>\n",
       "\t<tr><td>Good     </td><td>J        </td><td>4574.173 </td><td>1.0995440</td></tr>\n",
       "\t<tr><td>Very Good</td><td>D        </td><td>3470.467 </td><td>0.6964243</td></tr>\n",
       "\t<tr><td>Very Good</td><td>E        </td><td>3214.652 </td><td>0.6763167</td></tr>\n",
       "\t<tr><td>Very Good</td><td>F        </td><td>3778.820 </td><td>0.7409612</td></tr>\n",
       "\t<tr><td>Very Good</td><td>G        </td><td>3872.754 </td><td>0.7667986</td></tr>\n",
       "\t<tr><td>Very Good</td><td>H        </td><td>4535.390 </td><td>0.9159485</td></tr>\n",
       "\t<tr><td>Very Good</td><td>I        </td><td>5255.880 </td><td>1.0469518</td></tr>\n",
       "\t<tr><td>Very Good</td><td>J        </td><td>5103.513 </td><td>1.1332153</td></tr>\n",
       "\t<tr><td>Premium  </td><td>D        </td><td>3631.293 </td><td>0.7215471</td></tr>\n",
       "\t<tr><td>Premium  </td><td>E        </td><td>3538.914 </td><td>0.7177450</td></tr>\n",
       "\t<tr><td>Premium  </td><td>F        </td><td>4324.890 </td><td>0.8270356</td></tr>\n",
       "\t<tr><td>Premium  </td><td>G        </td><td>4500.742 </td><td>0.8414877</td></tr>\n",
       "\t<tr><td>Premium  </td><td>H        </td><td>5216.707 </td><td>1.0164492</td></tr>\n",
       "\t<tr><td>Premium  </td><td>I        </td><td>5946.181 </td><td>1.1449370</td></tr>\n",
       "\t<tr><td>Premium  </td><td>J        </td><td>6294.592 </td><td>1.2930941</td></tr>\n",
       "\t<tr><td>Ideal    </td><td>D        </td><td>2629.095 </td><td>0.5657657</td></tr>\n",
       "\t<tr><td>Ideal    </td><td>E        </td><td>2597.550 </td><td>0.5784012</td></tr>\n",
       "\t<tr><td>Ideal    </td><td>F        </td><td>3374.939 </td><td>0.6558285</td></tr>\n",
       "\t<tr><td>Ideal    </td><td>G        </td><td>3720.706 </td><td>0.7007146</td></tr>\n",
       "\t<tr><td>Ideal    </td><td>H        </td><td>3889.335 </td><td>0.7995249</td></tr>\n",
       "\t<tr><td>Ideal    </td><td>I        </td><td>4451.970 </td><td>0.9130291</td></tr>\n",
       "\t<tr><td>Ideal    </td><td>J        </td><td>4918.186 </td><td>1.0635937</td></tr>\n",
       "</tbody>\n",
       "</table>\n"
      ],
      "text/latex": [
       "\\begin{tabular}{r|llll}\n",
       " cut & color & price & carat\\\\\n",
       "\\hline\n",
       "\t Fair      & D         & 4291.061  & 0.9201227\\\\\n",
       "\t Fair      & E         & 3682.312  & 0.8566071\\\\\n",
       "\t Fair      & F         & 3827.003  & 0.9047115\\\\\n",
       "\t Fair      & G         & 4239.255  & 1.0238217\\\\\n",
       "\t Fair      & H         & 5135.683  & 1.2191749\\\\\n",
       "\t Fair      & I         & 4685.446  & 1.1980571\\\\\n",
       "\t Fair      & J         & 4975.655  & 1.3411765\\\\\n",
       "\t Good      & D         & 3405.382  & 0.7445166\\\\\n",
       "\t Good      & E         & 3423.644  & 0.7451340\\\\\n",
       "\t Good      & F         & 3495.750  & 0.7759296\\\\\n",
       "\t Good      & G         & 4123.482  & 0.8508955\\\\\n",
       "\t Good      & H         & 4276.255  & 0.9147293\\\\\n",
       "\t Good      & I         & 5078.533  & 1.0572222\\\\\n",
       "\t Good      & J         & 4574.173  & 1.0995440\\\\\n",
       "\t Very Good & D         & 3470.467  & 0.6964243\\\\\n",
       "\t Very Good & E         & 3214.652  & 0.6763167\\\\\n",
       "\t Very Good & F         & 3778.820  & 0.7409612\\\\\n",
       "\t Very Good & G         & 3872.754  & 0.7667986\\\\\n",
       "\t Very Good & H         & 4535.390  & 0.9159485\\\\\n",
       "\t Very Good & I         & 5255.880  & 1.0469518\\\\\n",
       "\t Very Good & J         & 5103.513  & 1.1332153\\\\\n",
       "\t Premium   & D         & 3631.293  & 0.7215471\\\\\n",
       "\t Premium   & E         & 3538.914  & 0.7177450\\\\\n",
       "\t Premium   & F         & 4324.890  & 0.8270356\\\\\n",
       "\t Premium   & G         & 4500.742  & 0.8414877\\\\\n",
       "\t Premium   & H         & 5216.707  & 1.0164492\\\\\n",
       "\t Premium   & I         & 5946.181  & 1.1449370\\\\\n",
       "\t Premium   & J         & 6294.592  & 1.2930941\\\\\n",
       "\t Ideal     & D         & 2629.095  & 0.5657657\\\\\n",
       "\t Ideal     & E         & 2597.550  & 0.5784012\\\\\n",
       "\t Ideal     & F         & 3374.939  & 0.6558285\\\\\n",
       "\t Ideal     & G         & 3720.706  & 0.7007146\\\\\n",
       "\t Ideal     & H         & 3889.335  & 0.7995249\\\\\n",
       "\t Ideal     & I         & 4451.970  & 0.9130291\\\\\n",
       "\t Ideal     & J         & 4918.186  & 1.0635937\\\\\n",
       "\\end{tabular}\n"
      ],
      "text/markdown": [
       "\n",
       "| cut | color | price | carat |\n",
       "|---|---|---|---|\n",
       "| Fair      | D         | 4291.061  | 0.9201227 |\n",
       "| Fair      | E         | 3682.312  | 0.8566071 |\n",
       "| Fair      | F         | 3827.003  | 0.9047115 |\n",
       "| Fair      | G         | 4239.255  | 1.0238217 |\n",
       "| Fair      | H         | 5135.683  | 1.2191749 |\n",
       "| Fair      | I         | 4685.446  | 1.1980571 |\n",
       "| Fair      | J         | 4975.655  | 1.3411765 |\n",
       "| Good      | D         | 3405.382  | 0.7445166 |\n",
       "| Good      | E         | 3423.644  | 0.7451340 |\n",
       "| Good      | F         | 3495.750  | 0.7759296 |\n",
       "| Good      | G         | 4123.482  | 0.8508955 |\n",
       "| Good      | H         | 4276.255  | 0.9147293 |\n",
       "| Good      | I         | 5078.533  | 1.0572222 |\n",
       "| Good      | J         | 4574.173  | 1.0995440 |\n",
       "| Very Good | D         | 3470.467  | 0.6964243 |\n",
       "| Very Good | E         | 3214.652  | 0.6763167 |\n",
       "| Very Good | F         | 3778.820  | 0.7409612 |\n",
       "| Very Good | G         | 3872.754  | 0.7667986 |\n",
       "| Very Good | H         | 4535.390  | 0.9159485 |\n",
       "| Very Good | I         | 5255.880  | 1.0469518 |\n",
       "| Very Good | J         | 5103.513  | 1.1332153 |\n",
       "| Premium   | D         | 3631.293  | 0.7215471 |\n",
       "| Premium   | E         | 3538.914  | 0.7177450 |\n",
       "| Premium   | F         | 4324.890  | 0.8270356 |\n",
       "| Premium   | G         | 4500.742  | 0.8414877 |\n",
       "| Premium   | H         | 5216.707  | 1.0164492 |\n",
       "| Premium   | I         | 5946.181  | 1.1449370 |\n",
       "| Premium   | J         | 6294.592  | 1.2930941 |\n",
       "| Ideal     | D         | 2629.095  | 0.5657657 |\n",
       "| Ideal     | E         | 2597.550  | 0.5784012 |\n",
       "| Ideal     | F         | 3374.939  | 0.6558285 |\n",
       "| Ideal     | G         | 3720.706  | 0.7007146 |\n",
       "| Ideal     | H         | 3889.335  | 0.7995249 |\n",
       "| Ideal     | I         | 4451.970  | 0.9130291 |\n",
       "| Ideal     | J         | 4918.186  | 1.0635937 |\n",
       "\n"
      ],
      "text/plain": [
       "   cut       color price    carat    \n",
       "1  Fair      D     4291.061 0.9201227\n",
       "2  Fair      E     3682.312 0.8566071\n",
       "3  Fair      F     3827.003 0.9047115\n",
       "4  Fair      G     4239.255 1.0238217\n",
       "5  Fair      H     5135.683 1.2191749\n",
       "6  Fair      I     4685.446 1.1980571\n",
       "7  Fair      J     4975.655 1.3411765\n",
       "8  Good      D     3405.382 0.7445166\n",
       "9  Good      E     3423.644 0.7451340\n",
       "10 Good      F     3495.750 0.7759296\n",
       "11 Good      G     4123.482 0.8508955\n",
       "12 Good      H     4276.255 0.9147293\n",
       "13 Good      I     5078.533 1.0572222\n",
       "14 Good      J     4574.173 1.0995440\n",
       "15 Very Good D     3470.467 0.6964243\n",
       "16 Very Good E     3214.652 0.6763167\n",
       "17 Very Good F     3778.820 0.7409612\n",
       "18 Very Good G     3872.754 0.7667986\n",
       "19 Very Good H     4535.390 0.9159485\n",
       "20 Very Good I     5255.880 1.0469518\n",
       "21 Very Good J     5103.513 1.1332153\n",
       "22 Premium   D     3631.293 0.7215471\n",
       "23 Premium   E     3538.914 0.7177450\n",
       "24 Premium   F     4324.890 0.8270356\n",
       "25 Premium   G     4500.742 0.8414877\n",
       "26 Premium   H     5216.707 1.0164492\n",
       "27 Premium   I     5946.181 1.1449370\n",
       "28 Premium   J     6294.592 1.2930941\n",
       "29 Ideal     D     2629.095 0.5657657\n",
       "30 Ideal     E     2597.550 0.5784012\n",
       "31 Ideal     F     3374.939 0.6558285\n",
       "32 Ideal     G     3720.706 0.7007146\n",
       "33 Ideal     H     3889.335 0.7995249\n",
       "34 Ideal     I     4451.970 0.9130291\n",
       "35 Ideal     J     4918.186 1.0635937"
      ]
     },
     "metadata": {},
     "output_type": "display_data"
    }
   ],
   "source": [
    "diamondsDT[, list(price=mean(price), carat=mean(carat)),\n",
    "by=list(cut, color)]"
   ]
  },
  {
   "cell_type": "markdown",
   "id": "d7a270d6",
   "metadata": {},
   "source": [
    "#  chapter 2"
   ]
  },
  {
   "cell_type": "code",
   "execution_count": 106,
   "id": "2b98c7e2",
   "metadata": {},
   "outputs": [
    {
     "data": {
      "text/html": [
       "<ol class=list-inline>\n",
       "\t<li>4</li>\n",
       "\t<li>10</li>\n",
       "</ol>\n"
      ],
      "text/latex": [
       "\\begin{enumerate*}\n",
       "\\item 4\n",
       "\\item 10\n",
       "\\end{enumerate*}\n"
      ],
      "text/markdown": [
       "1. 4\n",
       "2. 10\n",
       "\n",
       "\n"
      ],
      "text/plain": [
       "[1]  4 10"
      ]
     },
     "metadata": {},
     "output_type": "display_data"
    }
   ],
   "source": [
    "library(magrittr)\n",
    "data(diamonds, package='ggplot2')\n",
    "dim(head(diamonds, n=4))"
   ]
  },
  {
   "cell_type": "code",
   "execution_count": 107,
   "id": "e5cff340",
   "metadata": {},
   "outputs": [
    {
     "data": {
      "text/html": [
       "<ol class=list-inline>\n",
       "\t<li>4</li>\n",
       "\t<li>10</li>\n",
       "</ol>\n"
      ],
      "text/latex": [
       "\\begin{enumerate*}\n",
       "\\item 4\n",
       "\\item 10\n",
       "\\end{enumerate*}\n"
      ],
      "text/markdown": [
       "1. 4\n",
       "2. 10\n",
       "\n",
       "\n"
      ],
      "text/plain": [
       "[1]  4 10"
      ]
     },
     "metadata": {},
     "output_type": "display_data"
    }
   ],
   "source": [
    "diamonds %>% head(4) %>% dim"
   ]
  },
  {
   "cell_type": "code",
   "execution_count": 108,
   "id": "a14a5258",
   "metadata": {},
   "outputs": [
    {
     "data": {
      "text/html": [
       "<ol class=list-inline>\n",
       "\t<li>'tbl_df'</li>\n",
       "\t<li>'tbl'</li>\n",
       "\t<li>'data.frame'</li>\n",
       "</ol>\n"
      ],
      "text/latex": [
       "\\begin{enumerate*}\n",
       "\\item 'tbl\\_df'\n",
       "\\item 'tbl'\n",
       "\\item 'data.frame'\n",
       "\\end{enumerate*}\n"
      ],
      "text/markdown": [
       "1. 'tbl_df'\n",
       "2. 'tbl'\n",
       "3. 'data.frame'\n",
       "\n",
       "\n"
      ],
      "text/plain": [
       "[1] \"tbl_df\"     \"tbl\"        \"data.frame\""
      ]
     },
     "metadata": {},
     "output_type": "display_data"
    }
   ],
   "source": [
    "class(diamonds)"
   ]
  },
  {
   "cell_type": "code",
   "execution_count": 109,
   "id": "fd9bce94",
   "metadata": {},
   "outputs": [
    {
     "data": {
      "text/html": [
       "<table>\n",
       "<thead><tr><th scope=col>carat</th><th scope=col>cut</th><th scope=col>color</th><th scope=col>clarity</th><th scope=col>depth</th><th scope=col>table</th><th scope=col>price</th><th scope=col>x</th><th scope=col>y</th><th scope=col>z</th></tr></thead>\n",
       "<tbody>\n",
       "\t<tr><td>0.23     </td><td>Ideal    </td><td>E        </td><td>SI2      </td><td>61.5     </td><td>55       </td><td>326      </td><td>3.95     </td><td>3.98     </td><td>2.43     </td></tr>\n",
       "\t<tr><td>0.21     </td><td>Premium  </td><td>E        </td><td>SI1      </td><td>59.8     </td><td>61       </td><td>326      </td><td>3.89     </td><td>3.84     </td><td>2.31     </td></tr>\n",
       "\t<tr><td>0.23     </td><td>Good     </td><td>E        </td><td>VS1      </td><td>56.9     </td><td>65       </td><td>327      </td><td>4.05     </td><td>4.07     </td><td>2.31     </td></tr>\n",
       "\t<tr><td>0.29     </td><td>Premium  </td><td>I        </td><td>VS2      </td><td>62.4     </td><td>58       </td><td>334      </td><td>4.20     </td><td>4.23     </td><td>2.63     </td></tr>\n",
       "\t<tr><td>0.31     </td><td>Good     </td><td>J        </td><td>SI2      </td><td>63.3     </td><td>58       </td><td>335      </td><td>4.34     </td><td>4.35     </td><td>2.75     </td></tr>\n",
       "\t<tr><td>0.24     </td><td>Very Good</td><td>J        </td><td>VVS2     </td><td>62.8     </td><td>57       </td><td>336      </td><td>3.94     </td><td>3.96     </td><td>2.48     </td></tr>\n",
       "</tbody>\n",
       "</table>\n"
      ],
      "text/latex": [
       "\\begin{tabular}{r|llllllllll}\n",
       " carat & cut & color & clarity & depth & table & price & x & y & z\\\\\n",
       "\\hline\n",
       "\t 0.23      & Ideal     & E         & SI2       & 61.5      & 55        & 326       & 3.95      & 3.98      & 2.43     \\\\\n",
       "\t 0.21      & Premium   & E         & SI1       & 59.8      & 61        & 326       & 3.89      & 3.84      & 2.31     \\\\\n",
       "\t 0.23      & Good      & E         & VS1       & 56.9      & 65        & 327       & 4.05      & 4.07      & 2.31     \\\\\n",
       "\t 0.29      & Premium   & I         & VS2       & 62.4      & 58        & 334       & 4.20      & 4.23      & 2.63     \\\\\n",
       "\t 0.31      & Good      & J         & SI2       & 63.3      & 58        & 335       & 4.34      & 4.35      & 2.75     \\\\\n",
       "\t 0.24      & Very Good & J         & VVS2      & 62.8      & 57        & 336       & 3.94      & 3.96      & 2.48     \\\\\n",
       "\\end{tabular}\n"
      ],
      "text/markdown": [
       "\n",
       "| carat | cut | color | clarity | depth | table | price | x | y | z |\n",
       "|---|---|---|---|---|---|---|---|---|---|\n",
       "| 0.23      | Ideal     | E         | SI2       | 61.5      | 55        | 326       | 3.95      | 3.98      | 2.43      |\n",
       "| 0.21      | Premium   | E         | SI1       | 59.8      | 61        | 326       | 3.89      | 3.84      | 2.31      |\n",
       "| 0.23      | Good      | E         | VS1       | 56.9      | 65        | 327       | 4.05      | 4.07      | 2.31      |\n",
       "| 0.29      | Premium   | I         | VS2       | 62.4      | 58        | 334       | 4.20      | 4.23      | 2.63      |\n",
       "| 0.31      | Good      | J         | SI2       | 63.3      | 58        | 335       | 4.34      | 4.35      | 2.75      |\n",
       "| 0.24      | Very Good | J         | VVS2      | 62.8      | 57        | 336       | 3.94      | 3.96      | 2.48      |\n",
       "\n"
      ],
      "text/plain": [
       "  carat cut       color clarity depth table price x    y    z   \n",
       "1 0.23  Ideal     E     SI2     61.5  55    326   3.95 3.98 2.43\n",
       "2 0.21  Premium   E     SI1     59.8  61    326   3.89 3.84 2.31\n",
       "3 0.23  Good      E     VS1     56.9  65    327   4.05 4.07 2.31\n",
       "4 0.29  Premium   I     VS2     62.4  58    334   4.20 4.23 2.63\n",
       "5 0.31  Good      J     SI2     63.3  58    335   4.34 4.35 2.75\n",
       "6 0.24  Very Good J     VVS2    62.8  57    336   3.94 3.96 2.48"
      ]
     },
     "metadata": {},
     "output_type": "display_data"
    }
   ],
   "source": [
    "head(diamonds)"
   ]
  },
  {
   "cell_type": "code",
   "execution_count": 110,
   "id": "dfb28d58",
   "metadata": {},
   "outputs": [
    {
     "name": "stderr",
     "output_type": "stream",
     "text": [
      "\n",
      "Attaching package: 'dplyr'\n",
      "\n",
      "The following objects are masked from 'package:data.table':\n",
      "\n",
      "    between, first, last\n",
      "\n",
      "The following objects are masked from 'package:plyr':\n",
      "\n",
      "    arrange, count, desc, failwith, id, mutate, rename, summarise,\n",
      "    summarize\n",
      "\n",
      "The following objects are masked from 'package:stats':\n",
      "\n",
      "    filter, lag\n",
      "\n",
      "The following objects are masked from 'package:base':\n",
      "\n",
      "    intersect, setdiff, setequal, union\n",
      "\n"
     ]
    },
    {
     "data": {
      "text/html": [
       "<table>\n",
       "<thead><tr><th scope=col>carat</th><th scope=col>cut</th><th scope=col>color</th><th scope=col>clarity</th><th scope=col>depth</th><th scope=col>table</th><th scope=col>price</th><th scope=col>x</th><th scope=col>y</th><th scope=col>z</th></tr></thead>\n",
       "<tbody>\n",
       "\t<tr><td>0.23     </td><td>Ideal    </td><td>E        </td><td>SI2      </td><td>61.5     </td><td>55       </td><td>326      </td><td>3.95     </td><td>3.98     </td><td>2.43     </td></tr>\n",
       "\t<tr><td>0.21     </td><td>Premium  </td><td>E        </td><td>SI1      </td><td>59.8     </td><td>61       </td><td>326      </td><td>3.89     </td><td>3.84     </td><td>2.31     </td></tr>\n",
       "\t<tr><td>0.23     </td><td>Good     </td><td>E        </td><td>VS1      </td><td>56.9     </td><td>65       </td><td>327      </td><td>4.05     </td><td>4.07     </td><td>2.31     </td></tr>\n",
       "\t<tr><td>0.29     </td><td>Premium  </td><td>I        </td><td>VS2      </td><td>62.4     </td><td>58       </td><td>334      </td><td>4.20     </td><td>4.23     </td><td>2.63     </td></tr>\n",
       "\t<tr><td>0.31     </td><td>Good     </td><td>J        </td><td>SI2      </td><td>63.3     </td><td>58       </td><td>335      </td><td>4.34     </td><td>4.35     </td><td>2.75     </td></tr>\n",
       "\t<tr><td>0.24     </td><td>Very Good</td><td>J        </td><td>VVS2     </td><td>62.8     </td><td>57       </td><td>336      </td><td>3.94     </td><td>3.96     </td><td>2.48     </td></tr>\n",
       "</tbody>\n",
       "</table>\n"
      ],
      "text/latex": [
       "\\begin{tabular}{r|llllllllll}\n",
       " carat & cut & color & clarity & depth & table & price & x & y & z\\\\\n",
       "\\hline\n",
       "\t 0.23      & Ideal     & E         & SI2       & 61.5      & 55        & 326       & 3.95      & 3.98      & 2.43     \\\\\n",
       "\t 0.21      & Premium   & E         & SI1       & 59.8      & 61        & 326       & 3.89      & 3.84      & 2.31     \\\\\n",
       "\t 0.23      & Good      & E         & VS1       & 56.9      & 65        & 327       & 4.05      & 4.07      & 2.31     \\\\\n",
       "\t 0.29      & Premium   & I         & VS2       & 62.4      & 58        & 334       & 4.20      & 4.23      & 2.63     \\\\\n",
       "\t 0.31      & Good      & J         & SI2       & 63.3      & 58        & 335       & 4.34      & 4.35      & 2.75     \\\\\n",
       "\t 0.24      & Very Good & J         & VVS2      & 62.8      & 57        & 336       & 3.94      & 3.96      & 2.48     \\\\\n",
       "\\end{tabular}\n"
      ],
      "text/markdown": [
       "\n",
       "| carat | cut | color | clarity | depth | table | price | x | y | z |\n",
       "|---|---|---|---|---|---|---|---|---|---|\n",
       "| 0.23      | Ideal     | E         | SI2       | 61.5      | 55        | 326       | 3.95      | 3.98      | 2.43      |\n",
       "| 0.21      | Premium   | E         | SI1       | 59.8      | 61        | 326       | 3.89      | 3.84      | 2.31      |\n",
       "| 0.23      | Good      | E         | VS1       | 56.9      | 65        | 327       | 4.05      | 4.07      | 2.31      |\n",
       "| 0.29      | Premium   | I         | VS2       | 62.4      | 58        | 334       | 4.20      | 4.23      | 2.63      |\n",
       "| 0.31      | Good      | J         | SI2       | 63.3      | 58        | 335       | 4.34      | 4.35      | 2.75      |\n",
       "| 0.24      | Very Good | J         | VVS2      | 62.8      | 57        | 336       | 3.94      | 3.96      | 2.48      |\n",
       "\n"
      ],
      "text/plain": [
       "  carat cut       color clarity depth table price x    y    z   \n",
       "1 0.23  Ideal     E     SI2     61.5  55    326   3.95 3.98 2.43\n",
       "2 0.21  Premium   E     SI1     59.8  61    326   3.89 3.84 2.31\n",
       "3 0.23  Good      E     VS1     56.9  65    327   4.05 4.07 2.31\n",
       "4 0.29  Premium   I     VS2     62.4  58    334   4.20 4.23 2.63\n",
       "5 0.31  Good      J     SI2     63.3  58    335   4.34 4.35 2.75\n",
       "6 0.24  Very Good J     VVS2    62.8  57    336   3.94 3.96 2.48"
      ]
     },
     "metadata": {},
     "output_type": "display_data"
    }
   ],
   "source": [
    "library(dplyr)\n",
    "head(diamonds)"
   ]
  },
  {
   "cell_type": "code",
   "execution_count": 111,
   "id": "9f0e2625",
   "metadata": {},
   "outputs": [
    {
     "data": {
      "text/html": [
       "<table>\n",
       "<thead><tr><th scope=col>carat</th><th scope=col>cut</th><th scope=col>color</th><th scope=col>clarity</th><th scope=col>depth</th><th scope=col>table</th><th scope=col>price</th><th scope=col>x</th><th scope=col>y</th><th scope=col>z</th></tr></thead>\n",
       "<tbody>\n",
       "\t<tr><td>0.23     </td><td>Ideal    </td><td>E        </td><td>SI2      </td><td>61.5     </td><td>55       </td><td>326      </td><td>3.95     </td><td>3.98     </td><td>2.43     </td></tr>\n",
       "\t<tr><td>0.21     </td><td>Premium  </td><td>E        </td><td>SI1      </td><td>59.8     </td><td>61       </td><td>326      </td><td>3.89     </td><td>3.84     </td><td>2.31     </td></tr>\n",
       "\t<tr><td>0.23     </td><td>Good     </td><td>E        </td><td>VS1      </td><td>56.9     </td><td>65       </td><td>327      </td><td>4.05     </td><td>4.07     </td><td>2.31     </td></tr>\n",
       "\t<tr><td>0.29     </td><td>Premium  </td><td>I        </td><td>VS2      </td><td>62.4     </td><td>58       </td><td>334      </td><td>4.20     </td><td>4.23     </td><td>2.63     </td></tr>\n",
       "\t<tr><td>0.31     </td><td>Good     </td><td>J        </td><td>SI2      </td><td>63.3     </td><td>58       </td><td>335      </td><td>4.34     </td><td>4.35     </td><td>2.75     </td></tr>\n",
       "\t<tr><td>0.24     </td><td>Very Good</td><td>J        </td><td>VVS2     </td><td>62.8     </td><td>57       </td><td>336      </td><td>3.94     </td><td>3.96     </td><td>2.48     </td></tr>\n",
       "\t<tr><td>0.24     </td><td>Very Good</td><td>I        </td><td>VVS1     </td><td>62.3     </td><td>57       </td><td>336      </td><td>3.95     </td><td>3.98     </td><td>2.47     </td></tr>\n",
       "\t<tr><td>0.26     </td><td>Very Good</td><td>H        </td><td>SI1      </td><td>61.9     </td><td>55       </td><td>337      </td><td>4.07     </td><td>4.11     </td><td>2.53     </td></tr>\n",
       "\t<tr><td>0.22     </td><td>Fair     </td><td>E        </td><td>VS2      </td><td>65.1     </td><td>61       </td><td>337      </td><td>3.87     </td><td>3.78     </td><td>2.49     </td></tr>\n",
       "\t<tr><td>0.23     </td><td>Very Good</td><td>H        </td><td>VS1      </td><td>59.4     </td><td>61       </td><td>338      </td><td>4.00     </td><td>4.05     </td><td>2.39     </td></tr>\n",
       "\t<tr><td>0.30     </td><td>Good     </td><td>J        </td><td>SI1      </td><td>64.0     </td><td>55       </td><td>339      </td><td>4.25     </td><td>4.28     </td><td>2.73     </td></tr>\n",
       "\t<tr><td>0.23     </td><td>Ideal    </td><td>J        </td><td>VS1      </td><td>62.8     </td><td>56       </td><td>340      </td><td>3.93     </td><td>3.90     </td><td>2.46     </td></tr>\n",
       "\t<tr><td>0.22     </td><td>Premium  </td><td>F        </td><td>SI1      </td><td>60.4     </td><td>61       </td><td>342      </td><td>3.88     </td><td>3.84     </td><td>2.33     </td></tr>\n",
       "\t<tr><td>0.31     </td><td>Ideal    </td><td>J        </td><td>SI2      </td><td>62.2     </td><td>54       </td><td>344      </td><td>4.35     </td><td>4.37     </td><td>2.71     </td></tr>\n",
       "\t<tr><td>0.20     </td><td>Premium  </td><td>E        </td><td>SI2      </td><td>60.2     </td><td>62       </td><td>345      </td><td>3.79     </td><td>3.75     </td><td>2.27     </td></tr>\n",
       "\t<tr><td>0.32     </td><td>Premium  </td><td>E        </td><td>I1       </td><td>60.9     </td><td>58       </td><td>345      </td><td>4.38     </td><td>4.42     </td><td>2.68     </td></tr>\n",
       "\t<tr><td>0.30     </td><td>Ideal    </td><td>I        </td><td>SI2      </td><td>62.0     </td><td>54       </td><td>348      </td><td>4.31     </td><td>4.34     </td><td>2.68     </td></tr>\n",
       "\t<tr><td>0.30     </td><td>Good     </td><td>J        </td><td>SI1      </td><td>63.4     </td><td>54       </td><td>351      </td><td>4.23     </td><td>4.29     </td><td>2.70     </td></tr>\n",
       "\t<tr><td>0.30     </td><td>Good     </td><td>J        </td><td>SI1      </td><td>63.8     </td><td>56       </td><td>351      </td><td>4.23     </td><td>4.26     </td><td>2.71     </td></tr>\n",
       "\t<tr><td>0.30     </td><td>Very Good</td><td>J        </td><td>SI1      </td><td>62.7     </td><td>59       </td><td>351      </td><td>4.21     </td><td>4.27     </td><td>2.66     </td></tr>\n",
       "\t<tr><td>0.30     </td><td>Good     </td><td>I        </td><td>SI2      </td><td>63.3     </td><td>56       </td><td>351      </td><td>4.26     </td><td>4.30     </td><td>2.71     </td></tr>\n",
       "\t<tr><td>0.23     </td><td>Very Good</td><td>E        </td><td>VS2      </td><td>63.8     </td><td>55       </td><td>352      </td><td>3.85     </td><td>3.92     </td><td>2.48     </td></tr>\n",
       "\t<tr><td>0.23     </td><td>Very Good</td><td>H        </td><td>VS1      </td><td>61.0     </td><td>57       </td><td>353      </td><td>3.94     </td><td>3.96     </td><td>2.41     </td></tr>\n",
       "\t<tr><td>0.31     </td><td>Very Good</td><td>J        </td><td>SI1      </td><td>59.4     </td><td>62       </td><td>353      </td><td>4.39     </td><td>4.43     </td><td>2.62     </td></tr>\n",
       "\t<tr><td>0.31     </td><td>Very Good</td><td>J        </td><td>SI1      </td><td>58.1     </td><td>62       </td><td>353      </td><td>4.44     </td><td>4.47     </td><td>2.59     </td></tr>\n",
       "\t<tr><td>0.23     </td><td>Very Good</td><td>G        </td><td>VVS2     </td><td>60.4     </td><td>58       </td><td>354      </td><td>3.97     </td><td>4.01     </td><td>2.41     </td></tr>\n",
       "\t<tr><td>0.24     </td><td>Premium  </td><td>I        </td><td>VS1      </td><td>62.5     </td><td>57       </td><td>355      </td><td>3.97     </td><td>3.94     </td><td>2.47     </td></tr>\n",
       "\t<tr><td>0.30     </td><td>Very Good</td><td>J        </td><td>VS2      </td><td>62.2     </td><td>57       </td><td>357      </td><td>4.28     </td><td>4.30     </td><td>2.67     </td></tr>\n",
       "\t<tr><td>0.23     </td><td>Very Good</td><td>D        </td><td>VS2      </td><td>60.5     </td><td>61       </td><td>357      </td><td>3.96     </td><td>3.97     </td><td>2.40     </td></tr>\n",
       "\t<tr><td>0.23     </td><td>Very Good</td><td>F        </td><td>VS1      </td><td>60.9     </td><td>57       </td><td>357      </td><td>3.96     </td><td>3.99     </td><td>2.42     </td></tr>\n",
       "\t<tr><td>...</td><td>...</td><td>...</td><td>...</td><td>...</td><td>...</td><td>...</td><td>...</td><td>...</td><td>...</td></tr>\n",
       "\t<tr><td>0.70     </td><td>Premium  </td><td>E        </td><td>SI1      </td><td>60.5     </td><td>58       </td><td>2753     </td><td>5.74     </td><td>5.77     </td><td>3.48     </td></tr>\n",
       "\t<tr><td>0.57     </td><td>Premium  </td><td>E        </td><td>IF       </td><td>59.8     </td><td>60       </td><td>2753     </td><td>5.43     </td><td>5.38     </td><td>3.23     </td></tr>\n",
       "\t<tr><td>0.61     </td><td>Premium  </td><td>F        </td><td>VVS1     </td><td>61.8     </td><td>59       </td><td>2753     </td><td>5.48     </td><td>5.40     </td><td>3.36     </td></tr>\n",
       "\t<tr><td>0.80     </td><td>Good     </td><td>G        </td><td>VS2      </td><td>64.2     </td><td>58       </td><td>2753     </td><td>5.84     </td><td>5.81     </td><td>3.74     </td></tr>\n",
       "\t<tr><td>0.84     </td><td>Good     </td><td>I        </td><td>VS1      </td><td>63.7     </td><td>59       </td><td>2753     </td><td>5.94     </td><td>5.90     </td><td>3.77     </td></tr>\n",
       "\t<tr><td>0.77     </td><td>Ideal    </td><td>E        </td><td>SI2      </td><td>62.1     </td><td>56       </td><td>2753     </td><td>5.84     </td><td>5.86     </td><td>3.63     </td></tr>\n",
       "\t<tr><td>0.74     </td><td>Good     </td><td>D        </td><td>SI1      </td><td>63.1     </td><td>59       </td><td>2753     </td><td>5.71     </td><td>5.74     </td><td>3.61     </td></tr>\n",
       "\t<tr><td>0.90     </td><td>Very Good</td><td>J        </td><td>SI1      </td><td>63.2     </td><td>60       </td><td>2753     </td><td>6.12     </td><td>6.09     </td><td>3.86     </td></tr>\n",
       "\t<tr><td>0.76     </td><td>Premium  </td><td>I        </td><td>VS1      </td><td>59.3     </td><td>62       </td><td>2753     </td><td>5.93     </td><td>5.85     </td><td>3.49     </td></tr>\n",
       "\t<tr><td>0.76     </td><td>Ideal    </td><td>I        </td><td>VVS1     </td><td>62.2     </td><td>55       </td><td>2753     </td><td>5.89     </td><td>5.87     </td><td>3.66     </td></tr>\n",
       "\t<tr><td>0.70     </td><td>Very Good</td><td>E        </td><td>VS2      </td><td>62.4     </td><td>60       </td><td>2755     </td><td>5.57     </td><td>5.61     </td><td>3.49     </td></tr>\n",
       "\t<tr><td>0.70     </td><td>Very Good</td><td>E        </td><td>VS2      </td><td>62.8     </td><td>60       </td><td>2755     </td><td>5.59     </td><td>5.65     </td><td>3.53     </td></tr>\n",
       "\t<tr><td>0.70     </td><td>Very Good</td><td>D        </td><td>VS1      </td><td>63.1     </td><td>59       </td><td>2755     </td><td>5.67     </td><td>5.58     </td><td>3.55     </td></tr>\n",
       "\t<tr><td>0.73     </td><td>Ideal    </td><td>I        </td><td>VS2      </td><td>61.3     </td><td>56       </td><td>2756     </td><td>5.80     </td><td>5.84     </td><td>3.57     </td></tr>\n",
       "\t<tr><td>0.73     </td><td>Ideal    </td><td>I        </td><td>VS2      </td><td>61.6     </td><td>55       </td><td>2756     </td><td>5.82     </td><td>5.84     </td><td>3.59     </td></tr>\n",
       "\t<tr><td>0.79     </td><td>Ideal    </td><td>I        </td><td>SI1      </td><td>61.6     </td><td>56       </td><td>2756     </td><td>5.95     </td><td>5.97     </td><td>3.67     </td></tr>\n",
       "\t<tr><td>0.71     </td><td>Ideal    </td><td>E        </td><td>SI1      </td><td>61.9     </td><td>56       </td><td>2756     </td><td>5.71     </td><td>5.73     </td><td>3.54     </td></tr>\n",
       "\t<tr><td>0.79     </td><td>Good     </td><td>F        </td><td>SI1      </td><td>58.1     </td><td>59       </td><td>2756     </td><td>6.06     </td><td>6.13     </td><td>3.54     </td></tr>\n",
       "\t<tr><td>0.79     </td><td>Premium  </td><td>E        </td><td>SI2      </td><td>61.4     </td><td>58       </td><td>2756     </td><td>6.03     </td><td>5.96     </td><td>3.68     </td></tr>\n",
       "\t<tr><td>0.71     </td><td>Ideal    </td><td>G        </td><td>VS1      </td><td>61.4     </td><td>56       </td><td>2756     </td><td>5.76     </td><td>5.73     </td><td>3.53     </td></tr>\n",
       "\t<tr><td>0.71     </td><td>Premium  </td><td>E        </td><td>SI1      </td><td>60.5     </td><td>55       </td><td>2756     </td><td>5.79     </td><td>5.74     </td><td>3.49     </td></tr>\n",
       "\t<tr><td>0.71     </td><td>Premium  </td><td>F        </td><td>SI1      </td><td>59.8     </td><td>62       </td><td>2756     </td><td>5.74     </td><td>5.73     </td><td>3.43     </td></tr>\n",
       "\t<tr><td>0.70     </td><td>Very Good</td><td>E        </td><td>VS2      </td><td>60.5     </td><td>59       </td><td>2757     </td><td>5.71     </td><td>5.76     </td><td>3.47     </td></tr>\n",
       "\t<tr><td>0.70     </td><td>Very Good</td><td>E        </td><td>VS2      </td><td>61.2     </td><td>59       </td><td>2757     </td><td>5.69     </td><td>5.72     </td><td>3.49     </td></tr>\n",
       "\t<tr><td>0.72     </td><td>Premium  </td><td>D        </td><td>SI1      </td><td>62.7     </td><td>59       </td><td>2757     </td><td>5.69     </td><td>5.73     </td><td>3.58     </td></tr>\n",
       "\t<tr><td>0.72     </td><td>Ideal    </td><td>D        </td><td>SI1      </td><td>60.8     </td><td>57       </td><td>2757     </td><td>5.75     </td><td>5.76     </td><td>3.50     </td></tr>\n",
       "\t<tr><td>0.72     </td><td>Good     </td><td>D        </td><td>SI1      </td><td>63.1     </td><td>55       </td><td>2757     </td><td>5.69     </td><td>5.75     </td><td>3.61     </td></tr>\n",
       "\t<tr><td>0.70     </td><td>Very Good</td><td>D        </td><td>SI1      </td><td>62.8     </td><td>60       </td><td>2757     </td><td>5.66     </td><td>5.68     </td><td>3.56     </td></tr>\n",
       "\t<tr><td>0.86     </td><td>Premium  </td><td>H        </td><td>SI2      </td><td>61.0     </td><td>58       </td><td>2757     </td><td>6.15     </td><td>6.12     </td><td>3.74     </td></tr>\n",
       "\t<tr><td>0.75     </td><td>Ideal    </td><td>D        </td><td>SI2      </td><td>62.2     </td><td>55       </td><td>2757     </td><td>5.83     </td><td>5.87     </td><td>3.64     </td></tr>\n",
       "</tbody>\n",
       "</table>\n"
      ],
      "text/latex": [
       "\\begin{tabular}{r|llllllllll}\n",
       " carat & cut & color & clarity & depth & table & price & x & y & z\\\\\n",
       "\\hline\n",
       "\t 0.23      & Ideal     & E         & SI2       & 61.5      & 55        & 326       & 3.95      & 3.98      & 2.43     \\\\\n",
       "\t 0.21      & Premium   & E         & SI1       & 59.8      & 61        & 326       & 3.89      & 3.84      & 2.31     \\\\\n",
       "\t 0.23      & Good      & E         & VS1       & 56.9      & 65        & 327       & 4.05      & 4.07      & 2.31     \\\\\n",
       "\t 0.29      & Premium   & I         & VS2       & 62.4      & 58        & 334       & 4.20      & 4.23      & 2.63     \\\\\n",
       "\t 0.31      & Good      & J         & SI2       & 63.3      & 58        & 335       & 4.34      & 4.35      & 2.75     \\\\\n",
       "\t 0.24      & Very Good & J         & VVS2      & 62.8      & 57        & 336       & 3.94      & 3.96      & 2.48     \\\\\n",
       "\t 0.24      & Very Good & I         & VVS1      & 62.3      & 57        & 336       & 3.95      & 3.98      & 2.47     \\\\\n",
       "\t 0.26      & Very Good & H         & SI1       & 61.9      & 55        & 337       & 4.07      & 4.11      & 2.53     \\\\\n",
       "\t 0.22      & Fair      & E         & VS2       & 65.1      & 61        & 337       & 3.87      & 3.78      & 2.49     \\\\\n",
       "\t 0.23      & Very Good & H         & VS1       & 59.4      & 61        & 338       & 4.00      & 4.05      & 2.39     \\\\\n",
       "\t 0.30      & Good      & J         & SI1       & 64.0      & 55        & 339       & 4.25      & 4.28      & 2.73     \\\\\n",
       "\t 0.23      & Ideal     & J         & VS1       & 62.8      & 56        & 340       & 3.93      & 3.90      & 2.46     \\\\\n",
       "\t 0.22      & Premium   & F         & SI1       & 60.4      & 61        & 342       & 3.88      & 3.84      & 2.33     \\\\\n",
       "\t 0.31      & Ideal     & J         & SI2       & 62.2      & 54        & 344       & 4.35      & 4.37      & 2.71     \\\\\n",
       "\t 0.20      & Premium   & E         & SI2       & 60.2      & 62        & 345       & 3.79      & 3.75      & 2.27     \\\\\n",
       "\t 0.32      & Premium   & E         & I1        & 60.9      & 58        & 345       & 4.38      & 4.42      & 2.68     \\\\\n",
       "\t 0.30      & Ideal     & I         & SI2       & 62.0      & 54        & 348       & 4.31      & 4.34      & 2.68     \\\\\n",
       "\t 0.30      & Good      & J         & SI1       & 63.4      & 54        & 351       & 4.23      & 4.29      & 2.70     \\\\\n",
       "\t 0.30      & Good      & J         & SI1       & 63.8      & 56        & 351       & 4.23      & 4.26      & 2.71     \\\\\n",
       "\t 0.30      & Very Good & J         & SI1       & 62.7      & 59        & 351       & 4.21      & 4.27      & 2.66     \\\\\n",
       "\t 0.30      & Good      & I         & SI2       & 63.3      & 56        & 351       & 4.26      & 4.30      & 2.71     \\\\\n",
       "\t 0.23      & Very Good & E         & VS2       & 63.8      & 55        & 352       & 3.85      & 3.92      & 2.48     \\\\\n",
       "\t 0.23      & Very Good & H         & VS1       & 61.0      & 57        & 353       & 3.94      & 3.96      & 2.41     \\\\\n",
       "\t 0.31      & Very Good & J         & SI1       & 59.4      & 62        & 353       & 4.39      & 4.43      & 2.62     \\\\\n",
       "\t 0.31      & Very Good & J         & SI1       & 58.1      & 62        & 353       & 4.44      & 4.47      & 2.59     \\\\\n",
       "\t 0.23      & Very Good & G         & VVS2      & 60.4      & 58        & 354       & 3.97      & 4.01      & 2.41     \\\\\n",
       "\t 0.24      & Premium   & I         & VS1       & 62.5      & 57        & 355       & 3.97      & 3.94      & 2.47     \\\\\n",
       "\t 0.30      & Very Good & J         & VS2       & 62.2      & 57        & 357       & 4.28      & 4.30      & 2.67     \\\\\n",
       "\t 0.23      & Very Good & D         & VS2       & 60.5      & 61        & 357       & 3.96      & 3.97      & 2.40     \\\\\n",
       "\t 0.23      & Very Good & F         & VS1       & 60.9      & 57        & 357       & 3.96      & 3.99      & 2.42     \\\\\n",
       "\t ... & ... & ... & ... & ... & ... & ... & ... & ... & ...\\\\\n",
       "\t 0.70      & Premium   & E         & SI1       & 60.5      & 58        & 2753      & 5.74      & 5.77      & 3.48     \\\\\n",
       "\t 0.57      & Premium   & E         & IF        & 59.8      & 60        & 2753      & 5.43      & 5.38      & 3.23     \\\\\n",
       "\t 0.61      & Premium   & F         & VVS1      & 61.8      & 59        & 2753      & 5.48      & 5.40      & 3.36     \\\\\n",
       "\t 0.80      & Good      & G         & VS2       & 64.2      & 58        & 2753      & 5.84      & 5.81      & 3.74     \\\\\n",
       "\t 0.84      & Good      & I         & VS1       & 63.7      & 59        & 2753      & 5.94      & 5.90      & 3.77     \\\\\n",
       "\t 0.77      & Ideal     & E         & SI2       & 62.1      & 56        & 2753      & 5.84      & 5.86      & 3.63     \\\\\n",
       "\t 0.74      & Good      & D         & SI1       & 63.1      & 59        & 2753      & 5.71      & 5.74      & 3.61     \\\\\n",
       "\t 0.90      & Very Good & J         & SI1       & 63.2      & 60        & 2753      & 6.12      & 6.09      & 3.86     \\\\\n",
       "\t 0.76      & Premium   & I         & VS1       & 59.3      & 62        & 2753      & 5.93      & 5.85      & 3.49     \\\\\n",
       "\t 0.76      & Ideal     & I         & VVS1      & 62.2      & 55        & 2753      & 5.89      & 5.87      & 3.66     \\\\\n",
       "\t 0.70      & Very Good & E         & VS2       & 62.4      & 60        & 2755      & 5.57      & 5.61      & 3.49     \\\\\n",
       "\t 0.70      & Very Good & E         & VS2       & 62.8      & 60        & 2755      & 5.59      & 5.65      & 3.53     \\\\\n",
       "\t 0.70      & Very Good & D         & VS1       & 63.1      & 59        & 2755      & 5.67      & 5.58      & 3.55     \\\\\n",
       "\t 0.73      & Ideal     & I         & VS2       & 61.3      & 56        & 2756      & 5.80      & 5.84      & 3.57     \\\\\n",
       "\t 0.73      & Ideal     & I         & VS2       & 61.6      & 55        & 2756      & 5.82      & 5.84      & 3.59     \\\\\n",
       "\t 0.79      & Ideal     & I         & SI1       & 61.6      & 56        & 2756      & 5.95      & 5.97      & 3.67     \\\\\n",
       "\t 0.71      & Ideal     & E         & SI1       & 61.9      & 56        & 2756      & 5.71      & 5.73      & 3.54     \\\\\n",
       "\t 0.79      & Good      & F         & SI1       & 58.1      & 59        & 2756      & 6.06      & 6.13      & 3.54     \\\\\n",
       "\t 0.79      & Premium   & E         & SI2       & 61.4      & 58        & 2756      & 6.03      & 5.96      & 3.68     \\\\\n",
       "\t 0.71      & Ideal     & G         & VS1       & 61.4      & 56        & 2756      & 5.76      & 5.73      & 3.53     \\\\\n",
       "\t 0.71      & Premium   & E         & SI1       & 60.5      & 55        & 2756      & 5.79      & 5.74      & 3.49     \\\\\n",
       "\t 0.71      & Premium   & F         & SI1       & 59.8      & 62        & 2756      & 5.74      & 5.73      & 3.43     \\\\\n",
       "\t 0.70      & Very Good & E         & VS2       & 60.5      & 59        & 2757      & 5.71      & 5.76      & 3.47     \\\\\n",
       "\t 0.70      & Very Good & E         & VS2       & 61.2      & 59        & 2757      & 5.69      & 5.72      & 3.49     \\\\\n",
       "\t 0.72      & Premium   & D         & SI1       & 62.7      & 59        & 2757      & 5.69      & 5.73      & 3.58     \\\\\n",
       "\t 0.72      & Ideal     & D         & SI1       & 60.8      & 57        & 2757      & 5.75      & 5.76      & 3.50     \\\\\n",
       "\t 0.72      & Good      & D         & SI1       & 63.1      & 55        & 2757      & 5.69      & 5.75      & 3.61     \\\\\n",
       "\t 0.70      & Very Good & D         & SI1       & 62.8      & 60        & 2757      & 5.66      & 5.68      & 3.56     \\\\\n",
       "\t 0.86      & Premium   & H         & SI2       & 61.0      & 58        & 2757      & 6.15      & 6.12      & 3.74     \\\\\n",
       "\t 0.75      & Ideal     & D         & SI2       & 62.2      & 55        & 2757      & 5.83      & 5.87      & 3.64     \\\\\n",
       "\\end{tabular}\n"
      ],
      "text/markdown": [
       "\n",
       "| carat | cut | color | clarity | depth | table | price | x | y | z |\n",
       "|---|---|---|---|---|---|---|---|---|---|\n",
       "| 0.23      | Ideal     | E         | SI2       | 61.5      | 55        | 326       | 3.95      | 3.98      | 2.43      |\n",
       "| 0.21      | Premium   | E         | SI1       | 59.8      | 61        | 326       | 3.89      | 3.84      | 2.31      |\n",
       "| 0.23      | Good      | E         | VS1       | 56.9      | 65        | 327       | 4.05      | 4.07      | 2.31      |\n",
       "| 0.29      | Premium   | I         | VS2       | 62.4      | 58        | 334       | 4.20      | 4.23      | 2.63      |\n",
       "| 0.31      | Good      | J         | SI2       | 63.3      | 58        | 335       | 4.34      | 4.35      | 2.75      |\n",
       "| 0.24      | Very Good | J         | VVS2      | 62.8      | 57        | 336       | 3.94      | 3.96      | 2.48      |\n",
       "| 0.24      | Very Good | I         | VVS1      | 62.3      | 57        | 336       | 3.95      | 3.98      | 2.47      |\n",
       "| 0.26      | Very Good | H         | SI1       | 61.9      | 55        | 337       | 4.07      | 4.11      | 2.53      |\n",
       "| 0.22      | Fair      | E         | VS2       | 65.1      | 61        | 337       | 3.87      | 3.78      | 2.49      |\n",
       "| 0.23      | Very Good | H         | VS1       | 59.4      | 61        | 338       | 4.00      | 4.05      | 2.39      |\n",
       "| 0.30      | Good      | J         | SI1       | 64.0      | 55        | 339       | 4.25      | 4.28      | 2.73      |\n",
       "| 0.23      | Ideal     | J         | VS1       | 62.8      | 56        | 340       | 3.93      | 3.90      | 2.46      |\n",
       "| 0.22      | Premium   | F         | SI1       | 60.4      | 61        | 342       | 3.88      | 3.84      | 2.33      |\n",
       "| 0.31      | Ideal     | J         | SI2       | 62.2      | 54        | 344       | 4.35      | 4.37      | 2.71      |\n",
       "| 0.20      | Premium   | E         | SI2       | 60.2      | 62        | 345       | 3.79      | 3.75      | 2.27      |\n",
       "| 0.32      | Premium   | E         | I1        | 60.9      | 58        | 345       | 4.38      | 4.42      | 2.68      |\n",
       "| 0.30      | Ideal     | I         | SI2       | 62.0      | 54        | 348       | 4.31      | 4.34      | 2.68      |\n",
       "| 0.30      | Good      | J         | SI1       | 63.4      | 54        | 351       | 4.23      | 4.29      | 2.70      |\n",
       "| 0.30      | Good      | J         | SI1       | 63.8      | 56        | 351       | 4.23      | 4.26      | 2.71      |\n",
       "| 0.30      | Very Good | J         | SI1       | 62.7      | 59        | 351       | 4.21      | 4.27      | 2.66      |\n",
       "| 0.30      | Good      | I         | SI2       | 63.3      | 56        | 351       | 4.26      | 4.30      | 2.71      |\n",
       "| 0.23      | Very Good | E         | VS2       | 63.8      | 55        | 352       | 3.85      | 3.92      | 2.48      |\n",
       "| 0.23      | Very Good | H         | VS1       | 61.0      | 57        | 353       | 3.94      | 3.96      | 2.41      |\n",
       "| 0.31      | Very Good | J         | SI1       | 59.4      | 62        | 353       | 4.39      | 4.43      | 2.62      |\n",
       "| 0.31      | Very Good | J         | SI1       | 58.1      | 62        | 353       | 4.44      | 4.47      | 2.59      |\n",
       "| 0.23      | Very Good | G         | VVS2      | 60.4      | 58        | 354       | 3.97      | 4.01      | 2.41      |\n",
       "| 0.24      | Premium   | I         | VS1       | 62.5      | 57        | 355       | 3.97      | 3.94      | 2.47      |\n",
       "| 0.30      | Very Good | J         | VS2       | 62.2      | 57        | 357       | 4.28      | 4.30      | 2.67      |\n",
       "| 0.23      | Very Good | D         | VS2       | 60.5      | 61        | 357       | 3.96      | 3.97      | 2.40      |\n",
       "| 0.23      | Very Good | F         | VS1       | 60.9      | 57        | 357       | 3.96      | 3.99      | 2.42      |\n",
       "| ... | ... | ... | ... | ... | ... | ... | ... | ... | ... |\n",
       "| 0.70      | Premium   | E         | SI1       | 60.5      | 58        | 2753      | 5.74      | 5.77      | 3.48      |\n",
       "| 0.57      | Premium   | E         | IF        | 59.8      | 60        | 2753      | 5.43      | 5.38      | 3.23      |\n",
       "| 0.61      | Premium   | F         | VVS1      | 61.8      | 59        | 2753      | 5.48      | 5.40      | 3.36      |\n",
       "| 0.80      | Good      | G         | VS2       | 64.2      | 58        | 2753      | 5.84      | 5.81      | 3.74      |\n",
       "| 0.84      | Good      | I         | VS1       | 63.7      | 59        | 2753      | 5.94      | 5.90      | 3.77      |\n",
       "| 0.77      | Ideal     | E         | SI2       | 62.1      | 56        | 2753      | 5.84      | 5.86      | 3.63      |\n",
       "| 0.74      | Good      | D         | SI1       | 63.1      | 59        | 2753      | 5.71      | 5.74      | 3.61      |\n",
       "| 0.90      | Very Good | J         | SI1       | 63.2      | 60        | 2753      | 6.12      | 6.09      | 3.86      |\n",
       "| 0.76      | Premium   | I         | VS1       | 59.3      | 62        | 2753      | 5.93      | 5.85      | 3.49      |\n",
       "| 0.76      | Ideal     | I         | VVS1      | 62.2      | 55        | 2753      | 5.89      | 5.87      | 3.66      |\n",
       "| 0.70      | Very Good | E         | VS2       | 62.4      | 60        | 2755      | 5.57      | 5.61      | 3.49      |\n",
       "| 0.70      | Very Good | E         | VS2       | 62.8      | 60        | 2755      | 5.59      | 5.65      | 3.53      |\n",
       "| 0.70      | Very Good | D         | VS1       | 63.1      | 59        | 2755      | 5.67      | 5.58      | 3.55      |\n",
       "| 0.73      | Ideal     | I         | VS2       | 61.3      | 56        | 2756      | 5.80      | 5.84      | 3.57      |\n",
       "| 0.73      | Ideal     | I         | VS2       | 61.6      | 55        | 2756      | 5.82      | 5.84      | 3.59      |\n",
       "| 0.79      | Ideal     | I         | SI1       | 61.6      | 56        | 2756      | 5.95      | 5.97      | 3.67      |\n",
       "| 0.71      | Ideal     | E         | SI1       | 61.9      | 56        | 2756      | 5.71      | 5.73      | 3.54      |\n",
       "| 0.79      | Good      | F         | SI1       | 58.1      | 59        | 2756      | 6.06      | 6.13      | 3.54      |\n",
       "| 0.79      | Premium   | E         | SI2       | 61.4      | 58        | 2756      | 6.03      | 5.96      | 3.68      |\n",
       "| 0.71      | Ideal     | G         | VS1       | 61.4      | 56        | 2756      | 5.76      | 5.73      | 3.53      |\n",
       "| 0.71      | Premium   | E         | SI1       | 60.5      | 55        | 2756      | 5.79      | 5.74      | 3.49      |\n",
       "| 0.71      | Premium   | F         | SI1       | 59.8      | 62        | 2756      | 5.74      | 5.73      | 3.43      |\n",
       "| 0.70      | Very Good | E         | VS2       | 60.5      | 59        | 2757      | 5.71      | 5.76      | 3.47      |\n",
       "| 0.70      | Very Good | E         | VS2       | 61.2      | 59        | 2757      | 5.69      | 5.72      | 3.49      |\n",
       "| 0.72      | Premium   | D         | SI1       | 62.7      | 59        | 2757      | 5.69      | 5.73      | 3.58      |\n",
       "| 0.72      | Ideal     | D         | SI1       | 60.8      | 57        | 2757      | 5.75      | 5.76      | 3.50      |\n",
       "| 0.72      | Good      | D         | SI1       | 63.1      | 55        | 2757      | 5.69      | 5.75      | 3.61      |\n",
       "| 0.70      | Very Good | D         | SI1       | 62.8      | 60        | 2757      | 5.66      | 5.68      | 3.56      |\n",
       "| 0.86      | Premium   | H         | SI2       | 61.0      | 58        | 2757      | 6.15      | 6.12      | 3.74      |\n",
       "| 0.75      | Ideal     | D         | SI2       | 62.2      | 55        | 2757      | 5.83      | 5.87      | 3.64      |\n",
       "\n"
      ],
      "text/plain": [
       "      carat cut       color clarity depth table price x    y    z   \n",
       "1     0.23  Ideal     E     SI2     61.5  55    326   3.95 3.98 2.43\n",
       "2     0.21  Premium   E     SI1     59.8  61    326   3.89 3.84 2.31\n",
       "3     0.23  Good      E     VS1     56.9  65    327   4.05 4.07 2.31\n",
       "4     0.29  Premium   I     VS2     62.4  58    334   4.20 4.23 2.63\n",
       "5     0.31  Good      J     SI2     63.3  58    335   4.34 4.35 2.75\n",
       "6     0.24  Very Good J     VVS2    62.8  57    336   3.94 3.96 2.48\n",
       "7     0.24  Very Good I     VVS1    62.3  57    336   3.95 3.98 2.47\n",
       "8     0.26  Very Good H     SI1     61.9  55    337   4.07 4.11 2.53\n",
       "9     0.22  Fair      E     VS2     65.1  61    337   3.87 3.78 2.49\n",
       "10    0.23  Very Good H     VS1     59.4  61    338   4.00 4.05 2.39\n",
       "11    0.30  Good      J     SI1     64.0  55    339   4.25 4.28 2.73\n",
       "12    0.23  Ideal     J     VS1     62.8  56    340   3.93 3.90 2.46\n",
       "13    0.22  Premium   F     SI1     60.4  61    342   3.88 3.84 2.33\n",
       "14    0.31  Ideal     J     SI2     62.2  54    344   4.35 4.37 2.71\n",
       "15    0.20  Premium   E     SI2     60.2  62    345   3.79 3.75 2.27\n",
       "16    0.32  Premium   E     I1      60.9  58    345   4.38 4.42 2.68\n",
       "17    0.30  Ideal     I     SI2     62.0  54    348   4.31 4.34 2.68\n",
       "18    0.30  Good      J     SI1     63.4  54    351   4.23 4.29 2.70\n",
       "19    0.30  Good      J     SI1     63.8  56    351   4.23 4.26 2.71\n",
       "20    0.30  Very Good J     SI1     62.7  59    351   4.21 4.27 2.66\n",
       "21    0.30  Good      I     SI2     63.3  56    351   4.26 4.30 2.71\n",
       "22    0.23  Very Good E     VS2     63.8  55    352   3.85 3.92 2.48\n",
       "23    0.23  Very Good H     VS1     61.0  57    353   3.94 3.96 2.41\n",
       "24    0.31  Very Good J     SI1     59.4  62    353   4.39 4.43 2.62\n",
       "25    0.31  Very Good J     SI1     58.1  62    353   4.44 4.47 2.59\n",
       "26    0.23  Very Good G     VVS2    60.4  58    354   3.97 4.01 2.41\n",
       "27    0.24  Premium   I     VS1     62.5  57    355   3.97 3.94 2.47\n",
       "28    0.30  Very Good J     VS2     62.2  57    357   4.28 4.30 2.67\n",
       "29    0.23  Very Good D     VS2     60.5  61    357   3.96 3.97 2.40\n",
       "30    0.23  Very Good F     VS1     60.9  57    357   3.96 3.99 2.42\n",
       "...   ...   ...       ...   ...     ...   ...   ...   ...  ...  ... \n",
       "53911 0.70  Premium   E     SI1     60.5  58    2753  5.74 5.77 3.48\n",
       "53912 0.57  Premium   E     IF      59.8  60    2753  5.43 5.38 3.23\n",
       "53913 0.61  Premium   F     VVS1    61.8  59    2753  5.48 5.40 3.36\n",
       "53914 0.80  Good      G     VS2     64.2  58    2753  5.84 5.81 3.74\n",
       "53915 0.84  Good      I     VS1     63.7  59    2753  5.94 5.90 3.77\n",
       "53916 0.77  Ideal     E     SI2     62.1  56    2753  5.84 5.86 3.63\n",
       "53917 0.74  Good      D     SI1     63.1  59    2753  5.71 5.74 3.61\n",
       "53918 0.90  Very Good J     SI1     63.2  60    2753  6.12 6.09 3.86\n",
       "53919 0.76  Premium   I     VS1     59.3  62    2753  5.93 5.85 3.49\n",
       "53920 0.76  Ideal     I     VVS1    62.2  55    2753  5.89 5.87 3.66\n",
       "53921 0.70  Very Good E     VS2     62.4  60    2755  5.57 5.61 3.49\n",
       "53922 0.70  Very Good E     VS2     62.8  60    2755  5.59 5.65 3.53\n",
       "53923 0.70  Very Good D     VS1     63.1  59    2755  5.67 5.58 3.55\n",
       "53924 0.73  Ideal     I     VS2     61.3  56    2756  5.80 5.84 3.57\n",
       "53925 0.73  Ideal     I     VS2     61.6  55    2756  5.82 5.84 3.59\n",
       "53926 0.79  Ideal     I     SI1     61.6  56    2756  5.95 5.97 3.67\n",
       "53927 0.71  Ideal     E     SI1     61.9  56    2756  5.71 5.73 3.54\n",
       "53928 0.79  Good      F     SI1     58.1  59    2756  6.06 6.13 3.54\n",
       "53929 0.79  Premium   E     SI2     61.4  58    2756  6.03 5.96 3.68\n",
       "53930 0.71  Ideal     G     VS1     61.4  56    2756  5.76 5.73 3.53\n",
       "53931 0.71  Premium   E     SI1     60.5  55    2756  5.79 5.74 3.49\n",
       "53932 0.71  Premium   F     SI1     59.8  62    2756  5.74 5.73 3.43\n",
       "53933 0.70  Very Good E     VS2     60.5  59    2757  5.71 5.76 3.47\n",
       "53934 0.70  Very Good E     VS2     61.2  59    2757  5.69 5.72 3.49\n",
       "53935 0.72  Premium   D     SI1     62.7  59    2757  5.69 5.73 3.58\n",
       "53936 0.72  Ideal     D     SI1     60.8  57    2757  5.75 5.76 3.50\n",
       "53937 0.72  Good      D     SI1     63.1  55    2757  5.69 5.75 3.61\n",
       "53938 0.70  Very Good D     SI1     62.8  60    2757  5.66 5.68 3.56\n",
       "53939 0.86  Premium   H     SI2     61.0  58    2757  6.15 6.12 3.74\n",
       "53940 0.75  Ideal     D     SI2     62.2  55    2757  5.83 5.87 3.64"
      ]
     },
     "metadata": {},
     "output_type": "display_data"
    }
   ],
   "source": [
    "diamonds"
   ]
  },
  {
   "cell_type": "code",
   "execution_count": 112,
   "id": "bab1ef03",
   "metadata": {},
   "outputs": [
    {
     "data": {
      "text/html": [
       "<table>\n",
       "<thead><tr><th scope=col>carat</th><th scope=col>price</th></tr></thead>\n",
       "<tbody>\n",
       "\t<tr><td>0.23</td><td>326 </td></tr>\n",
       "\t<tr><td>0.21</td><td>326 </td></tr>\n",
       "\t<tr><td>0.23</td><td>327 </td></tr>\n",
       "\t<tr><td>0.29</td><td>334 </td></tr>\n",
       "\t<tr><td>0.31</td><td>335 </td></tr>\n",
       "\t<tr><td>0.24</td><td>336 </td></tr>\n",
       "\t<tr><td>0.24</td><td>336 </td></tr>\n",
       "\t<tr><td>0.26</td><td>337 </td></tr>\n",
       "\t<tr><td>0.22</td><td>337 </td></tr>\n",
       "\t<tr><td>0.23</td><td>338 </td></tr>\n",
       "\t<tr><td>0.30</td><td>339 </td></tr>\n",
       "\t<tr><td>0.23</td><td>340 </td></tr>\n",
       "\t<tr><td>0.22</td><td>342 </td></tr>\n",
       "\t<tr><td>0.31</td><td>344 </td></tr>\n",
       "\t<tr><td>0.20</td><td>345 </td></tr>\n",
       "\t<tr><td>0.32</td><td>345 </td></tr>\n",
       "\t<tr><td>0.30</td><td>348 </td></tr>\n",
       "\t<tr><td>0.30</td><td>351 </td></tr>\n",
       "\t<tr><td>0.30</td><td>351 </td></tr>\n",
       "\t<tr><td>0.30</td><td>351 </td></tr>\n",
       "\t<tr><td>0.30</td><td>351 </td></tr>\n",
       "\t<tr><td>0.23</td><td>352 </td></tr>\n",
       "\t<tr><td>0.23</td><td>353 </td></tr>\n",
       "\t<tr><td>0.31</td><td>353 </td></tr>\n",
       "\t<tr><td>0.31</td><td>353 </td></tr>\n",
       "\t<tr><td>0.23</td><td>354 </td></tr>\n",
       "\t<tr><td>0.24</td><td>355 </td></tr>\n",
       "\t<tr><td>0.30</td><td>357 </td></tr>\n",
       "\t<tr><td>0.23</td><td>357 </td></tr>\n",
       "\t<tr><td>0.23</td><td>357 </td></tr>\n",
       "\t<tr><td>...</td><td>...</td></tr>\n",
       "\t<tr><td>0.70</td><td>2753</td></tr>\n",
       "\t<tr><td>0.57</td><td>2753</td></tr>\n",
       "\t<tr><td>0.61</td><td>2753</td></tr>\n",
       "\t<tr><td>0.80</td><td>2753</td></tr>\n",
       "\t<tr><td>0.84</td><td>2753</td></tr>\n",
       "\t<tr><td>0.77</td><td>2753</td></tr>\n",
       "\t<tr><td>0.74</td><td>2753</td></tr>\n",
       "\t<tr><td>0.90</td><td>2753</td></tr>\n",
       "\t<tr><td>0.76</td><td>2753</td></tr>\n",
       "\t<tr><td>0.76</td><td>2753</td></tr>\n",
       "\t<tr><td>0.70</td><td>2755</td></tr>\n",
       "\t<tr><td>0.70</td><td>2755</td></tr>\n",
       "\t<tr><td>0.70</td><td>2755</td></tr>\n",
       "\t<tr><td>0.73</td><td>2756</td></tr>\n",
       "\t<tr><td>0.73</td><td>2756</td></tr>\n",
       "\t<tr><td>0.79</td><td>2756</td></tr>\n",
       "\t<tr><td>0.71</td><td>2756</td></tr>\n",
       "\t<tr><td>0.79</td><td>2756</td></tr>\n",
       "\t<tr><td>0.79</td><td>2756</td></tr>\n",
       "\t<tr><td>0.71</td><td>2756</td></tr>\n",
       "\t<tr><td>0.71</td><td>2756</td></tr>\n",
       "\t<tr><td>0.71</td><td>2756</td></tr>\n",
       "\t<tr><td>0.70</td><td>2757</td></tr>\n",
       "\t<tr><td>0.70</td><td>2757</td></tr>\n",
       "\t<tr><td>0.72</td><td>2757</td></tr>\n",
       "\t<tr><td>0.72</td><td>2757</td></tr>\n",
       "\t<tr><td>0.72</td><td>2757</td></tr>\n",
       "\t<tr><td>0.70</td><td>2757</td></tr>\n",
       "\t<tr><td>0.86</td><td>2757</td></tr>\n",
       "\t<tr><td>0.75</td><td>2757</td></tr>\n",
       "</tbody>\n",
       "</table>\n"
      ],
      "text/latex": [
       "\\begin{tabular}{r|ll}\n",
       " carat & price\\\\\n",
       "\\hline\n",
       "\t 0.23 & 326 \\\\\n",
       "\t 0.21 & 326 \\\\\n",
       "\t 0.23 & 327 \\\\\n",
       "\t 0.29 & 334 \\\\\n",
       "\t 0.31 & 335 \\\\\n",
       "\t 0.24 & 336 \\\\\n",
       "\t 0.24 & 336 \\\\\n",
       "\t 0.26 & 337 \\\\\n",
       "\t 0.22 & 337 \\\\\n",
       "\t 0.23 & 338 \\\\\n",
       "\t 0.30 & 339 \\\\\n",
       "\t 0.23 & 340 \\\\\n",
       "\t 0.22 & 342 \\\\\n",
       "\t 0.31 & 344 \\\\\n",
       "\t 0.20 & 345 \\\\\n",
       "\t 0.32 & 345 \\\\\n",
       "\t 0.30 & 348 \\\\\n",
       "\t 0.30 & 351 \\\\\n",
       "\t 0.30 & 351 \\\\\n",
       "\t 0.30 & 351 \\\\\n",
       "\t 0.30 & 351 \\\\\n",
       "\t 0.23 & 352 \\\\\n",
       "\t 0.23 & 353 \\\\\n",
       "\t 0.31 & 353 \\\\\n",
       "\t 0.31 & 353 \\\\\n",
       "\t 0.23 & 354 \\\\\n",
       "\t 0.24 & 355 \\\\\n",
       "\t 0.30 & 357 \\\\\n",
       "\t 0.23 & 357 \\\\\n",
       "\t 0.23 & 357 \\\\\n",
       "\t ... & ...\\\\\n",
       "\t 0.70 & 2753\\\\\n",
       "\t 0.57 & 2753\\\\\n",
       "\t 0.61 & 2753\\\\\n",
       "\t 0.80 & 2753\\\\\n",
       "\t 0.84 & 2753\\\\\n",
       "\t 0.77 & 2753\\\\\n",
       "\t 0.74 & 2753\\\\\n",
       "\t 0.90 & 2753\\\\\n",
       "\t 0.76 & 2753\\\\\n",
       "\t 0.76 & 2753\\\\\n",
       "\t 0.70 & 2755\\\\\n",
       "\t 0.70 & 2755\\\\\n",
       "\t 0.70 & 2755\\\\\n",
       "\t 0.73 & 2756\\\\\n",
       "\t 0.73 & 2756\\\\\n",
       "\t 0.79 & 2756\\\\\n",
       "\t 0.71 & 2756\\\\\n",
       "\t 0.79 & 2756\\\\\n",
       "\t 0.79 & 2756\\\\\n",
       "\t 0.71 & 2756\\\\\n",
       "\t 0.71 & 2756\\\\\n",
       "\t 0.71 & 2756\\\\\n",
       "\t 0.70 & 2757\\\\\n",
       "\t 0.70 & 2757\\\\\n",
       "\t 0.72 & 2757\\\\\n",
       "\t 0.72 & 2757\\\\\n",
       "\t 0.72 & 2757\\\\\n",
       "\t 0.70 & 2757\\\\\n",
       "\t 0.86 & 2757\\\\\n",
       "\t 0.75 & 2757\\\\\n",
       "\\end{tabular}\n"
      ],
      "text/markdown": [
       "\n",
       "| carat | price |\n",
       "|---|---|\n",
       "| 0.23 | 326  |\n",
       "| 0.21 | 326  |\n",
       "| 0.23 | 327  |\n",
       "| 0.29 | 334  |\n",
       "| 0.31 | 335  |\n",
       "| 0.24 | 336  |\n",
       "| 0.24 | 336  |\n",
       "| 0.26 | 337  |\n",
       "| 0.22 | 337  |\n",
       "| 0.23 | 338  |\n",
       "| 0.30 | 339  |\n",
       "| 0.23 | 340  |\n",
       "| 0.22 | 342  |\n",
       "| 0.31 | 344  |\n",
       "| 0.20 | 345  |\n",
       "| 0.32 | 345  |\n",
       "| 0.30 | 348  |\n",
       "| 0.30 | 351  |\n",
       "| 0.30 | 351  |\n",
       "| 0.30 | 351  |\n",
       "| 0.30 | 351  |\n",
       "| 0.23 | 352  |\n",
       "| 0.23 | 353  |\n",
       "| 0.31 | 353  |\n",
       "| 0.31 | 353  |\n",
       "| 0.23 | 354  |\n",
       "| 0.24 | 355  |\n",
       "| 0.30 | 357  |\n",
       "| 0.23 | 357  |\n",
       "| 0.23 | 357  |\n",
       "| ... | ... |\n",
       "| 0.70 | 2753 |\n",
       "| 0.57 | 2753 |\n",
       "| 0.61 | 2753 |\n",
       "| 0.80 | 2753 |\n",
       "| 0.84 | 2753 |\n",
       "| 0.77 | 2753 |\n",
       "| 0.74 | 2753 |\n",
       "| 0.90 | 2753 |\n",
       "| 0.76 | 2753 |\n",
       "| 0.76 | 2753 |\n",
       "| 0.70 | 2755 |\n",
       "| 0.70 | 2755 |\n",
       "| 0.70 | 2755 |\n",
       "| 0.73 | 2756 |\n",
       "| 0.73 | 2756 |\n",
       "| 0.79 | 2756 |\n",
       "| 0.71 | 2756 |\n",
       "| 0.79 | 2756 |\n",
       "| 0.79 | 2756 |\n",
       "| 0.71 | 2756 |\n",
       "| 0.71 | 2756 |\n",
       "| 0.71 | 2756 |\n",
       "| 0.70 | 2757 |\n",
       "| 0.70 | 2757 |\n",
       "| 0.72 | 2757 |\n",
       "| 0.72 | 2757 |\n",
       "| 0.72 | 2757 |\n",
       "| 0.70 | 2757 |\n",
       "| 0.86 | 2757 |\n",
       "| 0.75 | 2757 |\n",
       "\n"
      ],
      "text/plain": [
       "      carat price\n",
       "1     0.23  326  \n",
       "2     0.21  326  \n",
       "3     0.23  327  \n",
       "4     0.29  334  \n",
       "5     0.31  335  \n",
       "6     0.24  336  \n",
       "7     0.24  336  \n",
       "8     0.26  337  \n",
       "9     0.22  337  \n",
       "10    0.23  338  \n",
       "11    0.30  339  \n",
       "12    0.23  340  \n",
       "13    0.22  342  \n",
       "14    0.31  344  \n",
       "15    0.20  345  \n",
       "16    0.32  345  \n",
       "17    0.30  348  \n",
       "18    0.30  351  \n",
       "19    0.30  351  \n",
       "20    0.30  351  \n",
       "21    0.30  351  \n",
       "22    0.23  352  \n",
       "23    0.23  353  \n",
       "24    0.31  353  \n",
       "25    0.31  353  \n",
       "26    0.23  354  \n",
       "27    0.24  355  \n",
       "28    0.30  357  \n",
       "29    0.23  357  \n",
       "30    0.23  357  \n",
       "...   ...   ...  \n",
       "53911 0.70  2753 \n",
       "53912 0.57  2753 \n",
       "53913 0.61  2753 \n",
       "53914 0.80  2753 \n",
       "53915 0.84  2753 \n",
       "53916 0.77  2753 \n",
       "53917 0.74  2753 \n",
       "53918 0.90  2753 \n",
       "53919 0.76  2753 \n",
       "53920 0.76  2753 \n",
       "53921 0.70  2755 \n",
       "53922 0.70  2755 \n",
       "53923 0.70  2755 \n",
       "53924 0.73  2756 \n",
       "53925 0.73  2756 \n",
       "53926 0.79  2756 \n",
       "53927 0.71  2756 \n",
       "53928 0.79  2756 \n",
       "53929 0.79  2756 \n",
       "53930 0.71  2756 \n",
       "53931 0.71  2756 \n",
       "53932 0.71  2756 \n",
       "53933 0.70  2757 \n",
       "53934 0.70  2757 \n",
       "53935 0.72  2757 \n",
       "53936 0.72  2757 \n",
       "53937 0.72  2757 \n",
       "53938 0.70  2757 \n",
       "53939 0.86  2757 \n",
       "53940 0.75  2757 "
      ]
     },
     "metadata": {},
     "output_type": "display_data"
    }
   ],
   "source": [
    "select(diamonds, carat, price)"
   ]
  },
  {
   "cell_type": "code",
   "execution_count": 113,
   "id": "c125be2f",
   "metadata": {},
   "outputs": [
    {
     "data": {
      "text/html": [
       "<table>\n",
       "<thead><tr><th scope=col>carat</th><th scope=col>price</th></tr></thead>\n",
       "<tbody>\n",
       "\t<tr><td>0.23</td><td>326 </td></tr>\n",
       "\t<tr><td>0.21</td><td>326 </td></tr>\n",
       "\t<tr><td>0.23</td><td>327 </td></tr>\n",
       "\t<tr><td>0.29</td><td>334 </td></tr>\n",
       "\t<tr><td>0.31</td><td>335 </td></tr>\n",
       "\t<tr><td>0.24</td><td>336 </td></tr>\n",
       "\t<tr><td>0.24</td><td>336 </td></tr>\n",
       "\t<tr><td>0.26</td><td>337 </td></tr>\n",
       "\t<tr><td>0.22</td><td>337 </td></tr>\n",
       "\t<tr><td>0.23</td><td>338 </td></tr>\n",
       "\t<tr><td>0.30</td><td>339 </td></tr>\n",
       "\t<tr><td>0.23</td><td>340 </td></tr>\n",
       "\t<tr><td>0.22</td><td>342 </td></tr>\n",
       "\t<tr><td>0.31</td><td>344 </td></tr>\n",
       "\t<tr><td>0.20</td><td>345 </td></tr>\n",
       "\t<tr><td>0.32</td><td>345 </td></tr>\n",
       "\t<tr><td>0.30</td><td>348 </td></tr>\n",
       "\t<tr><td>0.30</td><td>351 </td></tr>\n",
       "\t<tr><td>0.30</td><td>351 </td></tr>\n",
       "\t<tr><td>0.30</td><td>351 </td></tr>\n",
       "\t<tr><td>0.30</td><td>351 </td></tr>\n",
       "\t<tr><td>0.23</td><td>352 </td></tr>\n",
       "\t<tr><td>0.23</td><td>353 </td></tr>\n",
       "\t<tr><td>0.31</td><td>353 </td></tr>\n",
       "\t<tr><td>0.31</td><td>353 </td></tr>\n",
       "\t<tr><td>0.23</td><td>354 </td></tr>\n",
       "\t<tr><td>0.24</td><td>355 </td></tr>\n",
       "\t<tr><td>0.30</td><td>357 </td></tr>\n",
       "\t<tr><td>0.23</td><td>357 </td></tr>\n",
       "\t<tr><td>0.23</td><td>357 </td></tr>\n",
       "\t<tr><td>...</td><td>...</td></tr>\n",
       "\t<tr><td>0.70</td><td>2753</td></tr>\n",
       "\t<tr><td>0.57</td><td>2753</td></tr>\n",
       "\t<tr><td>0.61</td><td>2753</td></tr>\n",
       "\t<tr><td>0.80</td><td>2753</td></tr>\n",
       "\t<tr><td>0.84</td><td>2753</td></tr>\n",
       "\t<tr><td>0.77</td><td>2753</td></tr>\n",
       "\t<tr><td>0.74</td><td>2753</td></tr>\n",
       "\t<tr><td>0.90</td><td>2753</td></tr>\n",
       "\t<tr><td>0.76</td><td>2753</td></tr>\n",
       "\t<tr><td>0.76</td><td>2753</td></tr>\n",
       "\t<tr><td>0.70</td><td>2755</td></tr>\n",
       "\t<tr><td>0.70</td><td>2755</td></tr>\n",
       "\t<tr><td>0.70</td><td>2755</td></tr>\n",
       "\t<tr><td>0.73</td><td>2756</td></tr>\n",
       "\t<tr><td>0.73</td><td>2756</td></tr>\n",
       "\t<tr><td>0.79</td><td>2756</td></tr>\n",
       "\t<tr><td>0.71</td><td>2756</td></tr>\n",
       "\t<tr><td>0.79</td><td>2756</td></tr>\n",
       "\t<tr><td>0.79</td><td>2756</td></tr>\n",
       "\t<tr><td>0.71</td><td>2756</td></tr>\n",
       "\t<tr><td>0.71</td><td>2756</td></tr>\n",
       "\t<tr><td>0.71</td><td>2756</td></tr>\n",
       "\t<tr><td>0.70</td><td>2757</td></tr>\n",
       "\t<tr><td>0.70</td><td>2757</td></tr>\n",
       "\t<tr><td>0.72</td><td>2757</td></tr>\n",
       "\t<tr><td>0.72</td><td>2757</td></tr>\n",
       "\t<tr><td>0.72</td><td>2757</td></tr>\n",
       "\t<tr><td>0.70</td><td>2757</td></tr>\n",
       "\t<tr><td>0.86</td><td>2757</td></tr>\n",
       "\t<tr><td>0.75</td><td>2757</td></tr>\n",
       "</tbody>\n",
       "</table>\n"
      ],
      "text/latex": [
       "\\begin{tabular}{r|ll}\n",
       " carat & price\\\\\n",
       "\\hline\n",
       "\t 0.23 & 326 \\\\\n",
       "\t 0.21 & 326 \\\\\n",
       "\t 0.23 & 327 \\\\\n",
       "\t 0.29 & 334 \\\\\n",
       "\t 0.31 & 335 \\\\\n",
       "\t 0.24 & 336 \\\\\n",
       "\t 0.24 & 336 \\\\\n",
       "\t 0.26 & 337 \\\\\n",
       "\t 0.22 & 337 \\\\\n",
       "\t 0.23 & 338 \\\\\n",
       "\t 0.30 & 339 \\\\\n",
       "\t 0.23 & 340 \\\\\n",
       "\t 0.22 & 342 \\\\\n",
       "\t 0.31 & 344 \\\\\n",
       "\t 0.20 & 345 \\\\\n",
       "\t 0.32 & 345 \\\\\n",
       "\t 0.30 & 348 \\\\\n",
       "\t 0.30 & 351 \\\\\n",
       "\t 0.30 & 351 \\\\\n",
       "\t 0.30 & 351 \\\\\n",
       "\t 0.30 & 351 \\\\\n",
       "\t 0.23 & 352 \\\\\n",
       "\t 0.23 & 353 \\\\\n",
       "\t 0.31 & 353 \\\\\n",
       "\t 0.31 & 353 \\\\\n",
       "\t 0.23 & 354 \\\\\n",
       "\t 0.24 & 355 \\\\\n",
       "\t 0.30 & 357 \\\\\n",
       "\t 0.23 & 357 \\\\\n",
       "\t 0.23 & 357 \\\\\n",
       "\t ... & ...\\\\\n",
       "\t 0.70 & 2753\\\\\n",
       "\t 0.57 & 2753\\\\\n",
       "\t 0.61 & 2753\\\\\n",
       "\t 0.80 & 2753\\\\\n",
       "\t 0.84 & 2753\\\\\n",
       "\t 0.77 & 2753\\\\\n",
       "\t 0.74 & 2753\\\\\n",
       "\t 0.90 & 2753\\\\\n",
       "\t 0.76 & 2753\\\\\n",
       "\t 0.76 & 2753\\\\\n",
       "\t 0.70 & 2755\\\\\n",
       "\t 0.70 & 2755\\\\\n",
       "\t 0.70 & 2755\\\\\n",
       "\t 0.73 & 2756\\\\\n",
       "\t 0.73 & 2756\\\\\n",
       "\t 0.79 & 2756\\\\\n",
       "\t 0.71 & 2756\\\\\n",
       "\t 0.79 & 2756\\\\\n",
       "\t 0.79 & 2756\\\\\n",
       "\t 0.71 & 2756\\\\\n",
       "\t 0.71 & 2756\\\\\n",
       "\t 0.71 & 2756\\\\\n",
       "\t 0.70 & 2757\\\\\n",
       "\t 0.70 & 2757\\\\\n",
       "\t 0.72 & 2757\\\\\n",
       "\t 0.72 & 2757\\\\\n",
       "\t 0.72 & 2757\\\\\n",
       "\t 0.70 & 2757\\\\\n",
       "\t 0.86 & 2757\\\\\n",
       "\t 0.75 & 2757\\\\\n",
       "\\end{tabular}\n"
      ],
      "text/markdown": [
       "\n",
       "| carat | price |\n",
       "|---|---|\n",
       "| 0.23 | 326  |\n",
       "| 0.21 | 326  |\n",
       "| 0.23 | 327  |\n",
       "| 0.29 | 334  |\n",
       "| 0.31 | 335  |\n",
       "| 0.24 | 336  |\n",
       "| 0.24 | 336  |\n",
       "| 0.26 | 337  |\n",
       "| 0.22 | 337  |\n",
       "| 0.23 | 338  |\n",
       "| 0.30 | 339  |\n",
       "| 0.23 | 340  |\n",
       "| 0.22 | 342  |\n",
       "| 0.31 | 344  |\n",
       "| 0.20 | 345  |\n",
       "| 0.32 | 345  |\n",
       "| 0.30 | 348  |\n",
       "| 0.30 | 351  |\n",
       "| 0.30 | 351  |\n",
       "| 0.30 | 351  |\n",
       "| 0.30 | 351  |\n",
       "| 0.23 | 352  |\n",
       "| 0.23 | 353  |\n",
       "| 0.31 | 353  |\n",
       "| 0.31 | 353  |\n",
       "| 0.23 | 354  |\n",
       "| 0.24 | 355  |\n",
       "| 0.30 | 357  |\n",
       "| 0.23 | 357  |\n",
       "| 0.23 | 357  |\n",
       "| ... | ... |\n",
       "| 0.70 | 2753 |\n",
       "| 0.57 | 2753 |\n",
       "| 0.61 | 2753 |\n",
       "| 0.80 | 2753 |\n",
       "| 0.84 | 2753 |\n",
       "| 0.77 | 2753 |\n",
       "| 0.74 | 2753 |\n",
       "| 0.90 | 2753 |\n",
       "| 0.76 | 2753 |\n",
       "| 0.76 | 2753 |\n",
       "| 0.70 | 2755 |\n",
       "| 0.70 | 2755 |\n",
       "| 0.70 | 2755 |\n",
       "| 0.73 | 2756 |\n",
       "| 0.73 | 2756 |\n",
       "| 0.79 | 2756 |\n",
       "| 0.71 | 2756 |\n",
       "| 0.79 | 2756 |\n",
       "| 0.79 | 2756 |\n",
       "| 0.71 | 2756 |\n",
       "| 0.71 | 2756 |\n",
       "| 0.71 | 2756 |\n",
       "| 0.70 | 2757 |\n",
       "| 0.70 | 2757 |\n",
       "| 0.72 | 2757 |\n",
       "| 0.72 | 2757 |\n",
       "| 0.72 | 2757 |\n",
       "| 0.70 | 2757 |\n",
       "| 0.86 | 2757 |\n",
       "| 0.75 | 2757 |\n",
       "\n"
      ],
      "text/plain": [
       "      carat price\n",
       "1     0.23  326  \n",
       "2     0.21  326  \n",
       "3     0.23  327  \n",
       "4     0.29  334  \n",
       "5     0.31  335  \n",
       "6     0.24  336  \n",
       "7     0.24  336  \n",
       "8     0.26  337  \n",
       "9     0.22  337  \n",
       "10    0.23  338  \n",
       "11    0.30  339  \n",
       "12    0.23  340  \n",
       "13    0.22  342  \n",
       "14    0.31  344  \n",
       "15    0.20  345  \n",
       "16    0.32  345  \n",
       "17    0.30  348  \n",
       "18    0.30  351  \n",
       "19    0.30  351  \n",
       "20    0.30  351  \n",
       "21    0.30  351  \n",
       "22    0.23  352  \n",
       "23    0.23  353  \n",
       "24    0.31  353  \n",
       "25    0.31  353  \n",
       "26    0.23  354  \n",
       "27    0.24  355  \n",
       "28    0.30  357  \n",
       "29    0.23  357  \n",
       "30    0.23  357  \n",
       "...   ...   ...  \n",
       "53911 0.70  2753 \n",
       "53912 0.57  2753 \n",
       "53913 0.61  2753 \n",
       "53914 0.80  2753 \n",
       "53915 0.84  2753 \n",
       "53916 0.77  2753 \n",
       "53917 0.74  2753 \n",
       "53918 0.90  2753 \n",
       "53919 0.76  2753 \n",
       "53920 0.76  2753 \n",
       "53921 0.70  2755 \n",
       "53922 0.70  2755 \n",
       "53923 0.70  2755 \n",
       "53924 0.73  2756 \n",
       "53925 0.73  2756 \n",
       "53926 0.79  2756 \n",
       "53927 0.71  2756 \n",
       "53928 0.79  2756 \n",
       "53929 0.79  2756 \n",
       "53930 0.71  2756 \n",
       "53931 0.71  2756 \n",
       "53932 0.71  2756 \n",
       "53933 0.70  2757 \n",
       "53934 0.70  2757 \n",
       "53935 0.72  2757 \n",
       "53936 0.72  2757 \n",
       "53937 0.72  2757 \n",
       "53938 0.70  2757 \n",
       "53939 0.86  2757 \n",
       "53940 0.75  2757 "
      ]
     },
     "metadata": {},
     "output_type": "display_data"
    }
   ],
   "source": [
    "diamonds %>% select(carat, price)"
   ]
  },
  {
   "cell_type": "code",
   "execution_count": null,
   "id": "b807bcd7",
   "metadata": {},
   "outputs": [],
   "source": []
  }
 ],
 "metadata": {
  "kernelspec": {
   "display_name": "R",
   "language": "R",
   "name": "ir"
  },
  "language_info": {
   "codemirror_mode": "r",
   "file_extension": ".r",
   "mimetype": "text/x-r-source",
   "name": "R",
   "pygments_lexer": "r",
   "version": "3.6.1"
  }
 },
 "nbformat": 4,
 "nbformat_minor": 5
}
