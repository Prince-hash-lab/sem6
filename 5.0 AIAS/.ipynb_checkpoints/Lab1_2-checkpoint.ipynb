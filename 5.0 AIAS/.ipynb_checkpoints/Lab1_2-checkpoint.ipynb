{
 "cells": [
  {
   "cell_type": "markdown",
   "id": "4134a050",
   "metadata": {},
   "source": [
    "# Lab 1 \n",
    "## Himanshu Neb\n",
    "\n"
   ]
  },
  {
   "cell_type": "code",
   "execution_count": null,
   "id": "5ab1e698",
   "metadata": {},
   "outputs": [],
   "source": [
    "s = \"Hi there Class!\"\n",
    "lt=s.split()\n",
    "lt"
   ]
  },
  {
   "cell_type": "code",
   "execution_count": null,
   "id": "5e0bfadc",
   "metadata": {},
   "outputs": [],
   "source": [
    "print(\"The diameter of Earth is {} kilometers.\".format(12742))"
   ]
  },
  {
   "cell_type": "code",
   "execution_count": null,
   "id": "37aaf487",
   "metadata": {},
   "outputs": [],
   "source": [
    "lst = [1,2,[3,4],[5,[100,200,['hello']],23,11],1,7]\n",
    "lst[3][1][2]"
   ]
  },
  {
   "cell_type": "code",
   "execution_count": null,
   "id": "5686e53d",
   "metadata": {},
   "outputs": [],
   "source": [
    "d = {'k1':[1,2,3,{'tricky':['oh','man','inception',{'target':[1,2,3,'hello']}]}]}\n",
    "d['k1'][3]['tricky'][3]['target'][3]"
   ]
  },
  {
   "cell_type": "code",
   "execution_count": null,
   "id": "3c8abe88",
   "metadata": {},
   "outputs": [],
   "source": [
    "def grabdom(str1):\n",
    "    lt=str1.split('@')\n",
    "    print(\"@\", lt[1])\n",
    "grabdom(\"user@domain.com\")\n"
   ]
  },
  {
   "cell_type": "code",
   "execution_count": null,
   "id": "4774aee9",
   "metadata": {},
   "outputs": [],
   "source": [
    "def ispres(str1):\n",
    "    str2='dog'\n",
    "    for i in range(len(str1)-2):\n",
    "#         print(i, j)\n",
    "        for j in range(3):\n",
    "#             print(i, j)\n",
    "            if str1[i+j]!=str2[j]:\n",
    "                break;\n",
    "            if j==2:\n",
    "                return True\n",
    "ispres(\"isdog\")\n",
    "                \n",
    "            \n"
   ]
  },
  {
   "cell_type": "code",
   "execution_count": null,
   "id": "ee393f1b",
   "metadata": {},
   "outputs": [],
   "source": [
    "def ispres(str1):\n",
    "    str2='dog'\n",
    "    val=0\n",
    "    for i in range(len(str1)-2):\n",
    "#         print(i, j)\n",
    "        for j in range(3):\n",
    "#             print(i, j)\n",
    "            if str1[i+j]!=str2[j]:\n",
    "                break;\n",
    "            if j==2:\n",
    "                val+=1\n",
    "    return val\n",
    "print(ispres(\"iamatman\"))"
   ]
  },
  {
   "cell_type": "code",
   "execution_count": null,
   "id": "45722391",
   "metadata": {},
   "outputs": [],
   "source": [
    "seq = ['soup','dog','salad','cat','great']\n",
    "result = list(filter(lambda i: (i[0]=='s'), seq))\n",
    "result"
   ]
  },
  {
   "cell_type": "code",
   "execution_count": null,
   "id": "e8082bad",
   "metadata": {},
   "outputs": [],
   "source": [
    "def caught_speeding(val, bd):\n",
    "    if bd:\n",
    "        val-=5\n",
    "    if val<=60:\n",
    "        return \"No challan \"\n",
    "    elif val<=80:\n",
    "        return \" small challan\"\n",
    "    else:\n",
    "        return \"heavy challan\"\n",
    "print(caught_speeding(81,True))\n",
    "print(caught_speeding(81,False))"
   ]
  },
  {
   "cell_type": "code",
   "execution_count": null,
   "id": "e56d3e68",
   "metadata": {},
   "outputs": [],
   "source": [
    "lt1 = [\"M\", \"na\", \"i\", \"She\"]\n",
    "lt2 = [\"y\", \"me\", \"s\", \"lly\"]\n",
    "expout=[lt1[i]+lt2[i] for i in range(len(lt1))]\n",
    "expout"
   ]
  },
  {
   "cell_type": "code",
   "execution_count": null,
   "id": "f97bf284",
   "metadata": {},
   "outputs": [],
   "source": [
    "list1 = [\"Hello \", \"take \"]\n",
    "list2 = [\"Dear\", \"Sir\"]\n",
    "expout=[]\n",
    "for i in list1:\n",
    "    for j in list2:\n",
    "        expout.append(i+j)\n",
    "expout"
   ]
  },
  {
   "cell_type": "code",
   "execution_count": null,
   "id": "643f2202",
   "metadata": {},
   "outputs": [],
   "source": [
    "list1 = [10, 20, [300, 400, [5000, 6000], 500], 30, 40]\n",
    "list1[2][2].append(7000)\n",
    "list1"
   ]
  },
  {
   "cell_type": "code",
   "execution_count": null,
   "id": "f756a0bc",
   "metadata": {},
   "outputs": [],
   "source": [
    "list1 = [5, 20, 15, 20, 25, 50, 20]\n",
    "list1=[i for i in list1 if i!=20]\n",
    "list1"
   ]
  },
  {
   "cell_type": "code",
   "execution_count": null,
   "id": "b4caa252",
   "metadata": {},
   "outputs": [],
   "source": [
    "d1 = {'a': 100, 'b': 200, 'c': 300}\n",
    "if 200 in d1.values():\n",
    "    print(\"yes\")"
   ]
  },
  {
   "cell_type": "code",
   "execution_count": 1,
   "id": "f4b6b16f",
   "metadata": {
    "scrolled": false
   },
   "outputs": [
    {
     "name": "stdout",
     "output_type": "stream",
     "text": [
      "245999997.7614\n"
     ]
    }
   ],
   "source": [
    "n=10\n",
    "print(0.0246 * (pow(10, n) - 1 - (9 * n)))"
   ]
  },
  {
   "cell_type": "markdown",
   "id": "64133164",
   "metadata": {},
   "source": [
    "# Lab 2 "
   ]
  },
  {
   "cell_type": "code",
   "execution_count": null,
   "id": "12c33322",
   "metadata": {},
   "outputs": [],
   "source": [
    "import pandas as pd\n",
    "import numpy as np\n"
   ]
  },
  {
   "cell_type": "code",
   "execution_count": null,
   "id": "f59ae047",
   "metadata": {},
   "outputs": [],
   "source": [
    "sal=pd.read_csv(\"Salaries.csv\")"
   ]
  },
  {
   "cell_type": "code",
   "execution_count": null,
   "id": "43ce86ed",
   "metadata": {},
   "outputs": [],
   "source": [
    "sal.head(2)"
   ]
  },
  {
   "cell_type": "code",
   "execution_count": null,
   "id": "a0fe2f83",
   "metadata": {},
   "outputs": [],
   "source": [
    "sal.info()"
   ]
  },
  {
   "cell_type": "code",
   "execution_count": null,
   "id": "08bfd65c",
   "metadata": {},
   "outputs": [],
   "source": [
    "pd.to_numeric(sal['BasePay'], errors='coerce').mean()"
   ]
  },
  {
   "cell_type": "code",
   "execution_count": null,
   "id": "8a724e85",
   "metadata": {},
   "outputs": [],
   "source": [
    "\n",
    "pd.to_numeric(sal['OvertimePay'], errors='coerce').max()"
   ]
  },
  {
   "cell_type": "code",
   "execution_count": null,
   "id": "7d24694d",
   "metadata": {},
   "outputs": [],
   "source": [
    "sal[sal['EmployeeName'] == 'JOSEPH DRISCOLL']['JobTitle']"
   ]
  },
  {
   "cell_type": "code",
   "execution_count": null,
   "id": "bbf2ca13",
   "metadata": {},
   "outputs": [],
   "source": [
    "sal[sal['EmployeeName'] == 'JOSEPH DRISCOLL']['TotalPayBenefits']"
   ]
  },
  {
   "cell_type": "code",
   "execution_count": null,
   "id": "ee8fc609",
   "metadata": {},
   "outputs": [],
   "source": [
    "sal[sal['TotalPayBenefits'] == sal['TotalPayBenefits'].max()]"
   ]
  },
  {
   "cell_type": "code",
   "execution_count": null,
   "id": "ed99208a",
   "metadata": {},
   "outputs": [],
   "source": [
    "sal[sal['TotalPayBenefits']  == sal['TotalPayBenefits'].min()]"
   ]
  },
  {
   "cell_type": "code",
   "execution_count": null,
   "id": "670324ef",
   "metadata": {},
   "outputs": [],
   "source": [
    "newdf=sal[['Year', 'BasePay']]"
   ]
  },
  {
   "cell_type": "code",
   "execution_count": null,
   "id": "e15a0002",
   "metadata": {
    "scrolled": true
   },
   "outputs": [],
   "source": [
    "for k in [2011, 2012, 2013, 2014]:\n",
    "    odf=pd.DataFrame(columns=['Year', 'BasePay'])\n",
    "    for i in range(len(newdf)):\n",
    "        x=newdf.iloc[i, 0]\n",
    "        y=newdf.iloc[i, 1]\n",
    "        if x==2011:\n",
    "            odf.append({'Year':x, \"BasePay\": y},ignore_index=True )\n",
    "#             print(type(y))\n",
    "    print(\"for \", x,\" \",pd.to_numeric(odf['BasePay'], errors='coerce').mean())"
   ]
  },
  {
   "cell_type": "code",
   "execution_count": null,
   "id": "849af428",
   "metadata": {},
   "outputs": [],
   "source": [
    "sal['JobTitle'].nunique()"
   ]
  },
  {
   "cell_type": "code",
   "execution_count": null,
   "id": "db8ce607",
   "metadata": {},
   "outputs": [],
   "source": [
    "grouped = sal.groupby('JobTitle').count()\n",
    "top5 = grouped.sort_values(by='Id',  ascending=False)[:5]\n",
    "top5['Id']"
   ]
  },
  {
   "cell_type": "code",
   "execution_count": null,
   "id": "ef2a25d8",
   "metadata": {},
   "outputs": [],
   "source": [
    "copied_sal = sal[sal['Year'] == 2013]\n",
    "group = copied_sal.groupby('JobTitle').count()\n",
    "count = group[group['Id'] == 1]\n",
    "count.count()['Id']"
   ]
  },
  {
   "cell_type": "code",
   "execution_count": null,
   "id": "46ea7111",
   "metadata": {},
   "outputs": [],
   "source": [
    "def find_chief(job_title):    \n",
    "    if 'chief' in job_title.lower().split():\n",
    "        return True\n",
    "    else:\n",
    "        return False\n",
    "\n",
    "sal = pd.read_csv('Salaries.csv')\n",
    "\n",
    "sum(sal['JobTitle'].apply(lambda x: find_chief(x)))"
   ]
  },
  {
   "cell_type": "code",
   "execution_count": null,
   "id": "6795d734",
   "metadata": {},
   "outputs": [],
   "source": [
    "sal['title_len'] = sal['JobTitle'].apply(len)\n",
    "\n",
    "sal[['title_len', 'TotalPayBenefits']].corr()"
   ]
  },
  {
   "cell_type": "code",
   "execution_count": null,
   "id": "cbc15d7c",
   "metadata": {},
   "outputs": [],
   "source": []
  }
 ],
 "metadata": {
  "kernelspec": {
   "display_name": "Python 3 (ipykernel)",
   "language": "python",
   "name": "python3"
  },
  "language_info": {
   "codemirror_mode": {
    "name": "ipython",
    "version": 3
   },
   "file_extension": ".py",
   "mimetype": "text/x-python",
   "name": "python",
   "nbconvert_exporter": "python",
   "pygments_lexer": "ipython3",
   "version": "3.9.7"
  }
 },
 "nbformat": 4,
 "nbformat_minor": 5
}
