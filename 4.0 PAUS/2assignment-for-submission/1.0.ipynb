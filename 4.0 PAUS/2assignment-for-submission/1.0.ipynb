{
 "cells": [
  {
   "cell_type": "code",
   "execution_count": 11,
   "id": "56f8a2ca",
   "metadata": {},
   "outputs": [
    {
     "name": "stderr",
     "output_type": "stream",
     "text": [
      "also installing the dependencies 'diffobj', 'brio', 'cli', 'lifecycle', 'rlang', 'waldo', 'testthat'\n",
      "\n"
     ]
    },
    {
     "name": "stdout",
     "output_type": "stream",
     "text": [
      "\n",
      "  There are binary versions available but the source versions are later:\n",
      "          binary source needs_compilation\n",
      "diffobj    0.3.4  0.3.5              TRUE\n",
      "brio       1.1.2  1.1.3              TRUE\n",
      "cli        2.5.0  3.1.1              TRUE\n",
      "lifecycle  1.0.0  1.0.1             FALSE\n",
      "rlang     0.4.11  1.0.1              TRUE\n",
      "waldo      0.2.5  0.3.1             FALSE\n",
      "testthat   3.0.2  3.1.2              TRUE\n",
      "Peptides   2.4.3  2.4.4              TRUE\n",
      "\n"
     ]
    },
    {
     "name": "stderr",
     "output_type": "stream",
     "text": [
      "installing the source packages 'diffobj', 'brio', 'cli', 'lifecycle', 'rlang', 'waldo', 'testthat', 'Peptides'\n",
      "\n",
      "Warning message in install.packages(\"Peptides\", dependencies = TRUE):\n",
      "\"installation of package 'diffobj' had non-zero exit status\"Warning message in install.packages(\"Peptides\", dependencies = TRUE):\n",
      "\"installation of package 'brio' had non-zero exit status\"Warning message in install.packages(\"Peptides\", dependencies = TRUE):\n",
      "\"installation of package 'cli' had non-zero exit status\"Warning message in install.packages(\"Peptides\", dependencies = TRUE):\n",
      "\"installation of package 'rlang' had non-zero exit status\"Warning message in install.packages(\"Peptides\", dependencies = TRUE):\n",
      "\"installation of package 'Peptides' had non-zero exit status\"Warning message in install.packages(\"Peptides\", dependencies = TRUE):\n",
      "\"installation of package 'lifecycle' had non-zero exit status\"Warning message in install.packages(\"Peptides\", dependencies = TRUE):\n",
      "\"installation of package 'waldo' had non-zero exit status\"Warning message in install.packages(\"Peptides\", dependencies = TRUE):\n",
      "\"installation of package 'testthat' had non-zero exit status\""
     ]
    }
   ],
   "source": [
    "install.packages('Peptides', dependencies=TRUE)"
   ]
  },
  {
   "cell_type": "code",
   "execution_count": 12,
   "id": "8ebcacb9",
   "metadata": {},
   "outputs": [
    {
     "name": "stdout",
     "output_type": "stream",
     "text": [
      "\n",
      "  There is a binary version available but the source version is later:\n",
      "        binary source needs_compilation\n",
      "diffobj  0.3.4  0.3.5              TRUE\n",
      "\n"
     ]
    },
    {
     "name": "stderr",
     "output_type": "stream",
     "text": [
      "installing the source package 'diffobj'\n",
      "\n",
      "Warning message in install.packages(\"diffobj\"):\n",
      "\"installation of package 'diffobj' had non-zero exit status\""
     ]
    }
   ],
   "source": [
    "install.packages('diffobj')"
   ]
  },
  {
   "cell_type": "code",
   "execution_count": 3,
   "id": "51c71216",
   "metadata": {
    "scrolled": true
   },
   "outputs": [
    {
     "name": "stderr",
     "output_type": "stream",
     "text": [
      "also installing the dependency 'discreteRV'\n",
      "\n"
     ]
    },
    {
     "name": "stdout",
     "output_type": "stream",
     "text": [
      "package 'discreteRV' successfully unpacked and MD5 sums checked\n",
      "package 'peptider' successfully unpacked and MD5 sums checked\n",
      "\n",
      "The downloaded binary packages are in\n",
      "\tC:\\Users\\Prince\\AppData\\Local\\Temp\\RtmpEXeUp5\\downloaded_packages\n"
     ]
    }
   ],
   "source": [
    "install.packages('peptider')"
   ]
  },
  {
   "cell_type": "code",
   "execution_count": 13,
   "id": "ac9382f2",
   "metadata": {},
   "outputs": [
    {
     "ename": "ERROR",
     "evalue": "Error in library(Peptides): there is no package called 'Peptides'\n",
     "output_type": "error",
     "traceback": [
      "Error in library(Peptides): there is no package called 'Peptides'\nTraceback:\n",
      "1. library(Peptides)"
     ]
    }
   ],
   "source": [
    "library(Peptides)\n",
    "library(peptider)\n",
    "mydata=read.table(\"input.csv\")\n",
    "\n",
    "mydata"
   ]
  },
  {
   "cell_type": "code",
   "execution_count": 4,
   "id": "17dff2b3",
   "metadata": {},
   "outputs": [
    {
     "data": {
      "text/html": [
       "<table>\n",
       "<thead><tr><th scope=col>Peptide.Sequence</th><th scope=col>Target</th></tr></thead>\n",
       "<tbody>\n",
       "\t<tr><td>TLYGPQLSQKIVQIN         </td><td>0                       </td></tr>\n",
       "\t<tr><td>PSWGLVVTMFAWGYLLDHVGERMV</td><td>1                       </td></tr>\n",
       "\t<tr><td>TMIKTAVAVV              </td><td>1                       </td></tr>\n",
       "\t<tr><td>AGISSLIIDPNPMFV         </td><td>1                       </td></tr>\n",
       "\t<tr><td>DPMIVGVLFIEIHMM         </td><td>0                       </td></tr>\n",
       "\t<tr><td>ELNNALQNLARTISE         </td><td>1                       </td></tr>\n",
       "</tbody>\n",
       "</table>\n"
      ],
      "text/latex": [
       "\\begin{tabular}{r|ll}\n",
       " Peptide.Sequence & Target\\\\\n",
       "\\hline\n",
       "\t TLYGPQLSQKIVQIN          & 0                       \\\\\n",
       "\t PSWGLVVTMFAWGYLLDHVGERMV & 1                       \\\\\n",
       "\t TMIKTAVAVV               & 1                       \\\\\n",
       "\t AGISSLIIDPNPMFV          & 1                       \\\\\n",
       "\t DPMIVGVLFIEIHMM          & 0                       \\\\\n",
       "\t ELNNALQNLARTISE          & 1                       \\\\\n",
       "\\end{tabular}\n"
      ],
      "text/markdown": [
       "\n",
       "| Peptide.Sequence | Target |\n",
       "|---|---|\n",
       "| TLYGPQLSQKIVQIN          | 0                        |\n",
       "| PSWGLVVTMFAWGYLLDHVGERMV | 1                        |\n",
       "| TMIKTAVAVV               | 1                        |\n",
       "| AGISSLIIDPNPMFV          | 1                        |\n",
       "| DPMIVGVLFIEIHMM          | 0                        |\n",
       "| ELNNALQNLARTISE          | 1                        |\n",
       "\n"
      ],
      "text/plain": [
       "  Peptide.Sequence         Target\n",
       "1 TLYGPQLSQKIVQIN          0     \n",
       "2 PSWGLVVTMFAWGYLLDHVGERMV 1     \n",
       "3 TMIKTAVAVV               1     \n",
       "4 AGISSLIIDPNPMFV          1     \n",
       "5 DPMIVGVLFIEIHMM          0     \n",
       "6 ELNNALQNLARTISE          1     "
      ]
     },
     "metadata": {},
     "output_type": "display_data"
    }
   ],
   "source": [
    "head(df)"
   ]
  },
  {
   "cell_type": "code",
   "execution_count": 10,
   "id": "5f135412",
   "metadata": {},
   "outputs": [
    {
     "name": "stderr",
     "output_type": "stream",
     "text": [
      "Loading required package: devtools\n",
      "Warning message in library(package, lib.loc = lib.loc, character.only = TRUE, logical.return = TRUE, :\n",
      "\"there is no package called 'devtools'\""
     ]
    },
    {
     "ename": "ERROR",
     "evalue": "Error in install_github(\"topepo/C5.0\"): could not find function \"install_github\"\n",
     "output_type": "error",
     "traceback": [
      "Error in install_github(\"topepo/C5.0\"): could not find function \"install_github\"\nTraceback:\n"
     ]
    }
   ],
   "source": [
    "require(\"devtools\")\n",
    "install_github(\"topepo/C5.0\")"
   ]
  },
  {
   "cell_type": "code",
   "execution_count": null,
   "id": "47ea07f2",
   "metadata": {},
   "outputs": [],
   "source": [
    "library()\n",
    "library"
   ]
  },
  {
   "cell_type": "code",
   "execution_count": 3,
   "id": "8b2edfac",
   "metadata": {},
   "outputs": [
    {
     "data": {
      "text/html": [
       "<table>\n",
       "<thead><tr><th scope=col>Peptide.Sequence</th><th scope=col>Target</th></tr></thead>\n",
       "<tbody>\n",
       "\t<tr><td>TLYGPQLSQKIVQIN         </td><td>0                       </td></tr>\n",
       "\t<tr><td>PSWGLVVTMFAWGYLLDHVGERMV</td><td>1                       </td></tr>\n",
       "\t<tr><td>TMIKTAVAVV              </td><td>1                       </td></tr>\n",
       "\t<tr><td>AGISSLIIDPNPMFV         </td><td>1                       </td></tr>\n",
       "\t<tr><td>DPMIVGVLFIEIHMM         </td><td>0                       </td></tr>\n",
       "\t<tr><td>ELNNALQNLARTISE         </td><td>1                       </td></tr>\n",
       "</tbody>\n",
       "</table>\n"
      ],
      "text/latex": [
       "\\begin{tabular}{r|ll}\n",
       " Peptide.Sequence & Target\\\\\n",
       "\\hline\n",
       "\t TLYGPQLSQKIVQIN          & 0                       \\\\\n",
       "\t PSWGLVVTMFAWGYLLDHVGERMV & 1                       \\\\\n",
       "\t TMIKTAVAVV               & 1                       \\\\\n",
       "\t AGISSLIIDPNPMFV          & 1                       \\\\\n",
       "\t DPMIVGVLFIEIHMM          & 0                       \\\\\n",
       "\t ELNNALQNLARTISE          & 1                       \\\\\n",
       "\\end{tabular}\n"
      ],
      "text/markdown": [
       "\n",
       "| Peptide.Sequence | Target |\n",
       "|---|---|\n",
       "| TLYGPQLSQKIVQIN          | 0                        |\n",
       "| PSWGLVVTMFAWGYLLDHVGERMV | 1                        |\n",
       "| TMIKTAVAVV               | 1                        |\n",
       "| AGISSLIIDPNPMFV          | 1                        |\n",
       "| DPMIVGVLFIEIHMM          | 0                        |\n",
       "| ELNNALQNLARTISE          | 1                        |\n",
       "\n"
      ],
      "text/plain": [
       "  Peptide.Sequence         Target\n",
       "1 TLYGPQLSQKIVQIN          0     \n",
       "2 PSWGLVVTMFAWGYLLDHVGERMV 1     \n",
       "3 TMIKTAVAVV               1     \n",
       "4 AGISSLIIDPNPMFV          1     \n",
       "5 DPMIVGVLFIEIHMM          0     \n",
       "6 ELNNALQNLARTISE          1     "
      ]
     },
     "metadata": {},
     "output_type": "display_data"
    }
   ],
   "source": [
    "mydata=read.csv(\"input.csv\")\n",
    "\n",
    "head(mydata)"
   ]
  },
  {
   "cell_type": "code",
   "execution_count": 9,
   "id": "b392f8a0",
   "metadata": {},
   "outputs": [],
   "source": [
    "colm=colnames(mydata)"
   ]
  },
  {
   "cell_type": "code",
   "execution_count": 10,
   "id": "61327b78",
   "metadata": {},
   "outputs": [
    {
     "data": {
      "text/html": [
       "<ol class=list-inline>\n",
       "\t<li>'Peptide.Sequence'</li>\n",
       "\t<li>'Target'</li>\n",
       "</ol>\n"
      ],
      "text/latex": [
       "\\begin{enumerate*}\n",
       "\\item 'Peptide.Sequence'\n",
       "\\item 'Target'\n",
       "\\end{enumerate*}\n"
      ],
      "text/markdown": [
       "1. 'Peptide.Sequence'\n",
       "2. 'Target'\n",
       "\n",
       "\n"
      ],
      "text/plain": [
       "[1] \"Peptide.Sequence\" \"Target\"          "
      ]
     },
     "metadata": {},
     "output_type": "display_data"
    }
   ],
   "source": [
    "colm"
   ]
  },
  {
   "cell_type": "code",
   "execution_count": 11,
   "id": "a1056c4e",
   "metadata": {},
   "outputs": [
    {
     "data": {
      "text/html": [
       "TRUE"
      ],
      "text/latex": [
       "TRUE"
      ],
      "text/markdown": [
       "TRUE"
      ],
      "text/plain": [
       "[1] TRUE"
      ]
     },
     "metadata": {},
     "output_type": "display_data"
    }
   ],
   "source": [
    "colm[1]==\"Peptide.Sequence\""
   ]
  },
  {
   "cell_type": "code",
   "execution_count": null,
   "id": "db0bc645",
   "metadata": {},
   "outputs": [],
   "source": []
  },
  {
   "cell_type": "code",
   "execution_count": null,
   "id": "5c3b516c",
   "metadata": {},
   "outputs": [],
   "source": []
  }
 ],
 "metadata": {
  "kernelspec": {
   "display_name": "R",
   "language": "R",
   "name": "ir"
  },
  "language_info": {
   "codemirror_mode": "r",
   "file_extension": ".r",
   "mimetype": "text/x-r-source",
   "name": "R",
   "pygments_lexer": "r",
   "version": "3.6.1"
  }
 },
 "nbformat": 4,
 "nbformat_minor": 5
}
